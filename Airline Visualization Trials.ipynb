{
 "cells": [
  {
   "cell_type": "markdown",
   "metadata": {},
   "source": [
    "# Airline Sentiment Data"
   ]
  },
  {
   "cell_type": "markdown",
   "metadata": {},
   "source": [
    "## Data Exploration"
   ]
  },
  {
   "cell_type": "code",
   "execution_count": 1,
   "metadata": {},
   "outputs": [],
   "source": [
    "import numpy as np\n",
    "import pandas as pd"
   ]
  },
  {
   "cell_type": "code",
   "execution_count": 2,
   "metadata": {},
   "outputs": [],
   "source": [
    "air_df = pd.read_csv('Airline-Sentiment-2-w-AA.csv', encoding='latin1')"
   ]
  },
  {
   "cell_type": "code",
   "execution_count": 3,
   "metadata": {},
   "outputs": [
    {
     "data": {
      "text/html": [
       "<div>\n",
       "<style scoped>\n",
       "    .dataframe tbody tr th:only-of-type {\n",
       "        vertical-align: middle;\n",
       "    }\n",
       "\n",
       "    .dataframe tbody tr th {\n",
       "        vertical-align: top;\n",
       "    }\n",
       "\n",
       "    .dataframe thead th {\n",
       "        text-align: right;\n",
       "    }\n",
       "</style>\n",
       "<table border=\"1\" class=\"dataframe\">\n",
       "  <thead>\n",
       "    <tr style=\"text-align: right;\">\n",
       "      <th></th>\n",
       "      <th>_unit_id</th>\n",
       "      <th>_golden</th>\n",
       "      <th>_unit_state</th>\n",
       "      <th>_trusted_judgments</th>\n",
       "      <th>_last_judgment_at</th>\n",
       "      <th>airline_sentiment</th>\n",
       "      <th>airline_sentiment:confidence</th>\n",
       "      <th>negativereason</th>\n",
       "      <th>negativereason:confidence</th>\n",
       "      <th>airline</th>\n",
       "      <th>airline_sentiment_gold</th>\n",
       "      <th>name</th>\n",
       "      <th>negativereason_gold</th>\n",
       "      <th>retweet_count</th>\n",
       "      <th>text</th>\n",
       "      <th>tweet_coord</th>\n",
       "      <th>tweet_created</th>\n",
       "      <th>tweet_id</th>\n",
       "      <th>tweet_location</th>\n",
       "      <th>user_timezone</th>\n",
       "    </tr>\n",
       "  </thead>\n",
       "  <tbody>\n",
       "    <tr>\n",
       "      <th>0</th>\n",
       "      <td>681448150</td>\n",
       "      <td>False</td>\n",
       "      <td>finalized</td>\n",
       "      <td>3</td>\n",
       "      <td>2/25/15 5:24</td>\n",
       "      <td>neutral</td>\n",
       "      <td>1.0000</td>\n",
       "      <td>NaN</td>\n",
       "      <td>NaN</td>\n",
       "      <td>Virgin America</td>\n",
       "      <td>NaN</td>\n",
       "      <td>cairdin</td>\n",
       "      <td>NaN</td>\n",
       "      <td>0</td>\n",
       "      <td>@VirginAmerica What @dhepburn said.</td>\n",
       "      <td>NaN</td>\n",
       "      <td>2/24/15 11:35</td>\n",
       "      <td>5.703060e+17</td>\n",
       "      <td>NaN</td>\n",
       "      <td>Eastern Time (US &amp; Canada)</td>\n",
       "    </tr>\n",
       "    <tr>\n",
       "      <th>1</th>\n",
       "      <td>681448153</td>\n",
       "      <td>False</td>\n",
       "      <td>finalized</td>\n",
       "      <td>3</td>\n",
       "      <td>2/25/15 1:53</td>\n",
       "      <td>positive</td>\n",
       "      <td>0.3486</td>\n",
       "      <td>NaN</td>\n",
       "      <td>0.0000</td>\n",
       "      <td>Virgin America</td>\n",
       "      <td>NaN</td>\n",
       "      <td>jnardino</td>\n",
       "      <td>NaN</td>\n",
       "      <td>0</td>\n",
       "      <td>@VirginAmerica plus you've added commercials t...</td>\n",
       "      <td>NaN</td>\n",
       "      <td>2/24/15 11:15</td>\n",
       "      <td>5.703010e+17</td>\n",
       "      <td>NaN</td>\n",
       "      <td>Pacific Time (US &amp; Canada)</td>\n",
       "    </tr>\n",
       "    <tr>\n",
       "      <th>2</th>\n",
       "      <td>681448156</td>\n",
       "      <td>False</td>\n",
       "      <td>finalized</td>\n",
       "      <td>3</td>\n",
       "      <td>2/25/15 10:01</td>\n",
       "      <td>neutral</td>\n",
       "      <td>0.6837</td>\n",
       "      <td>NaN</td>\n",
       "      <td>NaN</td>\n",
       "      <td>Virgin America</td>\n",
       "      <td>NaN</td>\n",
       "      <td>yvonnalynn</td>\n",
       "      <td>NaN</td>\n",
       "      <td>0</td>\n",
       "      <td>@VirginAmerica I didn't today... Must mean I n...</td>\n",
       "      <td>NaN</td>\n",
       "      <td>2/24/15 11:15</td>\n",
       "      <td>5.703010e+17</td>\n",
       "      <td>Lets Play</td>\n",
       "      <td>Central Time (US &amp; Canada)</td>\n",
       "    </tr>\n",
       "    <tr>\n",
       "      <th>3</th>\n",
       "      <td>681448158</td>\n",
       "      <td>False</td>\n",
       "      <td>finalized</td>\n",
       "      <td>3</td>\n",
       "      <td>2/25/15 3:05</td>\n",
       "      <td>negative</td>\n",
       "      <td>1.0000</td>\n",
       "      <td>Bad Flight</td>\n",
       "      <td>0.7033</td>\n",
       "      <td>Virgin America</td>\n",
       "      <td>NaN</td>\n",
       "      <td>jnardino</td>\n",
       "      <td>NaN</td>\n",
       "      <td>0</td>\n",
       "      <td>@VirginAmerica it's really aggressive to blast...</td>\n",
       "      <td>NaN</td>\n",
       "      <td>2/24/15 11:15</td>\n",
       "      <td>5.703010e+17</td>\n",
       "      <td>NaN</td>\n",
       "      <td>Pacific Time (US &amp; Canada)</td>\n",
       "    </tr>\n",
       "    <tr>\n",
       "      <th>4</th>\n",
       "      <td>681448159</td>\n",
       "      <td>False</td>\n",
       "      <td>finalized</td>\n",
       "      <td>3</td>\n",
       "      <td>2/25/15 5:50</td>\n",
       "      <td>negative</td>\n",
       "      <td>1.0000</td>\n",
       "      <td>Can't Tell</td>\n",
       "      <td>1.0000</td>\n",
       "      <td>Virgin America</td>\n",
       "      <td>NaN</td>\n",
       "      <td>jnardino</td>\n",
       "      <td>NaN</td>\n",
       "      <td>0</td>\n",
       "      <td>@VirginAmerica and it's a really big bad thing...</td>\n",
       "      <td>NaN</td>\n",
       "      <td>2/24/15 11:14</td>\n",
       "      <td>5.703010e+17</td>\n",
       "      <td>NaN</td>\n",
       "      <td>Pacific Time (US &amp; Canada)</td>\n",
       "    </tr>\n",
       "  </tbody>\n",
       "</table>\n",
       "</div>"
      ],
      "text/plain": [
       "    _unit_id  _golden _unit_state  _trusted_judgments _last_judgment_at  \\\n",
       "0  681448150    False   finalized                   3      2/25/15 5:24   \n",
       "1  681448153    False   finalized                   3      2/25/15 1:53   \n",
       "2  681448156    False   finalized                   3     2/25/15 10:01   \n",
       "3  681448158    False   finalized                   3      2/25/15 3:05   \n",
       "4  681448159    False   finalized                   3      2/25/15 5:50   \n",
       "\n",
       "  airline_sentiment  airline_sentiment:confidence negativereason  \\\n",
       "0           neutral                        1.0000            NaN   \n",
       "1          positive                        0.3486            NaN   \n",
       "2           neutral                        0.6837            NaN   \n",
       "3          negative                        1.0000     Bad Flight   \n",
       "4          negative                        1.0000     Can't Tell   \n",
       "\n",
       "   negativereason:confidence         airline airline_sentiment_gold  \\\n",
       "0                        NaN  Virgin America                    NaN   \n",
       "1                     0.0000  Virgin America                    NaN   \n",
       "2                        NaN  Virgin America                    NaN   \n",
       "3                     0.7033  Virgin America                    NaN   \n",
       "4                     1.0000  Virgin America                    NaN   \n",
       "\n",
       "         name negativereason_gold  retweet_count  \\\n",
       "0     cairdin                 NaN              0   \n",
       "1    jnardino                 NaN              0   \n",
       "2  yvonnalynn                 NaN              0   \n",
       "3    jnardino                 NaN              0   \n",
       "4    jnardino                 NaN              0   \n",
       "\n",
       "                                                text tweet_coord  \\\n",
       "0                @VirginAmerica What @dhepburn said.         NaN   \n",
       "1  @VirginAmerica plus you've added commercials t...         NaN   \n",
       "2  @VirginAmerica I didn't today... Must mean I n...         NaN   \n",
       "3  @VirginAmerica it's really aggressive to blast...         NaN   \n",
       "4  @VirginAmerica and it's a really big bad thing...         NaN   \n",
       "\n",
       "   tweet_created      tweet_id tweet_location               user_timezone  \n",
       "0  2/24/15 11:35  5.703060e+17            NaN  Eastern Time (US & Canada)  \n",
       "1  2/24/15 11:15  5.703010e+17            NaN  Pacific Time (US & Canada)  \n",
       "2  2/24/15 11:15  5.703010e+17      Lets Play  Central Time (US & Canada)  \n",
       "3  2/24/15 11:15  5.703010e+17            NaN  Pacific Time (US & Canada)  \n",
       "4  2/24/15 11:14  5.703010e+17            NaN  Pacific Time (US & Canada)  "
      ]
     },
     "execution_count": 3,
     "metadata": {},
     "output_type": "execute_result"
    }
   ],
   "source": [
    "air_df.head()"
   ]
  },
  {
   "cell_type": "code",
   "execution_count": 4,
   "metadata": {},
   "outputs": [
    {
     "data": {
      "text/plain": [
       "_unit_id                          int64\n",
       "_golden                            bool\n",
       "_unit_state                      object\n",
       "_trusted_judgments                int64\n",
       "_last_judgment_at                object\n",
       "airline_sentiment                object\n",
       "airline_sentiment:confidence    float64\n",
       "negativereason                   object\n",
       "negativereason:confidence       float64\n",
       "airline                          object\n",
       "airline_sentiment_gold           object\n",
       "name                             object\n",
       "negativereason_gold              object\n",
       "retweet_count                     int64\n",
       "text                             object\n",
       "tweet_coord                      object\n",
       "tweet_created                    object\n",
       "tweet_id                        float64\n",
       "tweet_location                   object\n",
       "user_timezone                    object\n",
       "dtype: object"
      ]
     },
     "execution_count": 4,
     "metadata": {},
     "output_type": "execute_result"
    }
   ],
   "source": [
    "air_df.dtypes"
   ]
  },
  {
   "cell_type": "code",
   "execution_count": 5,
   "metadata": {},
   "outputs": [
    {
     "data": {
      "text/plain": [
       "0    1.0000\n",
       "1    0.3486\n",
       "2    0.6837\n",
       "3    1.0000\n",
       "4    1.0000\n",
       "5    1.0000\n",
       "6    0.6745\n",
       "7    0.6340\n",
       "8    0.6559\n",
       "9    1.0000\n",
       "Name: airline_sentiment:confidence, dtype: float64"
      ]
     },
     "execution_count": 5,
     "metadata": {},
     "output_type": "execute_result"
    }
   ],
   "source": [
    "air_df['airline_sentiment:confidence'][:10]"
   ]
  },
  {
   "cell_type": "code",
   "execution_count": 6,
   "metadata": {},
   "outputs": [
    {
     "data": {
      "text/plain": [
       "(14640, 20)"
      ]
     },
     "execution_count": 6,
     "metadata": {},
     "output_type": "execute_result"
    }
   ],
   "source": [
    "air_df.shape"
   ]
  },
  {
   "cell_type": "code",
   "execution_count": 7,
   "metadata": {},
   "outputs": [
    {
     "name": "stdout",
     "output_type": "stream",
     "text": [
      "<class 'pandas.core.frame.DataFrame'>\n",
      "RangeIndex: 14640 entries, 0 to 14639\n",
      "Data columns (total 20 columns):\n",
      " #   Column                        Non-Null Count  Dtype  \n",
      "---  ------                        --------------  -----  \n",
      " 0   _unit_id                      14640 non-null  int64  \n",
      " 1   _golden                       14640 non-null  bool   \n",
      " 2   _unit_state                   14640 non-null  object \n",
      " 3   _trusted_judgments            14640 non-null  int64  \n",
      " 4   _last_judgment_at             14584 non-null  object \n",
      " 5   airline_sentiment             14640 non-null  object \n",
      " 6   airline_sentiment:confidence  14640 non-null  float64\n",
      " 7   negativereason                9178 non-null   object \n",
      " 8   negativereason:confidence     10522 non-null  float64\n",
      " 9   airline                       14640 non-null  object \n",
      " 10  airline_sentiment_gold        40 non-null     object \n",
      " 11  name                          14640 non-null  object \n",
      " 12  negativereason_gold           32 non-null     object \n",
      " 13  retweet_count                 14640 non-null  int64  \n",
      " 14  text                          14640 non-null  object \n",
      " 15  tweet_coord                   1019 non-null   object \n",
      " 16  tweet_created                 14640 non-null  object \n",
      " 17  tweet_id                      14640 non-null  float64\n",
      " 18  tweet_location                9907 non-null   object \n",
      " 19  user_timezone                 9820 non-null   object \n",
      "dtypes: bool(1), float64(3), int64(3), object(13)\n",
      "memory usage: 2.1+ MB\n"
     ]
    }
   ],
   "source": [
    "air_df.info()"
   ]
  },
  {
   "cell_type": "code",
   "execution_count": 8,
   "metadata": {},
   "outputs": [
    {
     "data": {
      "text/html": [
       "<div>\n",
       "<style scoped>\n",
       "    .dataframe tbody tr th:only-of-type {\n",
       "        vertical-align: middle;\n",
       "    }\n",
       "\n",
       "    .dataframe tbody tr th {\n",
       "        vertical-align: top;\n",
       "    }\n",
       "\n",
       "    .dataframe thead th {\n",
       "        text-align: right;\n",
       "    }\n",
       "</style>\n",
       "<table border=\"1\" class=\"dataframe\">\n",
       "  <thead>\n",
       "    <tr style=\"text-align: right;\">\n",
       "      <th></th>\n",
       "      <th>_unit_id</th>\n",
       "      <th>_trusted_judgments</th>\n",
       "      <th>airline_sentiment:confidence</th>\n",
       "      <th>negativereason:confidence</th>\n",
       "      <th>retweet_count</th>\n",
       "      <th>tweet_id</th>\n",
       "    </tr>\n",
       "  </thead>\n",
       "  <tbody>\n",
       "    <tr>\n",
       "      <th>count</th>\n",
       "      <td>1.464000e+04</td>\n",
       "      <td>14640.000000</td>\n",
       "      <td>14640.000000</td>\n",
       "      <td>10522.000000</td>\n",
       "      <td>14640.000000</td>\n",
       "      <td>1.464000e+04</td>\n",
       "    </tr>\n",
       "    <tr>\n",
       "      <th>mean</th>\n",
       "      <td>6.814957e+08</td>\n",
       "      <td>3.618648</td>\n",
       "      <td>0.900169</td>\n",
       "      <td>0.638298</td>\n",
       "      <td>0.082650</td>\n",
       "      <td>5.692184e+17</td>\n",
       "    </tr>\n",
       "    <tr>\n",
       "      <th>std</th>\n",
       "      <td>8.504314e+04</td>\n",
       "      <td>11.858704</td>\n",
       "      <td>0.162830</td>\n",
       "      <td>0.330440</td>\n",
       "      <td>0.745778</td>\n",
       "      <td>7.791092e+14</td>\n",
       "    </tr>\n",
       "    <tr>\n",
       "      <th>min</th>\n",
       "      <td>6.814482e+08</td>\n",
       "      <td>2.000000</td>\n",
       "      <td>0.335000</td>\n",
       "      <td>0.000000</td>\n",
       "      <td>0.000000</td>\n",
       "      <td>5.675880e+17</td>\n",
       "    </tr>\n",
       "    <tr>\n",
       "      <th>25%</th>\n",
       "      <td>6.814536e+08</td>\n",
       "      <td>3.000000</td>\n",
       "      <td>0.692300</td>\n",
       "      <td>0.360600</td>\n",
       "      <td>0.000000</td>\n",
       "      <td>5.685590e+17</td>\n",
       "    </tr>\n",
       "    <tr>\n",
       "      <th>50%</th>\n",
       "      <td>6.814578e+08</td>\n",
       "      <td>3.000000</td>\n",
       "      <td>1.000000</td>\n",
       "      <td>0.670600</td>\n",
       "      <td>0.000000</td>\n",
       "      <td>5.694780e+17</td>\n",
       "    </tr>\n",
       "    <tr>\n",
       "      <th>75%</th>\n",
       "      <td>6.814623e+08</td>\n",
       "      <td>3.000000</td>\n",
       "      <td>1.000000</td>\n",
       "      <td>1.000000</td>\n",
       "      <td>0.000000</td>\n",
       "      <td>5.698902e+17</td>\n",
       "    </tr>\n",
       "    <tr>\n",
       "      <th>max</th>\n",
       "      <td>6.816798e+08</td>\n",
       "      <td>248.000000</td>\n",
       "      <td>1.000000</td>\n",
       "      <td>1.000000</td>\n",
       "      <td>44.000000</td>\n",
       "      <td>5.703110e+17</td>\n",
       "    </tr>\n",
       "  </tbody>\n",
       "</table>\n",
       "</div>"
      ],
      "text/plain": [
       "           _unit_id  _trusted_judgments  airline_sentiment:confidence  \\\n",
       "count  1.464000e+04        14640.000000                  14640.000000   \n",
       "mean   6.814957e+08            3.618648                      0.900169   \n",
       "std    8.504314e+04           11.858704                      0.162830   \n",
       "min    6.814482e+08            2.000000                      0.335000   \n",
       "25%    6.814536e+08            3.000000                      0.692300   \n",
       "50%    6.814578e+08            3.000000                      1.000000   \n",
       "75%    6.814623e+08            3.000000                      1.000000   \n",
       "max    6.816798e+08          248.000000                      1.000000   \n",
       "\n",
       "       negativereason:confidence  retweet_count      tweet_id  \n",
       "count               10522.000000   14640.000000  1.464000e+04  \n",
       "mean                    0.638298       0.082650  5.692184e+17  \n",
       "std                     0.330440       0.745778  7.791092e+14  \n",
       "min                     0.000000       0.000000  5.675880e+17  \n",
       "25%                     0.360600       0.000000  5.685590e+17  \n",
       "50%                     0.670600       0.000000  5.694780e+17  \n",
       "75%                     1.000000       0.000000  5.698902e+17  \n",
       "max                     1.000000      44.000000  5.703110e+17  "
      ]
     },
     "execution_count": 8,
     "metadata": {},
     "output_type": "execute_result"
    }
   ],
   "source": [
    "air_df.describe()"
   ]
  },
  {
   "cell_type": "markdown",
   "metadata": {},
   "source": [
    "## Visualization"
   ]
  },
  {
   "cell_type": "code",
   "execution_count": 9,
   "metadata": {},
   "outputs": [
    {
     "data": {
      "text/html": [
       "        <script type=\"text/javascript\">\n",
       "        window.PlotlyConfig = {MathJaxConfig: 'local'};\n",
       "        if (window.MathJax) {MathJax.Hub.Config({SVG: {font: \"STIX-Web\"}});}\n",
       "        if (typeof require !== 'undefined') {\n",
       "        require.undef(\"plotly\");\n",
       "        requirejs.config({\n",
       "            paths: {\n",
       "                'plotly': ['https://cdn.plot.ly/plotly-latest.min']\n",
       "            }\n",
       "        });\n",
       "        require(['plotly'], function(Plotly) {\n",
       "            window._Plotly = Plotly;\n",
       "        });\n",
       "        }\n",
       "        </script>\n",
       "        "
      ]
     },
     "metadata": {},
     "output_type": "display_data"
    }
   ],
   "source": [
    "import chart_studio.plotly as py\n",
    "import plotly.graph_objs as go\n",
    "import plotly.offline as offline\n",
    "\n",
    "offline.init_notebook_mode(connected=True)"
   ]
  },
  {
   "cell_type": "markdown",
   "metadata": {},
   "source": [
    "### Histogram showing the number of neutral sentiment datapoints for all airlines in the dataset"
   ]
  },
  {
   "cell_type": "code",
   "execution_count": 10,
   "metadata": {},
   "outputs": [
    {
     "data": {
      "text/html": [
       "<div>\n",
       "<style scoped>\n",
       "    .dataframe tbody tr th:only-of-type {\n",
       "        vertical-align: middle;\n",
       "    }\n",
       "\n",
       "    .dataframe tbody tr th {\n",
       "        vertical-align: top;\n",
       "    }\n",
       "\n",
       "    .dataframe thead th {\n",
       "        text-align: right;\n",
       "    }\n",
       "</style>\n",
       "<table border=\"1\" class=\"dataframe\">\n",
       "  <thead>\n",
       "    <tr style=\"text-align: right;\">\n",
       "      <th></th>\n",
       "      <th>_unit_id</th>\n",
       "      <th>_golden</th>\n",
       "      <th>_unit_state</th>\n",
       "      <th>_trusted_judgments</th>\n",
       "      <th>_last_judgment_at</th>\n",
       "      <th>airline_sentiment</th>\n",
       "      <th>airline_sentiment:confidence</th>\n",
       "      <th>negativereason</th>\n",
       "      <th>negativereason:confidence</th>\n",
       "      <th>airline</th>\n",
       "      <th>airline_sentiment_gold</th>\n",
       "      <th>name</th>\n",
       "      <th>negativereason_gold</th>\n",
       "      <th>retweet_count</th>\n",
       "      <th>text</th>\n",
       "      <th>tweet_coord</th>\n",
       "      <th>tweet_created</th>\n",
       "      <th>tweet_id</th>\n",
       "      <th>tweet_location</th>\n",
       "      <th>user_timezone</th>\n",
       "    </tr>\n",
       "  </thead>\n",
       "  <tbody>\n",
       "    <tr>\n",
       "      <th>0</th>\n",
       "      <td>681448150</td>\n",
       "      <td>False</td>\n",
       "      <td>finalized</td>\n",
       "      <td>3</td>\n",
       "      <td>2/25/15 5:24</td>\n",
       "      <td>neutral</td>\n",
       "      <td>1.0000</td>\n",
       "      <td>NaN</td>\n",
       "      <td>NaN</td>\n",
       "      <td>Virgin America</td>\n",
       "      <td>NaN</td>\n",
       "      <td>cairdin</td>\n",
       "      <td>NaN</td>\n",
       "      <td>0</td>\n",
       "      <td>@VirginAmerica What @dhepburn said.</td>\n",
       "      <td>NaN</td>\n",
       "      <td>2/24/15 11:35</td>\n",
       "      <td>5.703060e+17</td>\n",
       "      <td>NaN</td>\n",
       "      <td>Eastern Time (US &amp; Canada)</td>\n",
       "    </tr>\n",
       "    <tr>\n",
       "      <th>2</th>\n",
       "      <td>681448156</td>\n",
       "      <td>False</td>\n",
       "      <td>finalized</td>\n",
       "      <td>3</td>\n",
       "      <td>2/25/15 10:01</td>\n",
       "      <td>neutral</td>\n",
       "      <td>0.6837</td>\n",
       "      <td>NaN</td>\n",
       "      <td>NaN</td>\n",
       "      <td>Virgin America</td>\n",
       "      <td>NaN</td>\n",
       "      <td>yvonnalynn</td>\n",
       "      <td>NaN</td>\n",
       "      <td>0</td>\n",
       "      <td>@VirginAmerica I didn't today... Must mean I n...</td>\n",
       "      <td>NaN</td>\n",
       "      <td>2/24/15 11:15</td>\n",
       "      <td>5.703010e+17</td>\n",
       "      <td>Lets Play</td>\n",
       "      <td>Central Time (US &amp; Canada)</td>\n",
       "    </tr>\n",
       "    <tr>\n",
       "      <th>7</th>\n",
       "      <td>681448167</td>\n",
       "      <td>False</td>\n",
       "      <td>finalized</td>\n",
       "      <td>3</td>\n",
       "      <td>2/25/15 2:11</td>\n",
       "      <td>neutral</td>\n",
       "      <td>0.6340</td>\n",
       "      <td>NaN</td>\n",
       "      <td>NaN</td>\n",
       "      <td>Virgin America</td>\n",
       "      <td>NaN</td>\n",
       "      <td>pilot</td>\n",
       "      <td>NaN</td>\n",
       "      <td>0</td>\n",
       "      <td>@VirginAmerica Really missed a prime opportuni...</td>\n",
       "      <td>NaN</td>\n",
       "      <td>2/24/15 11:12</td>\n",
       "      <td>5.703000e+17</td>\n",
       "      <td>Los Angeles</td>\n",
       "      <td>Pacific Time (US &amp; Canada)</td>\n",
       "    </tr>\n",
       "    <tr>\n",
       "      <th>10</th>\n",
       "      <td>681448174</td>\n",
       "      <td>False</td>\n",
       "      <td>finalized</td>\n",
       "      <td>3</td>\n",
       "      <td>2/25/15 8:34</td>\n",
       "      <td>neutral</td>\n",
       "      <td>0.6769</td>\n",
       "      <td>NaN</td>\n",
       "      <td>0.0</td>\n",
       "      <td>Virgin America</td>\n",
       "      <td>NaN</td>\n",
       "      <td>idk_but_youtube</td>\n",
       "      <td>NaN</td>\n",
       "      <td>0</td>\n",
       "      <td>@VirginAmerica did you know that suicide is th...</td>\n",
       "      <td>NaN</td>\n",
       "      <td>2/24/15 10:48</td>\n",
       "      <td>5.702940e+17</td>\n",
       "      <td>1/1 loner squad</td>\n",
       "      <td>Eastern Time (US &amp; Canada)</td>\n",
       "    </tr>\n",
       "    <tr>\n",
       "      <th>23</th>\n",
       "      <td>681448201</td>\n",
       "      <td>False</td>\n",
       "      <td>finalized</td>\n",
       "      <td>3</td>\n",
       "      <td>2/25/15 11:31</td>\n",
       "      <td>neutral</td>\n",
       "      <td>1.0000</td>\n",
       "      <td>NaN</td>\n",
       "      <td>NaN</td>\n",
       "      <td>Virgin America</td>\n",
       "      <td>NaN</td>\n",
       "      <td>rjlynch21086</td>\n",
       "      <td>NaN</td>\n",
       "      <td>0</td>\n",
       "      <td>@VirginAmerica will you be making BOS&amp;gt;LAS n...</td>\n",
       "      <td>NaN</td>\n",
       "      <td>2/24/15 8:27</td>\n",
       "      <td>5.702590e+17</td>\n",
       "      <td>Boston, MA</td>\n",
       "      <td>Eastern Time (US &amp; Canada)</td>\n",
       "    </tr>\n",
       "  </tbody>\n",
       "</table>\n",
       "</div>"
      ],
      "text/plain": [
       "     _unit_id  _golden _unit_state  _trusted_judgments _last_judgment_at  \\\n",
       "0   681448150    False   finalized                   3      2/25/15 5:24   \n",
       "2   681448156    False   finalized                   3     2/25/15 10:01   \n",
       "7   681448167    False   finalized                   3      2/25/15 2:11   \n",
       "10  681448174    False   finalized                   3      2/25/15 8:34   \n",
       "23  681448201    False   finalized                   3     2/25/15 11:31   \n",
       "\n",
       "   airline_sentiment  airline_sentiment:confidence negativereason  \\\n",
       "0            neutral                        1.0000            NaN   \n",
       "2            neutral                        0.6837            NaN   \n",
       "7            neutral                        0.6340            NaN   \n",
       "10           neutral                        0.6769            NaN   \n",
       "23           neutral                        1.0000            NaN   \n",
       "\n",
       "    negativereason:confidence         airline airline_sentiment_gold  \\\n",
       "0                         NaN  Virgin America                    NaN   \n",
       "2                         NaN  Virgin America                    NaN   \n",
       "7                         NaN  Virgin America                    NaN   \n",
       "10                        0.0  Virgin America                    NaN   \n",
       "23                        NaN  Virgin America                    NaN   \n",
       "\n",
       "               name negativereason_gold  retweet_count  \\\n",
       "0           cairdin                 NaN              0   \n",
       "2        yvonnalynn                 NaN              0   \n",
       "7             pilot                 NaN              0   \n",
       "10  idk_but_youtube                 NaN              0   \n",
       "23     rjlynch21086                 NaN              0   \n",
       "\n",
       "                                                 text tweet_coord  \\\n",
       "0                 @VirginAmerica What @dhepburn said.         NaN   \n",
       "2   @VirginAmerica I didn't today... Must mean I n...         NaN   \n",
       "7   @VirginAmerica Really missed a prime opportuni...         NaN   \n",
       "10  @VirginAmerica did you know that suicide is th...         NaN   \n",
       "23  @VirginAmerica will you be making BOS&gt;LAS n...         NaN   \n",
       "\n",
       "    tweet_created      tweet_id   tweet_location               user_timezone  \n",
       "0   2/24/15 11:35  5.703060e+17              NaN  Eastern Time (US & Canada)  \n",
       "2   2/24/15 11:15  5.703010e+17        Lets Play  Central Time (US & Canada)  \n",
       "7   2/24/15 11:12  5.703000e+17      Los Angeles  Pacific Time (US & Canada)  \n",
       "10  2/24/15 10:48  5.702940e+17  1/1 loner squad  Eastern Time (US & Canada)  \n",
       "23   2/24/15 8:27  5.702590e+17      Boston, MA   Eastern Time (US & Canada)  "
      ]
     },
     "execution_count": 10,
     "metadata": {},
     "output_type": "execute_result"
    }
   ],
   "source": [
    "neutral_rows = air_df[(air_df['airline_sentiment'] == 'neutral')]\n",
    "neutral_rows.head()"
   ]
  },
  {
   "cell_type": "code",
   "execution_count": 11,
   "metadata": {},
   "outputs": [],
   "source": [
    "hist = go.Histogram(x = neutral_rows['airline'])"
   ]
  },
  {
   "cell_type": "code",
   "execution_count": 12,
   "metadata": {},
   "outputs": [],
   "source": [
    "data = [hist]"
   ]
  },
  {
   "cell_type": "code",
   "execution_count": 13,
   "metadata": {},
   "outputs": [],
   "source": [
    "layout = go.Layout(title_text=\"Number of Neutral Sentiments Per Airline\",\n",
    "                   title_x=0.5,\n",
    "                  xaxis=dict(title='Airline'),\n",
    "                  yaxis=dict(title='Number of Neutral Sentiments'))"
   ]
  },
  {
   "cell_type": "code",
   "execution_count": 14,
   "metadata": {},
   "outputs": [
    {
     "data": {
      "application/vnd.plotly.v1+json": {
       "config": {
        "linkText": "Export to plot.ly",
        "plotlyServerURL": "https://plot.ly",
        "showLink": false
       },
       "data": [
        {
         "type": "histogram",
         "x": [
          "Virgin America",
          "Virgin America",
          "Virgin America",
          "Virgin America",
          "Virgin America",
          "Virgin America",
          "Virgin America",
          "Virgin America",
          "Virgin America",
          "Virgin America",
          "Virgin America",
          "Virgin America",
          "Virgin America",
          "Virgin America",
          "Virgin America",
          "Virgin America",
          "Virgin America",
          "Virgin America",
          "Virgin America",
          "Virgin America",
          "Virgin America",
          "Virgin America",
          "Virgin America",
          "Virgin America",
          "Virgin America",
          "Virgin America",
          "Virgin America",
          "Virgin America",
          "Virgin America",
          "Virgin America",
          "Virgin America",
          "Virgin America",
          "Virgin America",
          "Virgin America",
          "Virgin America",
          "Virgin America",
          "Virgin America",
          "Virgin America",
          "Virgin America",
          "Virgin America",
          "Virgin America",
          "Virgin America",
          "Virgin America",
          "Virgin America",
          "Virgin America",
          "Virgin America",
          "Virgin America",
          "Virgin America",
          "Virgin America",
          "Virgin America",
          "Virgin America",
          "Virgin America",
          "Virgin America",
          "Virgin America",
          "Virgin America",
          "Virgin America",
          "Virgin America",
          "Virgin America",
          "Virgin America",
          "Virgin America",
          "Virgin America",
          "Virgin America",
          "Virgin America",
          "Virgin America",
          "Virgin America",
          "Virgin America",
          "Virgin America",
          "Virgin America",
          "Virgin America",
          "Virgin America",
          "Virgin America",
          "Virgin America",
          "Virgin America",
          "Virgin America",
          "Virgin America",
          "Virgin America",
          "Virgin America",
          "Virgin America",
          "Virgin America",
          "Virgin America",
          "Virgin America",
          "Virgin America",
          "Virgin America",
          "Virgin America",
          "Virgin America",
          "Virgin America",
          "Virgin America",
          "Virgin America",
          "Virgin America",
          "Virgin America",
          "Virgin America",
          "Virgin America",
          "Virgin America",
          "Virgin America",
          "Virgin America",
          "Virgin America",
          "Virgin America",
          "Virgin America",
          "Virgin America",
          "Virgin America",
          "Virgin America",
          "Virgin America",
          "Virgin America",
          "Virgin America",
          "Virgin America",
          "Virgin America",
          "Virgin America",
          "Virgin America",
          "Virgin America",
          "Virgin America",
          "Virgin America",
          "Virgin America",
          "Virgin America",
          "Virgin America",
          "Virgin America",
          "Virgin America",
          "Virgin America",
          "Virgin America",
          "Virgin America",
          "Virgin America",
          "Virgin America",
          "Virgin America",
          "Virgin America",
          "Virgin America",
          "Virgin America",
          "Virgin America",
          "Virgin America",
          "Virgin America",
          "Virgin America",
          "Virgin America",
          "Virgin America",
          "Virgin America",
          "Virgin America",
          "Virgin America",
          "Virgin America",
          "Virgin America",
          "Virgin America",
          "Virgin America",
          "Virgin America",
          "Virgin America",
          "Virgin America",
          "Virgin America",
          "Virgin America",
          "Virgin America",
          "Virgin America",
          "Virgin America",
          "Virgin America",
          "Virgin America",
          "Virgin America",
          "Virgin America",
          "Virgin America",
          "Virgin America",
          "Virgin America",
          "Virgin America",
          "Virgin America",
          "Virgin America",
          "Virgin America",
          "Virgin America",
          "Virgin America",
          "Virgin America",
          "Virgin America",
          "Virgin America",
          "Virgin America",
          "Virgin America",
          "Virgin America",
          "Virgin America",
          "Virgin America",
          "Virgin America",
          "Virgin America",
          "Virgin America",
          "Virgin America",
          "United",
          "United",
          "United",
          "United",
          "United",
          "United",
          "United",
          "United",
          "United",
          "United",
          "United",
          "United",
          "United",
          "United",
          "United",
          "United",
          "United",
          "United",
          "United",
          "United",
          "United",
          "United",
          "United",
          "United",
          "United",
          "United",
          "United",
          "United",
          "United",
          "United",
          "United",
          "United",
          "United",
          "United",
          "United",
          "United",
          "United",
          "United",
          "United",
          "United",
          "United",
          "United",
          "United",
          "United",
          "United",
          "United",
          "United",
          "United",
          "United",
          "United",
          "United",
          "United",
          "United",
          "United",
          "United",
          "United",
          "United",
          "United",
          "United",
          "United",
          "United",
          "United",
          "United",
          "United",
          "United",
          "United",
          "United",
          "United",
          "United",
          "United",
          "United",
          "United",
          "United",
          "United",
          "United",
          "United",
          "United",
          "United",
          "United",
          "United",
          "United",
          "United",
          "United",
          "United",
          "United",
          "United",
          "United",
          "United",
          "United",
          "United",
          "United",
          "United",
          "United",
          "United",
          "United",
          "United",
          "United",
          "United",
          "United",
          "United",
          "United",
          "United",
          "United",
          "United",
          "United",
          "United",
          "United",
          "United",
          "United",
          "United",
          "United",
          "United",
          "United",
          "United",
          "United",
          "United",
          "United",
          "United",
          "United",
          "United",
          "United",
          "United",
          "United",
          "United",
          "United",
          "United",
          "United",
          "United",
          "United",
          "United",
          "United",
          "United",
          "United",
          "United",
          "United",
          "United",
          "United",
          "United",
          "United",
          "United",
          "United",
          "United",
          "United",
          "United",
          "United",
          "United",
          "United",
          "United",
          "United",
          "United",
          "United",
          "United",
          "United",
          "United",
          "United",
          "United",
          "United",
          "United",
          "United",
          "United",
          "United",
          "United",
          "United",
          "United",
          "United",
          "United",
          "United",
          "United",
          "United",
          "United",
          "United",
          "United",
          "United",
          "United",
          "United",
          "United",
          "United",
          "United",
          "United",
          "United",
          "United",
          "United",
          "United",
          "United",
          "United",
          "United",
          "United",
          "United",
          "United",
          "United",
          "United",
          "United",
          "United",
          "United",
          "United",
          "United",
          "United",
          "United",
          "United",
          "United",
          "United",
          "United",
          "United",
          "United",
          "United",
          "United",
          "United",
          "United",
          "United",
          "United",
          "United",
          "United",
          "United",
          "United",
          "United",
          "United",
          "United",
          "United",
          "United",
          "United",
          "United",
          "United",
          "United",
          "United",
          "United",
          "United",
          "United",
          "United",
          "United",
          "United",
          "United",
          "United",
          "United",
          "United",
          "United",
          "United",
          "United",
          "United",
          "United",
          "United",
          "United",
          "United",
          "United",
          "United",
          "United",
          "United",
          "United",
          "United",
          "United",
          "United",
          "United",
          "United",
          "United",
          "United",
          "United",
          "United",
          "United",
          "United",
          "United",
          "United",
          "United",
          "United",
          "United",
          "United",
          "United",
          "United",
          "United",
          "United",
          "United",
          "United",
          "United",
          "United",
          "United",
          "United",
          "United",
          "United",
          "United",
          "United",
          "United",
          "United",
          "United",
          "United",
          "United",
          "United",
          "United",
          "United",
          "United",
          "United",
          "United",
          "United",
          "United",
          "United",
          "United",
          "United",
          "United",
          "United",
          "United",
          "United",
          "United",
          "United",
          "United",
          "United",
          "United",
          "United",
          "United",
          "United",
          "United",
          "United",
          "United",
          "United",
          "United",
          "United",
          "United",
          "United",
          "United",
          "United",
          "United",
          "United",
          "United",
          "United",
          "United",
          "United",
          "United",
          "United",
          "United",
          "United",
          "United",
          "United",
          "United",
          "United",
          "United",
          "United",
          "United",
          "United",
          "United",
          "United",
          "United",
          "United",
          "United",
          "United",
          "United",
          "United",
          "United",
          "United",
          "United",
          "United",
          "United",
          "United",
          "United",
          "United",
          "United",
          "United",
          "United",
          "United",
          "United",
          "United",
          "United",
          "United",
          "United",
          "United",
          "United",
          "United",
          "United",
          "United",
          "United",
          "United",
          "United",
          "United",
          "United",
          "United",
          "United",
          "United",
          "United",
          "United",
          "United",
          "United",
          "United",
          "United",
          "United",
          "United",
          "United",
          "United",
          "United",
          "United",
          "United",
          "United",
          "United",
          "United",
          "United",
          "United",
          "United",
          "United",
          "United",
          "United",
          "United",
          "United",
          "United",
          "United",
          "United",
          "United",
          "United",
          "United",
          "United",
          "United",
          "United",
          "United",
          "United",
          "United",
          "United",
          "United",
          "United",
          "United",
          "United",
          "United",
          "United",
          "United",
          "United",
          "United",
          "United",
          "United",
          "United",
          "United",
          "United",
          "United",
          "United",
          "United",
          "United",
          "United",
          "United",
          "United",
          "United",
          "United",
          "United",
          "United",
          "United",
          "United",
          "United",
          "United",
          "United",
          "United",
          "United",
          "United",
          "United",
          "United",
          "United",
          "United",
          "United",
          "United",
          "United",
          "United",
          "United",
          "United",
          "United",
          "United",
          "United",
          "United",
          "United",
          "United",
          "United",
          "United",
          "United",
          "United",
          "United",
          "United",
          "United",
          "United",
          "United",
          "United",
          "United",
          "United",
          "United",
          "United",
          "United",
          "United",
          "United",
          "United",
          "United",
          "United",
          "United",
          "United",
          "United",
          "United",
          "United",
          "United",
          "United",
          "United",
          "United",
          "United",
          "United",
          "United",
          "United",
          "United",
          "United",
          "United",
          "United",
          "United",
          "United",
          "United",
          "United",
          "United",
          "United",
          "United",
          "United",
          "United",
          "United",
          "United",
          "United",
          "United",
          "United",
          "United",
          "United",
          "United",
          "United",
          "United",
          "United",
          "United",
          "United",
          "United",
          "United",
          "United",
          "United",
          "United",
          "United",
          "United",
          "United",
          "United",
          "United",
          "United",
          "United",
          "United",
          "United",
          "United",
          "United",
          "United",
          "United",
          "United",
          "United",
          "United",
          "United",
          "United",
          "United",
          "United",
          "United",
          "United",
          "United",
          "United",
          "United",
          "United",
          "United",
          "United",
          "United",
          "United",
          "United",
          "United",
          "United",
          "United",
          "United",
          "United",
          "United",
          "United",
          "United",
          "United",
          "United",
          "United",
          "United",
          "United",
          "United",
          "United",
          "United",
          "United",
          "United",
          "United",
          "United",
          "United",
          "United",
          "United",
          "United",
          "United",
          "United",
          "United",
          "United",
          "United",
          "United",
          "United",
          "United",
          "United",
          "United",
          "United",
          "United",
          "United",
          "United",
          "United",
          "United",
          "United",
          "United",
          "United",
          "United",
          "United",
          "United",
          "United",
          "United",
          "United",
          "United",
          "United",
          "United",
          "United",
          "United",
          "United",
          "United",
          "United",
          "United",
          "United",
          "United",
          "United",
          "United",
          "United",
          "United",
          "United",
          "United",
          "United",
          "United",
          "United",
          "United",
          "United",
          "United",
          "United",
          "United",
          "United",
          "United",
          "United",
          "United",
          "United",
          "United",
          "United",
          "United",
          "United",
          "United",
          "United",
          "United",
          "United",
          "United",
          "United",
          "United",
          "United",
          "United",
          "United",
          "United",
          "United",
          "United",
          "United",
          "United",
          "United",
          "United",
          "United",
          "United",
          "United",
          "United",
          "United",
          "United",
          "United",
          "United",
          "United",
          "United",
          "United",
          "United",
          "United",
          "United",
          "United",
          "United",
          "United",
          "United",
          "United",
          "United",
          "United",
          "United",
          "United",
          "United",
          "United",
          "United",
          "United",
          "United",
          "United",
          "United",
          "United",
          "United",
          "United",
          "United",
          "United",
          "United",
          "United",
          "United",
          "United",
          "United",
          "United",
          "United",
          "United",
          "United",
          "Southwest",
          "Southwest",
          "Southwest",
          "Southwest",
          "Southwest",
          "Southwest",
          "Southwest",
          "Southwest",
          "Southwest",
          "Southwest",
          "Southwest",
          "Southwest",
          "Southwest",
          "Southwest",
          "Southwest",
          "Southwest",
          "Southwest",
          "Southwest",
          "Southwest",
          "Southwest",
          "Southwest",
          "Southwest",
          "Southwest",
          "Southwest",
          "Southwest",
          "Southwest",
          "Southwest",
          "Southwest",
          "Southwest",
          "Southwest",
          "Southwest",
          "Southwest",
          "Southwest",
          "Southwest",
          "Southwest",
          "Southwest",
          "Southwest",
          "Southwest",
          "Southwest",
          "Southwest",
          "Southwest",
          "Southwest",
          "Southwest",
          "Southwest",
          "Southwest",
          "Southwest",
          "Southwest",
          "Southwest",
          "Southwest",
          "Southwest",
          "Southwest",
          "Southwest",
          "Southwest",
          "Southwest",
          "Southwest",
          "Southwest",
          "Southwest",
          "Southwest",
          "Southwest",
          "Southwest",
          "Southwest",
          "Southwest",
          "Southwest",
          "Southwest",
          "Southwest",
          "Southwest",
          "Southwest",
          "Southwest",
          "Southwest",
          "Southwest",
          "Southwest",
          "Southwest",
          "Southwest",
          "Southwest",
          "Southwest",
          "Southwest",
          "Southwest",
          "Southwest",
          "Southwest",
          "Southwest",
          "Southwest",
          "Southwest",
          "Southwest",
          "Southwest",
          "Southwest",
          "Southwest",
          "Southwest",
          "Southwest",
          "Southwest",
          "Southwest",
          "Southwest",
          "Southwest",
          "Southwest",
          "Southwest",
          "Southwest",
          "Southwest",
          "Southwest",
          "Southwest",
          "Southwest",
          "Southwest",
          "Southwest",
          "Southwest",
          "Southwest",
          "Southwest",
          "Southwest",
          "Southwest",
          "Southwest",
          "Southwest",
          "Southwest",
          "Southwest",
          "Southwest",
          "Southwest",
          "Southwest",
          "Southwest",
          "Southwest",
          "Southwest",
          "Southwest",
          "Southwest",
          "Southwest",
          "Southwest",
          "Southwest",
          "Southwest",
          "Southwest",
          "Southwest",
          "Southwest",
          "Southwest",
          "Southwest",
          "Southwest",
          "Southwest",
          "Southwest",
          "Southwest",
          "Southwest",
          "Southwest",
          "Southwest",
          "Southwest",
          "Southwest",
          "Southwest",
          "Southwest",
          "Southwest",
          "Southwest",
          "Southwest",
          "Southwest",
          "Southwest",
          "Southwest",
          "Southwest",
          "Southwest",
          "Southwest",
          "Southwest",
          "Southwest",
          "Southwest",
          "Southwest",
          "Southwest",
          "Southwest",
          "Southwest",
          "Southwest",
          "Southwest",
          "Southwest",
          "Southwest",
          "Southwest",
          "Southwest",
          "Southwest",
          "Southwest",
          "Southwest",
          "Southwest",
          "Southwest",
          "Southwest",
          "Southwest",
          "Southwest",
          "Southwest",
          "Southwest",
          "Southwest",
          "Southwest",
          "Southwest",
          "Southwest",
          "Southwest",
          "Southwest",
          "Southwest",
          "Southwest",
          "Southwest",
          "Southwest",
          "Southwest",
          "Southwest",
          "Southwest",
          "Southwest",
          "Southwest",
          "Southwest",
          "Southwest",
          "Southwest",
          "Southwest",
          "Southwest",
          "Southwest",
          "Southwest",
          "Southwest",
          "Southwest",
          "Southwest",
          "Southwest",
          "Southwest",
          "Southwest",
          "Southwest",
          "Southwest",
          "Southwest",
          "Southwest",
          "Southwest",
          "Southwest",
          "Southwest",
          "Southwest",
          "Southwest",
          "Southwest",
          "Southwest",
          "Southwest",
          "Southwest",
          "Southwest",
          "Southwest",
          "Southwest",
          "Southwest",
          "Southwest",
          "Southwest",
          "Southwest",
          "Southwest",
          "Southwest",
          "Southwest",
          "Southwest",
          "Southwest",
          "Southwest",
          "Southwest",
          "Southwest",
          "Southwest",
          "Southwest",
          "Southwest",
          "Southwest",
          "Southwest",
          "Southwest",
          "Southwest",
          "Southwest",
          "Southwest",
          "Southwest",
          "Southwest",
          "Southwest",
          "Southwest",
          "Southwest",
          "Southwest",
          "Southwest",
          "Southwest",
          "Southwest",
          "Southwest",
          "Southwest",
          "Southwest",
          "Southwest",
          "Southwest",
          "Southwest",
          "Southwest",
          "Southwest",
          "Southwest",
          "Southwest",
          "Southwest",
          "Southwest",
          "Southwest",
          "Southwest",
          "Southwest",
          "Southwest",
          "Southwest",
          "Southwest",
          "Southwest",
          "Southwest",
          "Southwest",
          "Southwest",
          "Southwest",
          "Southwest",
          "Southwest",
          "Southwest",
          "Southwest",
          "Southwest",
          "Southwest",
          "Southwest",
          "Southwest",
          "Southwest",
          "Southwest",
          "Southwest",
          "Southwest",
          "Southwest",
          "Southwest",
          "Southwest",
          "Southwest",
          "Southwest",
          "Southwest",
          "Southwest",
          "Southwest",
          "Southwest",
          "Southwest",
          "Southwest",
          "Southwest",
          "Southwest",
          "Southwest",
          "Southwest",
          "Southwest",
          "Southwest",
          "Southwest",
          "Southwest",
          "Southwest",
          "Southwest",
          "Southwest",
          "Southwest",
          "Southwest",
          "Southwest",
          "Southwest",
          "Southwest",
          "Southwest",
          "Southwest",
          "Southwest",
          "Southwest",
          "Southwest",
          "Southwest",
          "Southwest",
          "Southwest",
          "Southwest",
          "Southwest",
          "Southwest",
          "Southwest",
          "Southwest",
          "Southwest",
          "Southwest",
          "Southwest",
          "Southwest",
          "Southwest",
          "Southwest",
          "Southwest",
          "Southwest",
          "Southwest",
          "Southwest",
          "Southwest",
          "Southwest",
          "Southwest",
          "Southwest",
          "Southwest",
          "Southwest",
          "Southwest",
          "Southwest",
          "Southwest",
          "Southwest",
          "Southwest",
          "Southwest",
          "Southwest",
          "Southwest",
          "Southwest",
          "Southwest",
          "Southwest",
          "Southwest",
          "Southwest",
          "Southwest",
          "Southwest",
          "Southwest",
          "Southwest",
          "Southwest",
          "Southwest",
          "Southwest",
          "Southwest",
          "Southwest",
          "Southwest",
          "Southwest",
          "Southwest",
          "Southwest",
          "Southwest",
          "Southwest",
          "Southwest",
          "Southwest",
          "Southwest",
          "Southwest",
          "Southwest",
          "Southwest",
          "Southwest",
          "Southwest",
          "Southwest",
          "Southwest",
          "Southwest",
          "Southwest",
          "Southwest",
          "Southwest",
          "Southwest",
          "Southwest",
          "Southwest",
          "Southwest",
          "Southwest",
          "Southwest",
          "Southwest",
          "Southwest",
          "Southwest",
          "Southwest",
          "Southwest",
          "Southwest",
          "Southwest",
          "Southwest",
          "Southwest",
          "Southwest",
          "Southwest",
          "Southwest",
          "Southwest",
          "Southwest",
          "Southwest",
          "Southwest",
          "Southwest",
          "Southwest",
          "Southwest",
          "Southwest",
          "Southwest",
          "Southwest",
          "Southwest",
          "Southwest",
          "Southwest",
          "Southwest",
          "Southwest",
          "Southwest",
          "Southwest",
          "Southwest",
          "Southwest",
          "Southwest",
          "Southwest",
          "Southwest",
          "Southwest",
          "Southwest",
          "Southwest",
          "Southwest",
          "Southwest",
          "Southwest",
          "Southwest",
          "Southwest",
          "Southwest",
          "Southwest",
          "Southwest",
          "Southwest",
          "Southwest",
          "Southwest",
          "Southwest",
          "Southwest",
          "Southwest",
          "Southwest",
          "Southwest",
          "Southwest",
          "Southwest",
          "Southwest",
          "Southwest",
          "Southwest",
          "Southwest",
          "Southwest",
          "Southwest",
          "Southwest",
          "Southwest",
          "Southwest",
          "Southwest",
          "Southwest",
          "Southwest",
          "Southwest",
          "Southwest",
          "Southwest",
          "Southwest",
          "Southwest",
          "Southwest",
          "Southwest",
          "Southwest",
          "Southwest",
          "Southwest",
          "Southwest",
          "Southwest",
          "Southwest",
          "Southwest",
          "Southwest",
          "Southwest",
          "Southwest",
          "Southwest",
          "Southwest",
          "Southwest",
          "Southwest",
          "Southwest",
          "Southwest",
          "Southwest",
          "Southwest",
          "Southwest",
          "Southwest",
          "Southwest",
          "Southwest",
          "Southwest",
          "Southwest",
          "Southwest",
          "Southwest",
          "Southwest",
          "Southwest",
          "Southwest",
          "Southwest",
          "Southwest",
          "Southwest",
          "Southwest",
          "Southwest",
          "Southwest",
          "Southwest",
          "Southwest",
          "Southwest",
          "Southwest",
          "Southwest",
          "Southwest",
          "Southwest",
          "Southwest",
          "Southwest",
          "Southwest",
          "Southwest",
          "Southwest",
          "Southwest",
          "Southwest",
          "Southwest",
          "Southwest",
          "Southwest",
          "Southwest",
          "Southwest",
          "Southwest",
          "Southwest",
          "Southwest",
          "Southwest",
          "Southwest",
          "Southwest",
          "Southwest",
          "Southwest",
          "Southwest",
          "Southwest",
          "Southwest",
          "Southwest",
          "Southwest",
          "Southwest",
          "Southwest",
          "Southwest",
          "Southwest",
          "Southwest",
          "Southwest",
          "Southwest",
          "Southwest",
          "Southwest",
          "Southwest",
          "Southwest",
          "Southwest",
          "Southwest",
          "Southwest",
          "Southwest",
          "Southwest",
          "Southwest",
          "Southwest",
          "Southwest",
          "Southwest",
          "Southwest",
          "Southwest",
          "Southwest",
          "Southwest",
          "Southwest",
          "Southwest",
          "Southwest",
          "Southwest",
          "Southwest",
          "Southwest",
          "Southwest",
          "Southwest",
          "Southwest",
          "Southwest",
          "Southwest",
          "Southwest",
          "Southwest",
          "Southwest",
          "Southwest",
          "Southwest",
          "Southwest",
          "Southwest",
          "Southwest",
          "Southwest",
          "Southwest",
          "Southwest",
          "Southwest",
          "Southwest",
          "Southwest",
          "Southwest",
          "Southwest",
          "Southwest",
          "Southwest",
          "Southwest",
          "Southwest",
          "Southwest",
          "Southwest",
          "Southwest",
          "Southwest",
          "Southwest",
          "Southwest",
          "Southwest",
          "Southwest",
          "Southwest",
          "Southwest",
          "Southwest",
          "Southwest",
          "Southwest",
          "Southwest",
          "Southwest",
          "Southwest",
          "Southwest",
          "Southwest",
          "Southwest",
          "Southwest",
          "Southwest",
          "Southwest",
          "Southwest",
          "Southwest",
          "Southwest",
          "Southwest",
          "Southwest",
          "Southwest",
          "Southwest",
          "Southwest",
          "Southwest",
          "Southwest",
          "Southwest",
          "Southwest",
          "Southwest",
          "Southwest",
          "Southwest",
          "Southwest",
          "Southwest",
          "Southwest",
          "Southwest",
          "Southwest",
          "Southwest",
          "Southwest",
          "Southwest",
          "Southwest",
          "Southwest",
          "Southwest",
          "Southwest",
          "Southwest",
          "Southwest",
          "Southwest",
          "Southwest",
          "Southwest",
          "Southwest",
          "Southwest",
          "Southwest",
          "Southwest",
          "Southwest",
          "Southwest",
          "Southwest",
          "Southwest",
          "Southwest",
          "Southwest",
          "Southwest",
          "Southwest",
          "Southwest",
          "Southwest",
          "Southwest",
          "Southwest",
          "Southwest",
          "Southwest",
          "Southwest",
          "Southwest",
          "Southwest",
          "Southwest",
          "Southwest",
          "Southwest",
          "Southwest",
          "Southwest",
          "Southwest",
          "Southwest",
          "Southwest",
          "Southwest",
          "Southwest",
          "Delta",
          "Delta",
          "Delta",
          "Delta",
          "Delta",
          "Delta",
          "Delta",
          "Delta",
          "Delta",
          "Delta",
          "Delta",
          "Delta",
          "Delta",
          "Delta",
          "Delta",
          "Delta",
          "Delta",
          "Delta",
          "Delta",
          "Delta",
          "Delta",
          "Delta",
          "Delta",
          "Delta",
          "Delta",
          "Delta",
          "Delta",
          "Delta",
          "Delta",
          "Delta",
          "Delta",
          "Delta",
          "Delta",
          "Delta",
          "Delta",
          "Delta",
          "Delta",
          "Delta",
          "Delta",
          "Delta",
          "Delta",
          "Delta",
          "Delta",
          "Delta",
          "Delta",
          "Delta",
          "Delta",
          "Delta",
          "Delta",
          "Delta",
          "Delta",
          "Delta",
          "Delta",
          "Delta",
          "Delta",
          "Delta",
          "Delta",
          "Delta",
          "Delta",
          "Delta",
          "Delta",
          "Delta",
          "Delta",
          "Delta",
          "Delta",
          "Delta",
          "Delta",
          "Delta",
          "Delta",
          "Delta",
          "Delta",
          "Delta",
          "Delta",
          "Delta",
          "Delta",
          "Delta",
          "Delta",
          "Delta",
          "Delta",
          "Delta",
          "Delta",
          "Delta",
          "Delta",
          "Delta",
          "Delta",
          "Delta",
          "Delta",
          "Delta",
          "Delta",
          "Delta",
          "Delta",
          "Delta",
          "Delta",
          "Delta",
          "Delta",
          "Delta",
          "Delta",
          "Delta",
          "Delta",
          "Delta",
          "Delta",
          "Delta",
          "Delta",
          "Delta",
          "Delta",
          "Delta",
          "Delta",
          "Delta",
          "Delta",
          "Delta",
          "Delta",
          "Delta",
          "Delta",
          "Delta",
          "Delta",
          "Delta",
          "Delta",
          "Delta",
          "Delta",
          "Delta",
          "Delta",
          "Delta",
          "Delta",
          "Delta",
          "Delta",
          "Delta",
          "Delta",
          "Delta",
          "Delta",
          "Delta",
          "Delta",
          "Delta",
          "Delta",
          "Delta",
          "Delta",
          "Delta",
          "Delta",
          "Delta",
          "Delta",
          "Delta",
          "Delta",
          "Delta",
          "Delta",
          "Delta",
          "Delta",
          "Delta",
          "Delta",
          "Delta",
          "Delta",
          "Delta",
          "Delta",
          "Delta",
          "Delta",
          "Delta",
          "Delta",
          "Delta",
          "Delta",
          "Delta",
          "Delta",
          "Delta",
          "Delta",
          "Delta",
          "Delta",
          "Delta",
          "Delta",
          "Delta",
          "Delta",
          "Delta",
          "Delta",
          "Delta",
          "Delta",
          "Delta",
          "Delta",
          "Delta",
          "Delta",
          "Delta",
          "Delta",
          "Delta",
          "Delta",
          "Delta",
          "Delta",
          "Delta",
          "Delta",
          "Delta",
          "Delta",
          "Delta",
          "Delta",
          "Delta",
          "Delta",
          "Delta",
          "Delta",
          "Delta",
          "Delta",
          "Delta",
          "Delta",
          "Delta",
          "Delta",
          "Delta",
          "Delta",
          "Delta",
          "Delta",
          "Delta",
          "Delta",
          "Delta",
          "Delta",
          "Delta",
          "Delta",
          "Delta",
          "Delta",
          "Delta",
          "Delta",
          "Delta",
          "Delta",
          "Delta",
          "Delta",
          "Delta",
          "Delta",
          "Delta",
          "Delta",
          "Delta",
          "Delta",
          "Delta",
          "Delta",
          "Delta",
          "Delta",
          "Delta",
          "Delta",
          "Delta",
          "Delta",
          "Delta",
          "Delta",
          "Delta",
          "Delta",
          "Delta",
          "Delta",
          "Delta",
          "Delta",
          "Delta",
          "Delta",
          "Delta",
          "Delta",
          "Delta",
          "Delta",
          "Delta",
          "Delta",
          "Delta",
          "Delta",
          "Delta",
          "Delta",
          "Delta",
          "Delta",
          "Delta",
          "Delta",
          "Delta",
          "Delta",
          "Delta",
          "Delta",
          "Delta",
          "Delta",
          "Delta",
          "Delta",
          "Delta",
          "Delta",
          "Delta",
          "Delta",
          "Delta",
          "Delta",
          "Delta",
          "Delta",
          "Delta",
          "Delta",
          "Delta",
          "Delta",
          "Delta",
          "Delta",
          "Delta",
          "Delta",
          "Delta",
          "Delta",
          "Delta",
          "Delta",
          "Delta",
          "Delta",
          "Delta",
          "Delta",
          "Delta",
          "Delta",
          "Delta",
          "Delta",
          "Delta",
          "Delta",
          "Delta",
          "Delta",
          "Delta",
          "Delta",
          "Delta",
          "Delta",
          "Delta",
          "Delta",
          "Delta",
          "Delta",
          "Delta",
          "Delta",
          "Delta",
          "Delta",
          "Delta",
          "Delta",
          "Delta",
          "Delta",
          "Delta",
          "Delta",
          "Delta",
          "Delta",
          "Delta",
          "Delta",
          "Delta",
          "Delta",
          "Delta",
          "Delta",
          "Delta",
          "Delta",
          "Delta",
          "Delta",
          "Delta",
          "Delta",
          "Delta",
          "Delta",
          "Delta",
          "Delta",
          "Delta",
          "Delta",
          "Delta",
          "Delta",
          "Delta",
          "Delta",
          "Delta",
          "Delta",
          "Delta",
          "Delta",
          "Delta",
          "Delta",
          "Delta",
          "Delta",
          "Delta",
          "Delta",
          "Delta",
          "Delta",
          "Delta",
          "Delta",
          "Delta",
          "Delta",
          "Delta",
          "Delta",
          "Delta",
          "Delta",
          "Delta",
          "Delta",
          "Delta",
          "Delta",
          "Delta",
          "Delta",
          "Delta",
          "Delta",
          "Delta",
          "Delta",
          "Delta",
          "Delta",
          "Delta",
          "Delta",
          "Delta",
          "Delta",
          "Delta",
          "Delta",
          "Delta",
          "Delta",
          "Delta",
          "Delta",
          "Delta",
          "Delta",
          "Delta",
          "Delta",
          "Delta",
          "Delta",
          "Delta",
          "Delta",
          "Delta",
          "Delta",
          "Delta",
          "Delta",
          "Delta",
          "Delta",
          "Delta",
          "Delta",
          "Delta",
          "Delta",
          "Delta",
          "Delta",
          "Delta",
          "Delta",
          "Delta",
          "Delta",
          "Delta",
          "Delta",
          "Delta",
          "Delta",
          "Delta",
          "Delta",
          "Delta",
          "Delta",
          "Delta",
          "Delta",
          "Delta",
          "Delta",
          "Delta",
          "Delta",
          "Delta",
          "Delta",
          "Delta",
          "Delta",
          "Delta",
          "Delta",
          "Delta",
          "Delta",
          "Delta",
          "Delta",
          "Delta",
          "Delta",
          "Delta",
          "Delta",
          "Delta",
          "Delta",
          "Delta",
          "Delta",
          "Delta",
          "Delta",
          "Delta",
          "Delta",
          "Delta",
          "Delta",
          "Delta",
          "Delta",
          "Delta",
          "Delta",
          "Delta",
          "Delta",
          "Delta",
          "Delta",
          "Delta",
          "Delta",
          "Delta",
          "Delta",
          "Delta",
          "Delta",
          "Delta",
          "Delta",
          "Delta",
          "Delta",
          "Delta",
          "Delta",
          "Delta",
          "Delta",
          "Delta",
          "Delta",
          "Delta",
          "Delta",
          "Delta",
          "Delta",
          "Delta",
          "Delta",
          "Delta",
          "Delta",
          "Delta",
          "Delta",
          "Delta",
          "Delta",
          "Delta",
          "Delta",
          "Delta",
          "Delta",
          "Delta",
          "Delta",
          "Delta",
          "Delta",
          "Delta",
          "Delta",
          "Delta",
          "Delta",
          "Delta",
          "Delta",
          "Delta",
          "Delta",
          "Delta",
          "Delta",
          "Delta",
          "Delta",
          "Delta",
          "Delta",
          "Delta",
          "Delta",
          "Delta",
          "Delta",
          "Delta",
          "Delta",
          "Delta",
          "Delta",
          "Delta",
          "Delta",
          "Delta",
          "Delta",
          "Delta",
          "Delta",
          "Delta",
          "Delta",
          "Delta",
          "Delta",
          "Delta",
          "Delta",
          "Delta",
          "Delta",
          "Delta",
          "Delta",
          "Delta",
          "Delta",
          "Delta",
          "Delta",
          "Delta",
          "Delta",
          "Delta",
          "Delta",
          "Delta",
          "Delta",
          "Delta",
          "Delta",
          "Delta",
          "Delta",
          "Delta",
          "Delta",
          "Delta",
          "Delta",
          "Delta",
          "Delta",
          "Delta",
          "Delta",
          "Delta",
          "Delta",
          "Delta",
          "Delta",
          "Delta",
          "Delta",
          "Delta",
          "Delta",
          "Delta",
          "Delta",
          "Delta",
          "Delta",
          "Delta",
          "Delta",
          "Delta",
          "Delta",
          "Delta",
          "Delta",
          "Delta",
          "Delta",
          "Delta",
          "Delta",
          "Delta",
          "Delta",
          "Delta",
          "Delta",
          "Delta",
          "Delta",
          "Delta",
          "Delta",
          "Delta",
          "Delta",
          "Delta",
          "Delta",
          "Delta",
          "Delta",
          "Delta",
          "Delta",
          "Delta",
          "Delta",
          "Delta",
          "Delta",
          "Delta",
          "Delta",
          "Delta",
          "Delta",
          "Delta",
          "Delta",
          "Delta",
          "Delta",
          "Delta",
          "Delta",
          "Delta",
          "Delta",
          "Delta",
          "Delta",
          "Delta",
          "Delta",
          "Delta",
          "Delta",
          "Delta",
          "Delta",
          "Delta",
          "Delta",
          "Delta",
          "Delta",
          "Delta",
          "Delta",
          "Delta",
          "Delta",
          "Delta",
          "Delta",
          "Delta",
          "Delta",
          "Delta",
          "Delta",
          "Delta",
          "Delta",
          "Delta",
          "Delta",
          "Delta",
          "Delta",
          "Delta",
          "Delta",
          "Delta",
          "Delta",
          "Delta",
          "Delta",
          "Delta",
          "Delta",
          "Delta",
          "Delta",
          "Delta",
          "Delta",
          "Delta",
          "Delta",
          "Delta",
          "Delta",
          "Delta",
          "Delta",
          "Delta",
          "Delta",
          "Delta",
          "Delta",
          "Delta",
          "Delta",
          "Delta",
          "Delta",
          "Delta",
          "Delta",
          "Delta",
          "Delta",
          "Delta",
          "Delta",
          "Delta",
          "Delta",
          "Delta",
          "Delta",
          "Delta",
          "Delta",
          "Delta",
          "Delta",
          "Delta",
          "Delta",
          "Delta",
          "Delta",
          "Delta",
          "Delta",
          "Delta",
          "Delta",
          "Delta",
          "Delta",
          "Delta",
          "Delta",
          "Delta",
          "Delta",
          "Delta",
          "Delta",
          "Delta",
          "Delta",
          "Delta",
          "Delta",
          "Delta",
          "Delta",
          "Delta",
          "Delta",
          "Delta",
          "Delta",
          "Delta",
          "Delta",
          "Delta",
          "Delta",
          "Delta",
          "Delta",
          "Delta",
          "Delta",
          "Delta",
          "Delta",
          "Delta",
          "Delta",
          "Delta",
          "Delta",
          "Delta",
          "Delta",
          "Delta",
          "Delta",
          "Delta",
          "Delta",
          "Delta",
          "Delta",
          "Delta",
          "Delta",
          "Delta",
          "Delta",
          "Delta",
          "Delta",
          "Delta",
          "Delta",
          "Delta",
          "Delta",
          "US Airways",
          "US Airways",
          "US Airways",
          "US Airways",
          "US Airways",
          "US Airways",
          "US Airways",
          "US Airways",
          "US Airways",
          "US Airways",
          "US Airways",
          "US Airways",
          "US Airways",
          "US Airways",
          "US Airways",
          "US Airways",
          "US Airways",
          "US Airways",
          "US Airways",
          "US Airways",
          "US Airways",
          "US Airways",
          "US Airways",
          "US Airways",
          "US Airways",
          "US Airways",
          "US Airways",
          "US Airways",
          "US Airways",
          "US Airways",
          "US Airways",
          "US Airways",
          "US Airways",
          "US Airways",
          "US Airways",
          "US Airways",
          "US Airways",
          "US Airways",
          "US Airways",
          "US Airways",
          "US Airways",
          "US Airways",
          "US Airways",
          "US Airways",
          "US Airways",
          "US Airways",
          "US Airways",
          "US Airways",
          "US Airways",
          "US Airways",
          "US Airways",
          "US Airways",
          "US Airways",
          "US Airways",
          "US Airways",
          "US Airways",
          "US Airways",
          "US Airways",
          "US Airways",
          "US Airways",
          "US Airways",
          "US Airways",
          "US Airways",
          "US Airways",
          "US Airways",
          "US Airways",
          "US Airways",
          "US Airways",
          "US Airways",
          "US Airways",
          "US Airways",
          "US Airways",
          "US Airways",
          "US Airways",
          "US Airways",
          "US Airways",
          "US Airways",
          "US Airways",
          "US Airways",
          "US Airways",
          "US Airways",
          "US Airways",
          "US Airways",
          "US Airways",
          "US Airways",
          "US Airways",
          "US Airways",
          "US Airways",
          "US Airways",
          "US Airways",
          "US Airways",
          "US Airways",
          "US Airways",
          "US Airways",
          "US Airways",
          "US Airways",
          "US Airways",
          "US Airways",
          "US Airways",
          "US Airways",
          "US Airways",
          "US Airways",
          "US Airways",
          "US Airways",
          "US Airways",
          "US Airways",
          "US Airways",
          "US Airways",
          "US Airways",
          "US Airways",
          "US Airways",
          "US Airways",
          "US Airways",
          "US Airways",
          "US Airways",
          "US Airways",
          "US Airways",
          "US Airways",
          "US Airways",
          "US Airways",
          "US Airways",
          "US Airways",
          "US Airways",
          "US Airways",
          "US Airways",
          "US Airways",
          "US Airways",
          "US Airways",
          "US Airways",
          "US Airways",
          "US Airways",
          "US Airways",
          "US Airways",
          "US Airways",
          "US Airways",
          "US Airways",
          "US Airways",
          "US Airways",
          "US Airways",
          "US Airways",
          "US Airways",
          "US Airways",
          "US Airways",
          "US Airways",
          "US Airways",
          "US Airways",
          "US Airways",
          "US Airways",
          "US Airways",
          "US Airways",
          "US Airways",
          "US Airways",
          "US Airways",
          "US Airways",
          "US Airways",
          "US Airways",
          "US Airways",
          "US Airways",
          "US Airways",
          "US Airways",
          "US Airways",
          "US Airways",
          "US Airways",
          "US Airways",
          "US Airways",
          "US Airways",
          "US Airways",
          "US Airways",
          "US Airways",
          "US Airways",
          "US Airways",
          "US Airways",
          "US Airways",
          "US Airways",
          "US Airways",
          "US Airways",
          "US Airways",
          "US Airways",
          "US Airways",
          "US Airways",
          "US Airways",
          "US Airways",
          "US Airways",
          "US Airways",
          "US Airways",
          "US Airways",
          "US Airways",
          "US Airways",
          "US Airways",
          "US Airways",
          "US Airways",
          "US Airways",
          "US Airways",
          "US Airways",
          "US Airways",
          "US Airways",
          "US Airways",
          "US Airways",
          "US Airways",
          "US Airways",
          "US Airways",
          "US Airways",
          "US Airways",
          "US Airways",
          "US Airways",
          "US Airways",
          "US Airways",
          "US Airways",
          "US Airways",
          "US Airways",
          "US Airways",
          "US Airways",
          "US Airways",
          "US Airways",
          "US Airways",
          "US Airways",
          "US Airways",
          "US Airways",
          "US Airways",
          "US Airways",
          "US Airways",
          "US Airways",
          "US Airways",
          "US Airways",
          "US Airways",
          "US Airways",
          "US Airways",
          "US Airways",
          "US Airways",
          "US Airways",
          "US Airways",
          "US Airways",
          "US Airways",
          "US Airways",
          "US Airways",
          "US Airways",
          "US Airways",
          "US Airways",
          "US Airways",
          "US Airways",
          "US Airways",
          "US Airways",
          "US Airways",
          "US Airways",
          "US Airways",
          "US Airways",
          "US Airways",
          "US Airways",
          "US Airways",
          "US Airways",
          "US Airways",
          "US Airways",
          "US Airways",
          "US Airways",
          "US Airways",
          "US Airways",
          "US Airways",
          "US Airways",
          "US Airways",
          "US Airways",
          "US Airways",
          "US Airways",
          "US Airways",
          "US Airways",
          "US Airways",
          "US Airways",
          "US Airways",
          "US Airways",
          "US Airways",
          "US Airways",
          "US Airways",
          "US Airways",
          "US Airways",
          "US Airways",
          "US Airways",
          "US Airways",
          "US Airways",
          "US Airways",
          "US Airways",
          "US Airways",
          "US Airways",
          "US Airways",
          "US Airways",
          "US Airways",
          "US Airways",
          "US Airways",
          "US Airways",
          "US Airways",
          "US Airways",
          "US Airways",
          "US Airways",
          "US Airways",
          "US Airways",
          "US Airways",
          "US Airways",
          "US Airways",
          "US Airways",
          "US Airways",
          "US Airways",
          "US Airways",
          "US Airways",
          "US Airways",
          "US Airways",
          "US Airways",
          "US Airways",
          "US Airways",
          "US Airways",
          "US Airways",
          "US Airways",
          "US Airways",
          "US Airways",
          "US Airways",
          "US Airways",
          "US Airways",
          "US Airways",
          "US Airways",
          "US Airways",
          "US Airways",
          "US Airways",
          "US Airways",
          "US Airways",
          "US Airways",
          "US Airways",
          "US Airways",
          "US Airways",
          "US Airways",
          "US Airways",
          "US Airways",
          "US Airways",
          "US Airways",
          "US Airways",
          "US Airways",
          "US Airways",
          "US Airways",
          "US Airways",
          "US Airways",
          "US Airways",
          "US Airways",
          "US Airways",
          "US Airways",
          "US Airways",
          "US Airways",
          "US Airways",
          "US Airways",
          "US Airways",
          "US Airways",
          "US Airways",
          "US Airways",
          "US Airways",
          "US Airways",
          "US Airways",
          "US Airways",
          "US Airways",
          "US Airways",
          "US Airways",
          "US Airways",
          "US Airways",
          "US Airways",
          "US Airways",
          "US Airways",
          "US Airways",
          "US Airways",
          "US Airways",
          "US Airways",
          "US Airways",
          "US Airways",
          "US Airways",
          "US Airways",
          "US Airways",
          "US Airways",
          "US Airways",
          "US Airways",
          "US Airways",
          "US Airways",
          "US Airways",
          "US Airways",
          "US Airways",
          "US Airways",
          "US Airways",
          "US Airways",
          "US Airways",
          "American",
          "American",
          "American",
          "American",
          "American",
          "American",
          "American",
          "American",
          "American",
          "American",
          "American",
          "American",
          "American",
          "American",
          "American",
          "American",
          "American",
          "American",
          "American",
          "American",
          "American",
          "American",
          "American",
          "American",
          "American",
          "American",
          "American",
          "American",
          "American",
          "American",
          "American",
          "American",
          "American",
          "American",
          "American",
          "American",
          "American",
          "American",
          "American",
          "American",
          "American",
          "American",
          "American",
          "American",
          "American",
          "American",
          "American",
          "American",
          "American",
          "American",
          "American",
          "American",
          "American",
          "American",
          "American",
          "American",
          "American",
          "American",
          "American",
          "American",
          "American",
          "American",
          "American",
          "American",
          "American",
          "American",
          "American",
          "American",
          "American",
          "American",
          "American",
          "American",
          "American",
          "American",
          "American",
          "American",
          "American",
          "American",
          "American",
          "American",
          "American",
          "American",
          "American",
          "American",
          "American",
          "American",
          "American",
          "American",
          "American",
          "American",
          "American",
          "American",
          "American",
          "American",
          "American",
          "American",
          "American",
          "American",
          "American",
          "American",
          "American",
          "American",
          "American",
          "American",
          "American",
          "American",
          "American",
          "American",
          "American",
          "American",
          "American",
          "American",
          "American",
          "American",
          "American",
          "American",
          "American",
          "American",
          "American",
          "American",
          "American",
          "American",
          "American",
          "American",
          "American",
          "American",
          "American",
          "American",
          "American",
          "American",
          "American",
          "American",
          "American",
          "American",
          "American",
          "American",
          "American",
          "American",
          "American",
          "American",
          "American",
          "American",
          "American",
          "American",
          "American",
          "American",
          "American",
          "American",
          "American",
          "American",
          "American",
          "American",
          "American",
          "American",
          "American",
          "American",
          "American",
          "American",
          "American",
          "American",
          "American",
          "American",
          "American",
          "American",
          "American",
          "American",
          "American",
          "American",
          "American",
          "American",
          "American",
          "American",
          "American",
          "American",
          "American",
          "American",
          "American",
          "American",
          "American",
          "American",
          "American",
          "American",
          "American",
          "American",
          "American",
          "American",
          "American",
          "American",
          "American",
          "American",
          "American",
          "American",
          "American",
          "American",
          "American",
          "American",
          "American",
          "American",
          "American",
          "American",
          "American",
          "American",
          "American",
          "American",
          "American",
          "American",
          "American",
          "American",
          "American",
          "American",
          "American",
          "American",
          "American",
          "American",
          "American",
          "American",
          "American",
          "American",
          "American",
          "American",
          "American",
          "American",
          "American",
          "American",
          "American",
          "American",
          "American",
          "American",
          "American",
          "American",
          "American",
          "American",
          "American",
          "American",
          "American",
          "American",
          "American",
          "American",
          "American",
          "American",
          "American",
          "American",
          "American",
          "American",
          "American",
          "American",
          "American",
          "American",
          "American",
          "American",
          "American",
          "American",
          "American",
          "American",
          "American",
          "American",
          "American",
          "American",
          "American",
          "American",
          "American",
          "American",
          "American",
          "American",
          "American",
          "American",
          "American",
          "American",
          "American",
          "American",
          "American",
          "American",
          "American",
          "American",
          "American",
          "American",
          "American",
          "American",
          "American",
          "American",
          "American",
          "American",
          "American",
          "American",
          "American",
          "American",
          "American",
          "American",
          "American",
          "American",
          "American",
          "American",
          "American",
          "American",
          "American",
          "American",
          "American",
          "American",
          "American",
          "American",
          "American",
          "American",
          "American",
          "American",
          "American",
          "American",
          "American",
          "American",
          "American",
          "American",
          "American",
          "American",
          "American",
          "American",
          "American",
          "American",
          "American",
          "American",
          "American",
          "American",
          "American",
          "American",
          "American",
          "American",
          "American",
          "American",
          "American",
          "American",
          "American",
          "American",
          "American",
          "American",
          "American",
          "American",
          "American",
          "American",
          "American",
          "American",
          "American",
          "American",
          "American",
          "American",
          "American",
          "American",
          "American",
          "American",
          "American",
          "American",
          "American",
          "American",
          "American",
          "American",
          "American",
          "American",
          "American",
          "American",
          "American",
          "American",
          "American",
          "American",
          "American",
          "American",
          "American",
          "American",
          "American",
          "American",
          "American",
          "American",
          "American",
          "American",
          "American",
          "American",
          "American",
          "American",
          "American",
          "American",
          "American",
          "American",
          "American",
          "American",
          "American",
          "American",
          "American",
          "American",
          "American",
          "American",
          "American",
          "American",
          "American",
          "American",
          "American",
          "American",
          "American",
          "American",
          "American",
          "American",
          "American",
          "American",
          "American",
          "American",
          "American",
          "American",
          "American",
          "American",
          "American",
          "American",
          "American",
          "American",
          "American",
          "American",
          "American",
          "American",
          "American",
          "American",
          "American",
          "American",
          "American",
          "American",
          "American",
          "American",
          "American",
          "American",
          "American",
          "American",
          "American",
          "American",
          "American",
          "American",
          "American",
          "American",
          "American",
          "American",
          "American",
          "American",
          "American",
          "American",
          "American",
          "American",
          "American",
          "American",
          "American",
          "American",
          "American",
          "American",
          "American",
          "American",
          "American",
          "American",
          "American",
          "American",
          "American",
          "American",
          "American",
          "American",
          "American",
          "American",
          "American",
          "American",
          "American",
          "American",
          "American",
          "American",
          "American"
         ]
        }
       ],
       "layout": {
        "template": {
         "data": {
          "bar": [
           {
            "error_x": {
             "color": "#2a3f5f"
            },
            "error_y": {
             "color": "#2a3f5f"
            },
            "marker": {
             "line": {
              "color": "#E5ECF6",
              "width": 0.5
             }
            },
            "type": "bar"
           }
          ],
          "barpolar": [
           {
            "marker": {
             "line": {
              "color": "#E5ECF6",
              "width": 0.5
             }
            },
            "type": "barpolar"
           }
          ],
          "carpet": [
           {
            "aaxis": {
             "endlinecolor": "#2a3f5f",
             "gridcolor": "white",
             "linecolor": "white",
             "minorgridcolor": "white",
             "startlinecolor": "#2a3f5f"
            },
            "baxis": {
             "endlinecolor": "#2a3f5f",
             "gridcolor": "white",
             "linecolor": "white",
             "minorgridcolor": "white",
             "startlinecolor": "#2a3f5f"
            },
            "type": "carpet"
           }
          ],
          "choropleth": [
           {
            "colorbar": {
             "outlinewidth": 0,
             "ticks": ""
            },
            "type": "choropleth"
           }
          ],
          "contour": [
           {
            "colorbar": {
             "outlinewidth": 0,
             "ticks": ""
            },
            "colorscale": [
             [
              0,
              "#0d0887"
             ],
             [
              0.1111111111111111,
              "#46039f"
             ],
             [
              0.2222222222222222,
              "#7201a8"
             ],
             [
              0.3333333333333333,
              "#9c179e"
             ],
             [
              0.4444444444444444,
              "#bd3786"
             ],
             [
              0.5555555555555556,
              "#d8576b"
             ],
             [
              0.6666666666666666,
              "#ed7953"
             ],
             [
              0.7777777777777778,
              "#fb9f3a"
             ],
             [
              0.8888888888888888,
              "#fdca26"
             ],
             [
              1,
              "#f0f921"
             ]
            ],
            "type": "contour"
           }
          ],
          "contourcarpet": [
           {
            "colorbar": {
             "outlinewidth": 0,
             "ticks": ""
            },
            "type": "contourcarpet"
           }
          ],
          "heatmap": [
           {
            "colorbar": {
             "outlinewidth": 0,
             "ticks": ""
            },
            "colorscale": [
             [
              0,
              "#0d0887"
             ],
             [
              0.1111111111111111,
              "#46039f"
             ],
             [
              0.2222222222222222,
              "#7201a8"
             ],
             [
              0.3333333333333333,
              "#9c179e"
             ],
             [
              0.4444444444444444,
              "#bd3786"
             ],
             [
              0.5555555555555556,
              "#d8576b"
             ],
             [
              0.6666666666666666,
              "#ed7953"
             ],
             [
              0.7777777777777778,
              "#fb9f3a"
             ],
             [
              0.8888888888888888,
              "#fdca26"
             ],
             [
              1,
              "#f0f921"
             ]
            ],
            "type": "heatmap"
           }
          ],
          "heatmapgl": [
           {
            "colorbar": {
             "outlinewidth": 0,
             "ticks": ""
            },
            "colorscale": [
             [
              0,
              "#0d0887"
             ],
             [
              0.1111111111111111,
              "#46039f"
             ],
             [
              0.2222222222222222,
              "#7201a8"
             ],
             [
              0.3333333333333333,
              "#9c179e"
             ],
             [
              0.4444444444444444,
              "#bd3786"
             ],
             [
              0.5555555555555556,
              "#d8576b"
             ],
             [
              0.6666666666666666,
              "#ed7953"
             ],
             [
              0.7777777777777778,
              "#fb9f3a"
             ],
             [
              0.8888888888888888,
              "#fdca26"
             ],
             [
              1,
              "#f0f921"
             ]
            ],
            "type": "heatmapgl"
           }
          ],
          "histogram": [
           {
            "marker": {
             "colorbar": {
              "outlinewidth": 0,
              "ticks": ""
             }
            },
            "type": "histogram"
           }
          ],
          "histogram2d": [
           {
            "colorbar": {
             "outlinewidth": 0,
             "ticks": ""
            },
            "colorscale": [
             [
              0,
              "#0d0887"
             ],
             [
              0.1111111111111111,
              "#46039f"
             ],
             [
              0.2222222222222222,
              "#7201a8"
             ],
             [
              0.3333333333333333,
              "#9c179e"
             ],
             [
              0.4444444444444444,
              "#bd3786"
             ],
             [
              0.5555555555555556,
              "#d8576b"
             ],
             [
              0.6666666666666666,
              "#ed7953"
             ],
             [
              0.7777777777777778,
              "#fb9f3a"
             ],
             [
              0.8888888888888888,
              "#fdca26"
             ],
             [
              1,
              "#f0f921"
             ]
            ],
            "type": "histogram2d"
           }
          ],
          "histogram2dcontour": [
           {
            "colorbar": {
             "outlinewidth": 0,
             "ticks": ""
            },
            "colorscale": [
             [
              0,
              "#0d0887"
             ],
             [
              0.1111111111111111,
              "#46039f"
             ],
             [
              0.2222222222222222,
              "#7201a8"
             ],
             [
              0.3333333333333333,
              "#9c179e"
             ],
             [
              0.4444444444444444,
              "#bd3786"
             ],
             [
              0.5555555555555556,
              "#d8576b"
             ],
             [
              0.6666666666666666,
              "#ed7953"
             ],
             [
              0.7777777777777778,
              "#fb9f3a"
             ],
             [
              0.8888888888888888,
              "#fdca26"
             ],
             [
              1,
              "#f0f921"
             ]
            ],
            "type": "histogram2dcontour"
           }
          ],
          "mesh3d": [
           {
            "colorbar": {
             "outlinewidth": 0,
             "ticks": ""
            },
            "type": "mesh3d"
           }
          ],
          "parcoords": [
           {
            "line": {
             "colorbar": {
              "outlinewidth": 0,
              "ticks": ""
             }
            },
            "type": "parcoords"
           }
          ],
          "pie": [
           {
            "automargin": true,
            "type": "pie"
           }
          ],
          "scatter": [
           {
            "marker": {
             "colorbar": {
              "outlinewidth": 0,
              "ticks": ""
             }
            },
            "type": "scatter"
           }
          ],
          "scatter3d": [
           {
            "line": {
             "colorbar": {
              "outlinewidth": 0,
              "ticks": ""
             }
            },
            "marker": {
             "colorbar": {
              "outlinewidth": 0,
              "ticks": ""
             }
            },
            "type": "scatter3d"
           }
          ],
          "scattercarpet": [
           {
            "marker": {
             "colorbar": {
              "outlinewidth": 0,
              "ticks": ""
             }
            },
            "type": "scattercarpet"
           }
          ],
          "scattergeo": [
           {
            "marker": {
             "colorbar": {
              "outlinewidth": 0,
              "ticks": ""
             }
            },
            "type": "scattergeo"
           }
          ],
          "scattergl": [
           {
            "marker": {
             "colorbar": {
              "outlinewidth": 0,
              "ticks": ""
             }
            },
            "type": "scattergl"
           }
          ],
          "scattermapbox": [
           {
            "marker": {
             "colorbar": {
              "outlinewidth": 0,
              "ticks": ""
             }
            },
            "type": "scattermapbox"
           }
          ],
          "scatterpolar": [
           {
            "marker": {
             "colorbar": {
              "outlinewidth": 0,
              "ticks": ""
             }
            },
            "type": "scatterpolar"
           }
          ],
          "scatterpolargl": [
           {
            "marker": {
             "colorbar": {
              "outlinewidth": 0,
              "ticks": ""
             }
            },
            "type": "scatterpolargl"
           }
          ],
          "scatterternary": [
           {
            "marker": {
             "colorbar": {
              "outlinewidth": 0,
              "ticks": ""
             }
            },
            "type": "scatterternary"
           }
          ],
          "surface": [
           {
            "colorbar": {
             "outlinewidth": 0,
             "ticks": ""
            },
            "colorscale": [
             [
              0,
              "#0d0887"
             ],
             [
              0.1111111111111111,
              "#46039f"
             ],
             [
              0.2222222222222222,
              "#7201a8"
             ],
             [
              0.3333333333333333,
              "#9c179e"
             ],
             [
              0.4444444444444444,
              "#bd3786"
             ],
             [
              0.5555555555555556,
              "#d8576b"
             ],
             [
              0.6666666666666666,
              "#ed7953"
             ],
             [
              0.7777777777777778,
              "#fb9f3a"
             ],
             [
              0.8888888888888888,
              "#fdca26"
             ],
             [
              1,
              "#f0f921"
             ]
            ],
            "type": "surface"
           }
          ],
          "table": [
           {
            "cells": {
             "fill": {
              "color": "#EBF0F8"
             },
             "line": {
              "color": "white"
             }
            },
            "header": {
             "fill": {
              "color": "#C8D4E3"
             },
             "line": {
              "color": "white"
             }
            },
            "type": "table"
           }
          ]
         },
         "layout": {
          "annotationdefaults": {
           "arrowcolor": "#2a3f5f",
           "arrowhead": 0,
           "arrowwidth": 1
          },
          "coloraxis": {
           "colorbar": {
            "outlinewidth": 0,
            "ticks": ""
           }
          },
          "colorscale": {
           "diverging": [
            [
             0,
             "#8e0152"
            ],
            [
             0.1,
             "#c51b7d"
            ],
            [
             0.2,
             "#de77ae"
            ],
            [
             0.3,
             "#f1b6da"
            ],
            [
             0.4,
             "#fde0ef"
            ],
            [
             0.5,
             "#f7f7f7"
            ],
            [
             0.6,
             "#e6f5d0"
            ],
            [
             0.7,
             "#b8e186"
            ],
            [
             0.8,
             "#7fbc41"
            ],
            [
             0.9,
             "#4d9221"
            ],
            [
             1,
             "#276419"
            ]
           ],
           "sequential": [
            [
             0,
             "#0d0887"
            ],
            [
             0.1111111111111111,
             "#46039f"
            ],
            [
             0.2222222222222222,
             "#7201a8"
            ],
            [
             0.3333333333333333,
             "#9c179e"
            ],
            [
             0.4444444444444444,
             "#bd3786"
            ],
            [
             0.5555555555555556,
             "#d8576b"
            ],
            [
             0.6666666666666666,
             "#ed7953"
            ],
            [
             0.7777777777777778,
             "#fb9f3a"
            ],
            [
             0.8888888888888888,
             "#fdca26"
            ],
            [
             1,
             "#f0f921"
            ]
           ],
           "sequentialminus": [
            [
             0,
             "#0d0887"
            ],
            [
             0.1111111111111111,
             "#46039f"
            ],
            [
             0.2222222222222222,
             "#7201a8"
            ],
            [
             0.3333333333333333,
             "#9c179e"
            ],
            [
             0.4444444444444444,
             "#bd3786"
            ],
            [
             0.5555555555555556,
             "#d8576b"
            ],
            [
             0.6666666666666666,
             "#ed7953"
            ],
            [
             0.7777777777777778,
             "#fb9f3a"
            ],
            [
             0.8888888888888888,
             "#fdca26"
            ],
            [
             1,
             "#f0f921"
            ]
           ]
          },
          "colorway": [
           "#636efa",
           "#EF553B",
           "#00cc96",
           "#ab63fa",
           "#FFA15A",
           "#19d3f3",
           "#FF6692",
           "#B6E880",
           "#FF97FF",
           "#FECB52"
          ],
          "font": {
           "color": "#2a3f5f"
          },
          "geo": {
           "bgcolor": "white",
           "lakecolor": "white",
           "landcolor": "#E5ECF6",
           "showlakes": true,
           "showland": true,
           "subunitcolor": "white"
          },
          "hoverlabel": {
           "align": "left"
          },
          "hovermode": "closest",
          "mapbox": {
           "style": "light"
          },
          "paper_bgcolor": "white",
          "plot_bgcolor": "#E5ECF6",
          "polar": {
           "angularaxis": {
            "gridcolor": "white",
            "linecolor": "white",
            "ticks": ""
           },
           "bgcolor": "#E5ECF6",
           "radialaxis": {
            "gridcolor": "white",
            "linecolor": "white",
            "ticks": ""
           }
          },
          "scene": {
           "xaxis": {
            "backgroundcolor": "#E5ECF6",
            "gridcolor": "white",
            "gridwidth": 2,
            "linecolor": "white",
            "showbackground": true,
            "ticks": "",
            "zerolinecolor": "white"
           },
           "yaxis": {
            "backgroundcolor": "#E5ECF6",
            "gridcolor": "white",
            "gridwidth": 2,
            "linecolor": "white",
            "showbackground": true,
            "ticks": "",
            "zerolinecolor": "white"
           },
           "zaxis": {
            "backgroundcolor": "#E5ECF6",
            "gridcolor": "white",
            "gridwidth": 2,
            "linecolor": "white",
            "showbackground": true,
            "ticks": "",
            "zerolinecolor": "white"
           }
          },
          "shapedefaults": {
           "line": {
            "color": "#2a3f5f"
           }
          },
          "ternary": {
           "aaxis": {
            "gridcolor": "white",
            "linecolor": "white",
            "ticks": ""
           },
           "baxis": {
            "gridcolor": "white",
            "linecolor": "white",
            "ticks": ""
           },
           "bgcolor": "#E5ECF6",
           "caxis": {
            "gridcolor": "white",
            "linecolor": "white",
            "ticks": ""
           }
          },
          "title": {
           "x": 0.05
          },
          "xaxis": {
           "automargin": true,
           "gridcolor": "white",
           "linecolor": "white",
           "ticks": "",
           "title": {
            "standoff": 15
           },
           "zerolinecolor": "white",
           "zerolinewidth": 2
          },
          "yaxis": {
           "automargin": true,
           "gridcolor": "white",
           "linecolor": "white",
           "ticks": "",
           "title": {
            "standoff": 15
           },
           "zerolinecolor": "white",
           "zerolinewidth": 2
          }
         }
        },
        "title": {
         "text": "Number of Neutral Sentiments Per Airline",
         "x": 0.5
        },
        "xaxis": {
         "title": {
          "text": "Airline"
         }
        },
        "yaxis": {
         "title": {
          "text": "Number of Neutral Sentiments"
         }
        }
       }
      },
      "text/html": [
       "<div>                            <div id=\"59a12a6d-cdb7-47c2-88af-40f799341f00\" class=\"plotly-graph-div\" style=\"height:525px; width:100%;\"></div>            <script type=\"text/javascript\">                require([\"plotly\"], function(Plotly) {                    window.PLOTLYENV=window.PLOTLYENV || {};                                    if (document.getElementById(\"59a12a6d-cdb7-47c2-88af-40f799341f00\")) {                    Plotly.newPlot(                        \"59a12a6d-cdb7-47c2-88af-40f799341f00\",                        [{\"type\": \"histogram\", \"x\": [\"Virgin America\", \"Virgin America\", \"Virgin America\", \"Virgin America\", \"Virgin America\", \"Virgin America\", \"Virgin America\", \"Virgin America\", \"Virgin America\", \"Virgin America\", \"Virgin America\", \"Virgin America\", \"Virgin America\", \"Virgin America\", \"Virgin America\", \"Virgin America\", \"Virgin America\", \"Virgin America\", \"Virgin America\", \"Virgin America\", \"Virgin America\", \"Virgin America\", \"Virgin America\", \"Virgin America\", \"Virgin America\", \"Virgin America\", \"Virgin America\", \"Virgin America\", \"Virgin America\", \"Virgin America\", \"Virgin America\", \"Virgin America\", \"Virgin America\", \"Virgin America\", \"Virgin America\", \"Virgin America\", \"Virgin America\", \"Virgin America\", \"Virgin America\", \"Virgin America\", \"Virgin America\", \"Virgin America\", \"Virgin America\", \"Virgin America\", \"Virgin America\", \"Virgin America\", \"Virgin America\", \"Virgin America\", \"Virgin America\", \"Virgin America\", \"Virgin America\", \"Virgin America\", \"Virgin America\", \"Virgin America\", \"Virgin America\", \"Virgin America\", \"Virgin America\", \"Virgin America\", \"Virgin America\", \"Virgin America\", \"Virgin America\", \"Virgin America\", \"Virgin America\", \"Virgin America\", \"Virgin America\", \"Virgin America\", \"Virgin America\", \"Virgin America\", \"Virgin America\", \"Virgin America\", \"Virgin America\", \"Virgin America\", \"Virgin America\", \"Virgin America\", \"Virgin America\", \"Virgin America\", \"Virgin America\", \"Virgin America\", \"Virgin America\", \"Virgin America\", \"Virgin America\", \"Virgin America\", \"Virgin America\", \"Virgin America\", \"Virgin America\", \"Virgin America\", \"Virgin America\", \"Virgin America\", \"Virgin America\", \"Virgin America\", \"Virgin America\", \"Virgin America\", \"Virgin America\", \"Virgin America\", \"Virgin America\", \"Virgin America\", \"Virgin America\", \"Virgin America\", \"Virgin America\", \"Virgin America\", \"Virgin America\", \"Virgin America\", \"Virgin America\", \"Virgin America\", \"Virgin America\", \"Virgin America\", \"Virgin America\", \"Virgin America\", \"Virgin America\", \"Virgin America\", \"Virgin America\", \"Virgin America\", \"Virgin America\", \"Virgin America\", \"Virgin America\", \"Virgin America\", \"Virgin America\", \"Virgin America\", \"Virgin America\", \"Virgin America\", \"Virgin America\", \"Virgin America\", \"Virgin America\", \"Virgin America\", \"Virgin America\", \"Virgin America\", \"Virgin America\", \"Virgin America\", \"Virgin America\", \"Virgin America\", \"Virgin America\", \"Virgin America\", \"Virgin America\", \"Virgin America\", \"Virgin America\", \"Virgin America\", \"Virgin America\", \"Virgin America\", \"Virgin America\", \"Virgin America\", \"Virgin America\", \"Virgin America\", \"Virgin America\", \"Virgin America\", \"Virgin America\", \"Virgin America\", \"Virgin America\", \"Virgin America\", \"Virgin America\", \"Virgin America\", \"Virgin America\", \"Virgin America\", \"Virgin America\", \"Virgin America\", \"Virgin America\", \"Virgin America\", \"Virgin America\", \"Virgin America\", \"Virgin America\", \"Virgin America\", \"Virgin America\", \"Virgin America\", \"Virgin America\", \"Virgin America\", \"Virgin America\", \"Virgin America\", \"Virgin America\", \"Virgin America\", \"Virgin America\", \"Virgin America\", \"Virgin America\", \"United\", \"United\", \"United\", \"United\", \"United\", \"United\", \"United\", \"United\", \"United\", \"United\", \"United\", \"United\", \"United\", \"United\", \"United\", \"United\", \"United\", \"United\", \"United\", \"United\", \"United\", \"United\", \"United\", \"United\", \"United\", \"United\", \"United\", \"United\", \"United\", \"United\", \"United\", \"United\", \"United\", \"United\", \"United\", \"United\", \"United\", \"United\", \"United\", \"United\", \"United\", \"United\", \"United\", \"United\", \"United\", \"United\", \"United\", \"United\", \"United\", \"United\", \"United\", \"United\", \"United\", \"United\", \"United\", \"United\", \"United\", \"United\", \"United\", \"United\", \"United\", \"United\", \"United\", \"United\", \"United\", \"United\", \"United\", \"United\", \"United\", \"United\", \"United\", \"United\", \"United\", \"United\", \"United\", \"United\", \"United\", \"United\", \"United\", \"United\", \"United\", \"United\", \"United\", \"United\", \"United\", \"United\", \"United\", \"United\", \"United\", \"United\", \"United\", \"United\", \"United\", \"United\", \"United\", \"United\", \"United\", \"United\", \"United\", \"United\", \"United\", \"United\", \"United\", \"United\", \"United\", \"United\", \"United\", \"United\", \"United\", \"United\", \"United\", \"United\", \"United\", \"United\", \"United\", \"United\", \"United\", \"United\", \"United\", \"United\", \"United\", \"United\", \"United\", \"United\", \"United\", \"United\", \"United\", \"United\", \"United\", \"United\", \"United\", \"United\", \"United\", \"United\", \"United\", \"United\", \"United\", \"United\", \"United\", \"United\", \"United\", \"United\", \"United\", \"United\", \"United\", \"United\", \"United\", \"United\", \"United\", \"United\", \"United\", \"United\", \"United\", \"United\", \"United\", \"United\", \"United\", \"United\", \"United\", \"United\", \"United\", \"United\", \"United\", \"United\", \"United\", \"United\", \"United\", \"United\", \"United\", \"United\", \"United\", \"United\", \"United\", \"United\", \"United\", \"United\", \"United\", \"United\", \"United\", \"United\", \"United\", \"United\", \"United\", \"United\", \"United\", \"United\", \"United\", \"United\", \"United\", \"United\", \"United\", \"United\", \"United\", \"United\", \"United\", \"United\", \"United\", \"United\", \"United\", \"United\", \"United\", \"United\", \"United\", \"United\", \"United\", \"United\", \"United\", \"United\", \"United\", \"United\", \"United\", \"United\", \"United\", \"United\", \"United\", \"United\", \"United\", \"United\", \"United\", \"United\", \"United\", \"United\", \"United\", \"United\", \"United\", \"United\", \"United\", \"United\", \"United\", \"United\", \"United\", \"United\", \"United\", \"United\", \"United\", \"United\", \"United\", \"United\", \"United\", \"United\", \"United\", \"United\", \"United\", \"United\", \"United\", \"United\", \"United\", \"United\", \"United\", \"United\", \"United\", \"United\", \"United\", \"United\", \"United\", \"United\", \"United\", \"United\", \"United\", \"United\", \"United\", \"United\", \"United\", \"United\", \"United\", \"United\", \"United\", \"United\", \"United\", \"United\", \"United\", \"United\", \"United\", \"United\", \"United\", \"United\", \"United\", \"United\", \"United\", \"United\", \"United\", \"United\", \"United\", \"United\", \"United\", \"United\", \"United\", \"United\", \"United\", \"United\", \"United\", \"United\", \"United\", \"United\", \"United\", \"United\", \"United\", \"United\", \"United\", \"United\", \"United\", \"United\", \"United\", \"United\", \"United\", \"United\", \"United\", \"United\", \"United\", \"United\", \"United\", \"United\", \"United\", \"United\", \"United\", \"United\", \"United\", \"United\", \"United\", \"United\", \"United\", \"United\", \"United\", \"United\", \"United\", \"United\", \"United\", \"United\", \"United\", \"United\", \"United\", \"United\", \"United\", \"United\", \"United\", \"United\", \"United\", \"United\", \"United\", \"United\", \"United\", \"United\", \"United\", \"United\", \"United\", \"United\", \"United\", \"United\", \"United\", \"United\", \"United\", \"United\", \"United\", \"United\", \"United\", \"United\", \"United\", \"United\", \"United\", \"United\", \"United\", \"United\", \"United\", \"United\", \"United\", \"United\", \"United\", \"United\", \"United\", \"United\", \"United\", \"United\", \"United\", \"United\", \"United\", \"United\", \"United\", \"United\", \"United\", \"United\", \"United\", \"United\", \"United\", \"United\", \"United\", \"United\", \"United\", \"United\", \"United\", \"United\", \"United\", \"United\", \"United\", \"United\", \"United\", \"United\", \"United\", \"United\", \"United\", \"United\", \"United\", \"United\", \"United\", \"United\", \"United\", \"United\", \"United\", \"United\", \"United\", \"United\", \"United\", \"United\", \"United\", \"United\", \"United\", \"United\", \"United\", \"United\", \"United\", \"United\", \"United\", \"United\", \"United\", \"United\", \"United\", \"United\", \"United\", \"United\", \"United\", \"United\", \"United\", \"United\", \"United\", \"United\", \"United\", \"United\", \"United\", \"United\", \"United\", \"United\", \"United\", \"United\", \"United\", \"United\", \"United\", \"United\", \"United\", \"United\", \"United\", \"United\", \"United\", \"United\", \"United\", \"United\", \"United\", \"United\", \"United\", \"United\", \"United\", \"United\", \"United\", \"United\", \"United\", \"United\", \"United\", \"United\", \"United\", \"United\", \"United\", \"United\", \"United\", \"United\", \"United\", \"United\", \"United\", \"United\", \"United\", \"United\", \"United\", \"United\", \"United\", \"United\", \"United\", \"United\", \"United\", \"United\", \"United\", \"United\", \"United\", \"United\", \"United\", \"United\", \"United\", \"United\", \"United\", \"United\", \"United\", \"United\", \"United\", \"United\", \"United\", \"United\", \"United\", \"United\", \"United\", \"United\", \"United\", \"United\", \"United\", \"United\", \"United\", \"United\", \"United\", \"United\", \"United\", \"United\", \"United\", \"United\", \"United\", \"United\", \"United\", \"United\", \"United\", \"United\", \"United\", \"United\", \"United\", \"United\", \"United\", \"United\", \"United\", \"United\", \"United\", \"United\", \"United\", \"United\", \"United\", \"United\", \"United\", \"United\", \"United\", \"United\", \"United\", \"United\", \"United\", \"United\", \"United\", \"United\", \"United\", \"United\", \"United\", \"United\", \"United\", \"United\", \"United\", \"United\", \"United\", \"United\", \"United\", \"United\", \"United\", \"United\", \"United\", \"United\", \"United\", \"United\", \"United\", \"United\", \"United\", \"United\", \"United\", \"United\", \"United\", \"United\", \"United\", \"United\", \"United\", \"United\", \"United\", \"United\", \"United\", \"United\", \"United\", \"United\", \"United\", \"United\", \"United\", \"United\", \"United\", \"United\", \"United\", \"United\", \"United\", \"United\", \"United\", \"United\", \"United\", \"United\", \"United\", \"United\", \"United\", \"United\", \"United\", \"United\", \"United\", \"United\", \"United\", \"United\", \"United\", \"United\", \"United\", \"United\", \"United\", \"United\", \"United\", \"United\", \"United\", \"United\", \"United\", \"United\", \"United\", \"United\", \"United\", \"United\", \"United\", \"United\", \"United\", \"United\", \"United\", \"United\", \"United\", \"United\", \"United\", \"United\", \"United\", \"United\", \"United\", \"United\", \"United\", \"United\", \"United\", \"United\", \"United\", \"United\", \"United\", \"United\", \"United\", \"United\", \"United\", \"United\", \"United\", \"United\", \"United\", \"United\", \"United\", \"United\", \"United\", \"United\", \"United\", \"United\", \"United\", \"United\", \"United\", \"United\", \"United\", \"United\", \"United\", \"United\", \"United\", \"United\", \"United\", \"United\", \"United\", \"United\", \"United\", \"United\", \"United\", \"United\", \"United\", \"United\", \"United\", \"United\", \"United\", \"United\", \"United\", \"United\", \"United\", \"United\", \"United\", \"United\", \"United\", \"United\", \"United\", \"United\", \"United\", \"United\", \"United\", \"Southwest\", \"Southwest\", \"Southwest\", \"Southwest\", \"Southwest\", \"Southwest\", \"Southwest\", \"Southwest\", \"Southwest\", \"Southwest\", \"Southwest\", \"Southwest\", \"Southwest\", \"Southwest\", \"Southwest\", \"Southwest\", \"Southwest\", \"Southwest\", \"Southwest\", \"Southwest\", \"Southwest\", \"Southwest\", \"Southwest\", \"Southwest\", \"Southwest\", \"Southwest\", \"Southwest\", \"Southwest\", \"Southwest\", \"Southwest\", \"Southwest\", \"Southwest\", \"Southwest\", \"Southwest\", \"Southwest\", \"Southwest\", \"Southwest\", \"Southwest\", \"Southwest\", \"Southwest\", \"Southwest\", \"Southwest\", \"Southwest\", \"Southwest\", \"Southwest\", \"Southwest\", \"Southwest\", \"Southwest\", \"Southwest\", \"Southwest\", \"Southwest\", \"Southwest\", \"Southwest\", \"Southwest\", \"Southwest\", \"Southwest\", \"Southwest\", \"Southwest\", \"Southwest\", \"Southwest\", \"Southwest\", \"Southwest\", \"Southwest\", \"Southwest\", \"Southwest\", \"Southwest\", \"Southwest\", \"Southwest\", \"Southwest\", \"Southwest\", \"Southwest\", \"Southwest\", \"Southwest\", \"Southwest\", \"Southwest\", \"Southwest\", \"Southwest\", \"Southwest\", \"Southwest\", \"Southwest\", \"Southwest\", \"Southwest\", \"Southwest\", \"Southwest\", \"Southwest\", \"Southwest\", \"Southwest\", \"Southwest\", \"Southwest\", \"Southwest\", \"Southwest\", \"Southwest\", \"Southwest\", \"Southwest\", \"Southwest\", \"Southwest\", \"Southwest\", \"Southwest\", \"Southwest\", \"Southwest\", \"Southwest\", \"Southwest\", \"Southwest\", \"Southwest\", \"Southwest\", \"Southwest\", \"Southwest\", \"Southwest\", \"Southwest\", \"Southwest\", \"Southwest\", \"Southwest\", \"Southwest\", \"Southwest\", \"Southwest\", \"Southwest\", \"Southwest\", \"Southwest\", \"Southwest\", \"Southwest\", \"Southwest\", \"Southwest\", \"Southwest\", \"Southwest\", \"Southwest\", \"Southwest\", \"Southwest\", \"Southwest\", \"Southwest\", \"Southwest\", \"Southwest\", \"Southwest\", \"Southwest\", \"Southwest\", \"Southwest\", \"Southwest\", \"Southwest\", \"Southwest\", \"Southwest\", \"Southwest\", \"Southwest\", \"Southwest\", \"Southwest\", \"Southwest\", \"Southwest\", \"Southwest\", \"Southwest\", \"Southwest\", \"Southwest\", \"Southwest\", \"Southwest\", \"Southwest\", \"Southwest\", \"Southwest\", \"Southwest\", \"Southwest\", \"Southwest\", \"Southwest\", \"Southwest\", \"Southwest\", \"Southwest\", \"Southwest\", \"Southwest\", \"Southwest\", \"Southwest\", \"Southwest\", \"Southwest\", \"Southwest\", \"Southwest\", \"Southwest\", \"Southwest\", \"Southwest\", \"Southwest\", \"Southwest\", \"Southwest\", \"Southwest\", \"Southwest\", \"Southwest\", \"Southwest\", \"Southwest\", \"Southwest\", \"Southwest\", \"Southwest\", \"Southwest\", \"Southwest\", \"Southwest\", \"Southwest\", \"Southwest\", \"Southwest\", \"Southwest\", \"Southwest\", \"Southwest\", \"Southwest\", \"Southwest\", \"Southwest\", \"Southwest\", \"Southwest\", \"Southwest\", \"Southwest\", \"Southwest\", \"Southwest\", \"Southwest\", \"Southwest\", \"Southwest\", \"Southwest\", \"Southwest\", \"Southwest\", \"Southwest\", \"Southwest\", \"Southwest\", \"Southwest\", \"Southwest\", \"Southwest\", \"Southwest\", \"Southwest\", \"Southwest\", \"Southwest\", \"Southwest\", \"Southwest\", \"Southwest\", \"Southwest\", \"Southwest\", \"Southwest\", \"Southwest\", \"Southwest\", \"Southwest\", \"Southwest\", \"Southwest\", \"Southwest\", \"Southwest\", \"Southwest\", \"Southwest\", \"Southwest\", \"Southwest\", \"Southwest\", \"Southwest\", \"Southwest\", \"Southwest\", \"Southwest\", \"Southwest\", \"Southwest\", \"Southwest\", \"Southwest\", \"Southwest\", \"Southwest\", \"Southwest\", \"Southwest\", \"Southwest\", \"Southwest\", \"Southwest\", \"Southwest\", \"Southwest\", \"Southwest\", \"Southwest\", \"Southwest\", \"Southwest\", \"Southwest\", \"Southwest\", \"Southwest\", \"Southwest\", \"Southwest\", \"Southwest\", \"Southwest\", \"Southwest\", \"Southwest\", \"Southwest\", \"Southwest\", \"Southwest\", \"Southwest\", \"Southwest\", \"Southwest\", \"Southwest\", \"Southwest\", \"Southwest\", \"Southwest\", \"Southwest\", \"Southwest\", \"Southwest\", \"Southwest\", \"Southwest\", \"Southwest\", \"Southwest\", \"Southwest\", \"Southwest\", \"Southwest\", \"Southwest\", \"Southwest\", \"Southwest\", \"Southwest\", \"Southwest\", \"Southwest\", \"Southwest\", \"Southwest\", \"Southwest\", \"Southwest\", \"Southwest\", \"Southwest\", \"Southwest\", \"Southwest\", \"Southwest\", \"Southwest\", \"Southwest\", \"Southwest\", \"Southwest\", \"Southwest\", \"Southwest\", \"Southwest\", \"Southwest\", \"Southwest\", \"Southwest\", \"Southwest\", \"Southwest\", \"Southwest\", \"Southwest\", \"Southwest\", \"Southwest\", \"Southwest\", \"Southwest\", \"Southwest\", \"Southwest\", \"Southwest\", \"Southwest\", \"Southwest\", \"Southwest\", \"Southwest\", \"Southwest\", \"Southwest\", \"Southwest\", \"Southwest\", \"Southwest\", \"Southwest\", \"Southwest\", \"Southwest\", \"Southwest\", \"Southwest\", \"Southwest\", \"Southwest\", \"Southwest\", \"Southwest\", \"Southwest\", \"Southwest\", \"Southwest\", \"Southwest\", \"Southwest\", \"Southwest\", \"Southwest\", \"Southwest\", \"Southwest\", \"Southwest\", \"Southwest\", \"Southwest\", \"Southwest\", \"Southwest\", \"Southwest\", \"Southwest\", \"Southwest\", \"Southwest\", \"Southwest\", \"Southwest\", \"Southwest\", \"Southwest\", \"Southwest\", \"Southwest\", \"Southwest\", \"Southwest\", \"Southwest\", \"Southwest\", \"Southwest\", \"Southwest\", \"Southwest\", \"Southwest\", \"Southwest\", \"Southwest\", \"Southwest\", \"Southwest\", \"Southwest\", \"Southwest\", \"Southwest\", \"Southwest\", \"Southwest\", \"Southwest\", \"Southwest\", \"Southwest\", \"Southwest\", \"Southwest\", \"Southwest\", \"Southwest\", \"Southwest\", \"Southwest\", \"Southwest\", \"Southwest\", \"Southwest\", \"Southwest\", \"Southwest\", \"Southwest\", \"Southwest\", \"Southwest\", \"Southwest\", \"Southwest\", \"Southwest\", \"Southwest\", \"Southwest\", \"Southwest\", \"Southwest\", \"Southwest\", \"Southwest\", \"Southwest\", \"Southwest\", \"Southwest\", \"Southwest\", \"Southwest\", \"Southwest\", \"Southwest\", \"Southwest\", \"Southwest\", \"Southwest\", \"Southwest\", \"Southwest\", \"Southwest\", \"Southwest\", \"Southwest\", \"Southwest\", \"Southwest\", \"Southwest\", \"Southwest\", \"Southwest\", \"Southwest\", \"Southwest\", \"Southwest\", \"Southwest\", \"Southwest\", \"Southwest\", \"Southwest\", \"Southwest\", \"Southwest\", \"Southwest\", \"Southwest\", \"Southwest\", \"Southwest\", \"Southwest\", \"Southwest\", \"Southwest\", \"Southwest\", \"Southwest\", \"Southwest\", \"Southwest\", \"Southwest\", \"Southwest\", \"Southwest\", \"Southwest\", \"Southwest\", \"Southwest\", \"Southwest\", \"Southwest\", \"Southwest\", \"Southwest\", \"Southwest\", \"Southwest\", \"Southwest\", \"Southwest\", \"Southwest\", \"Southwest\", \"Southwest\", \"Southwest\", \"Southwest\", \"Southwest\", \"Southwest\", \"Southwest\", \"Southwest\", \"Southwest\", \"Southwest\", \"Southwest\", \"Southwest\", \"Southwest\", \"Southwest\", \"Southwest\", \"Southwest\", \"Southwest\", \"Southwest\", \"Southwest\", \"Southwest\", \"Southwest\", \"Southwest\", \"Southwest\", \"Southwest\", \"Southwest\", \"Southwest\", \"Southwest\", \"Southwest\", \"Southwest\", \"Southwest\", \"Southwest\", \"Southwest\", \"Southwest\", \"Southwest\", \"Southwest\", \"Southwest\", \"Southwest\", \"Southwest\", \"Southwest\", \"Southwest\", \"Southwest\", \"Southwest\", \"Southwest\", \"Southwest\", \"Southwest\", \"Southwest\", \"Southwest\", \"Southwest\", \"Southwest\", \"Southwest\", \"Southwest\", \"Southwest\", \"Southwest\", \"Southwest\", \"Southwest\", \"Southwest\", \"Southwest\", \"Southwest\", \"Southwest\", \"Southwest\", \"Southwest\", \"Southwest\", \"Southwest\", \"Southwest\", \"Southwest\", \"Southwest\", \"Southwest\", \"Southwest\", \"Southwest\", \"Southwest\", \"Southwest\", \"Southwest\", \"Southwest\", \"Southwest\", \"Southwest\", \"Southwest\", \"Southwest\", \"Southwest\", \"Southwest\", \"Southwest\", \"Southwest\", \"Southwest\", \"Southwest\", \"Southwest\", \"Southwest\", \"Southwest\", \"Southwest\", \"Southwest\", \"Southwest\", \"Southwest\", \"Southwest\", \"Southwest\", \"Southwest\", \"Southwest\", \"Southwest\", \"Southwest\", \"Southwest\", \"Southwest\", \"Southwest\", \"Southwest\", \"Southwest\", \"Southwest\", \"Southwest\", \"Southwest\", \"Southwest\", \"Southwest\", \"Southwest\", \"Southwest\", \"Southwest\", \"Southwest\", \"Southwest\", \"Southwest\", \"Southwest\", \"Southwest\", \"Southwest\", \"Southwest\", \"Southwest\", \"Southwest\", \"Southwest\", \"Southwest\", \"Southwest\", \"Southwest\", \"Southwest\", \"Southwest\", \"Southwest\", \"Southwest\", \"Southwest\", \"Southwest\", \"Southwest\", \"Southwest\", \"Southwest\", \"Southwest\", \"Southwest\", \"Southwest\", \"Southwest\", \"Southwest\", \"Southwest\", \"Southwest\", \"Southwest\", \"Southwest\", \"Southwest\", \"Southwest\", \"Southwest\", \"Southwest\", \"Southwest\", \"Southwest\", \"Southwest\", \"Southwest\", \"Southwest\", \"Southwest\", \"Southwest\", \"Southwest\", \"Southwest\", \"Southwest\", \"Southwest\", \"Southwest\", \"Southwest\", \"Southwest\", \"Southwest\", \"Southwest\", \"Southwest\", \"Southwest\", \"Southwest\", \"Southwest\", \"Southwest\", \"Southwest\", \"Southwest\", \"Southwest\", \"Southwest\", \"Southwest\", \"Southwest\", \"Southwest\", \"Southwest\", \"Southwest\", \"Southwest\", \"Southwest\", \"Southwest\", \"Southwest\", \"Southwest\", \"Southwest\", \"Southwest\", \"Southwest\", \"Southwest\", \"Southwest\", \"Southwest\", \"Southwest\", \"Southwest\", \"Southwest\", \"Southwest\", \"Southwest\", \"Southwest\", \"Southwest\", \"Southwest\", \"Southwest\", \"Southwest\", \"Southwest\", \"Southwest\", \"Southwest\", \"Southwest\", \"Southwest\", \"Southwest\", \"Southwest\", \"Southwest\", \"Delta\", \"Delta\", \"Delta\", \"Delta\", \"Delta\", \"Delta\", \"Delta\", \"Delta\", \"Delta\", \"Delta\", \"Delta\", \"Delta\", \"Delta\", \"Delta\", \"Delta\", \"Delta\", \"Delta\", \"Delta\", \"Delta\", \"Delta\", \"Delta\", \"Delta\", \"Delta\", \"Delta\", \"Delta\", \"Delta\", \"Delta\", \"Delta\", \"Delta\", \"Delta\", \"Delta\", \"Delta\", \"Delta\", \"Delta\", \"Delta\", \"Delta\", \"Delta\", \"Delta\", \"Delta\", \"Delta\", \"Delta\", \"Delta\", \"Delta\", \"Delta\", \"Delta\", \"Delta\", \"Delta\", \"Delta\", \"Delta\", \"Delta\", \"Delta\", \"Delta\", \"Delta\", \"Delta\", \"Delta\", \"Delta\", \"Delta\", \"Delta\", \"Delta\", \"Delta\", \"Delta\", \"Delta\", \"Delta\", \"Delta\", \"Delta\", \"Delta\", \"Delta\", \"Delta\", \"Delta\", \"Delta\", \"Delta\", \"Delta\", \"Delta\", \"Delta\", \"Delta\", \"Delta\", \"Delta\", \"Delta\", \"Delta\", \"Delta\", \"Delta\", \"Delta\", \"Delta\", \"Delta\", \"Delta\", \"Delta\", \"Delta\", \"Delta\", \"Delta\", \"Delta\", \"Delta\", \"Delta\", \"Delta\", \"Delta\", \"Delta\", \"Delta\", \"Delta\", \"Delta\", \"Delta\", \"Delta\", \"Delta\", \"Delta\", \"Delta\", \"Delta\", \"Delta\", \"Delta\", \"Delta\", \"Delta\", \"Delta\", \"Delta\", \"Delta\", \"Delta\", \"Delta\", \"Delta\", \"Delta\", \"Delta\", \"Delta\", \"Delta\", \"Delta\", \"Delta\", \"Delta\", \"Delta\", \"Delta\", \"Delta\", \"Delta\", \"Delta\", \"Delta\", \"Delta\", \"Delta\", \"Delta\", \"Delta\", \"Delta\", \"Delta\", \"Delta\", \"Delta\", \"Delta\", \"Delta\", \"Delta\", \"Delta\", \"Delta\", \"Delta\", \"Delta\", \"Delta\", \"Delta\", \"Delta\", \"Delta\", \"Delta\", \"Delta\", \"Delta\", \"Delta\", \"Delta\", \"Delta\", \"Delta\", \"Delta\", \"Delta\", \"Delta\", \"Delta\", \"Delta\", \"Delta\", \"Delta\", \"Delta\", \"Delta\", \"Delta\", \"Delta\", \"Delta\", \"Delta\", \"Delta\", \"Delta\", \"Delta\", \"Delta\", \"Delta\", \"Delta\", \"Delta\", \"Delta\", \"Delta\", \"Delta\", \"Delta\", \"Delta\", \"Delta\", \"Delta\", \"Delta\", \"Delta\", \"Delta\", \"Delta\", \"Delta\", \"Delta\", \"Delta\", \"Delta\", \"Delta\", \"Delta\", \"Delta\", \"Delta\", \"Delta\", \"Delta\", \"Delta\", \"Delta\", \"Delta\", \"Delta\", \"Delta\", \"Delta\", \"Delta\", \"Delta\", \"Delta\", \"Delta\", \"Delta\", \"Delta\", \"Delta\", \"Delta\", \"Delta\", \"Delta\", \"Delta\", \"Delta\", \"Delta\", \"Delta\", \"Delta\", \"Delta\", \"Delta\", \"Delta\", \"Delta\", \"Delta\", \"Delta\", \"Delta\", \"Delta\", \"Delta\", \"Delta\", \"Delta\", \"Delta\", \"Delta\", \"Delta\", \"Delta\", \"Delta\", \"Delta\", \"Delta\", \"Delta\", \"Delta\", \"Delta\", \"Delta\", \"Delta\", \"Delta\", \"Delta\", \"Delta\", \"Delta\", \"Delta\", \"Delta\", \"Delta\", \"Delta\", \"Delta\", \"Delta\", \"Delta\", \"Delta\", \"Delta\", \"Delta\", \"Delta\", \"Delta\", \"Delta\", \"Delta\", \"Delta\", \"Delta\", \"Delta\", \"Delta\", \"Delta\", \"Delta\", \"Delta\", \"Delta\", \"Delta\", \"Delta\", \"Delta\", \"Delta\", \"Delta\", \"Delta\", \"Delta\", \"Delta\", \"Delta\", \"Delta\", \"Delta\", \"Delta\", \"Delta\", \"Delta\", \"Delta\", \"Delta\", \"Delta\", \"Delta\", \"Delta\", \"Delta\", \"Delta\", \"Delta\", \"Delta\", \"Delta\", \"Delta\", \"Delta\", \"Delta\", \"Delta\", \"Delta\", \"Delta\", \"Delta\", \"Delta\", \"Delta\", \"Delta\", \"Delta\", \"Delta\", \"Delta\", \"Delta\", \"Delta\", \"Delta\", \"Delta\", \"Delta\", \"Delta\", \"Delta\", \"Delta\", \"Delta\", \"Delta\", \"Delta\", \"Delta\", \"Delta\", \"Delta\", \"Delta\", \"Delta\", \"Delta\", \"Delta\", \"Delta\", \"Delta\", \"Delta\", \"Delta\", \"Delta\", \"Delta\", \"Delta\", \"Delta\", \"Delta\", \"Delta\", \"Delta\", \"Delta\", \"Delta\", \"Delta\", \"Delta\", \"Delta\", \"Delta\", \"Delta\", \"Delta\", \"Delta\", \"Delta\", \"Delta\", \"Delta\", \"Delta\", \"Delta\", \"Delta\", \"Delta\", \"Delta\", \"Delta\", \"Delta\", \"Delta\", \"Delta\", \"Delta\", \"Delta\", \"Delta\", \"Delta\", \"Delta\", \"Delta\", \"Delta\", \"Delta\", \"Delta\", \"Delta\", \"Delta\", \"Delta\", \"Delta\", \"Delta\", \"Delta\", \"Delta\", \"Delta\", \"Delta\", \"Delta\", \"Delta\", \"Delta\", \"Delta\", \"Delta\", \"Delta\", \"Delta\", \"Delta\", \"Delta\", \"Delta\", \"Delta\", \"Delta\", \"Delta\", \"Delta\", \"Delta\", \"Delta\", \"Delta\", \"Delta\", \"Delta\", \"Delta\", \"Delta\", \"Delta\", \"Delta\", \"Delta\", \"Delta\", \"Delta\", \"Delta\", \"Delta\", \"Delta\", \"Delta\", \"Delta\", \"Delta\", \"Delta\", \"Delta\", \"Delta\", \"Delta\", \"Delta\", \"Delta\", \"Delta\", \"Delta\", \"Delta\", \"Delta\", \"Delta\", \"Delta\", \"Delta\", \"Delta\", \"Delta\", \"Delta\", \"Delta\", \"Delta\", \"Delta\", \"Delta\", \"Delta\", \"Delta\", \"Delta\", \"Delta\", \"Delta\", \"Delta\", \"Delta\", \"Delta\", \"Delta\", \"Delta\", \"Delta\", \"Delta\", \"Delta\", \"Delta\", \"Delta\", \"Delta\", \"Delta\", \"Delta\", \"Delta\", \"Delta\", \"Delta\", \"Delta\", \"Delta\", \"Delta\", \"Delta\", \"Delta\", \"Delta\", \"Delta\", \"Delta\", \"Delta\", \"Delta\", \"Delta\", \"Delta\", \"Delta\", \"Delta\", \"Delta\", \"Delta\", \"Delta\", \"Delta\", \"Delta\", \"Delta\", \"Delta\", \"Delta\", \"Delta\", \"Delta\", \"Delta\", \"Delta\", \"Delta\", \"Delta\", \"Delta\", \"Delta\", \"Delta\", \"Delta\", \"Delta\", \"Delta\", \"Delta\", \"Delta\", \"Delta\", \"Delta\", \"Delta\", \"Delta\", \"Delta\", \"Delta\", \"Delta\", \"Delta\", \"Delta\", \"Delta\", \"Delta\", \"Delta\", \"Delta\", \"Delta\", \"Delta\", \"Delta\", \"Delta\", \"Delta\", \"Delta\", \"Delta\", \"Delta\", \"Delta\", \"Delta\", \"Delta\", \"Delta\", \"Delta\", \"Delta\", \"Delta\", \"Delta\", \"Delta\", \"Delta\", \"Delta\", \"Delta\", \"Delta\", \"Delta\", \"Delta\", \"Delta\", \"Delta\", \"Delta\", \"Delta\", \"Delta\", \"Delta\", \"Delta\", \"Delta\", \"Delta\", \"Delta\", \"Delta\", \"Delta\", \"Delta\", \"Delta\", \"Delta\", \"Delta\", \"Delta\", \"Delta\", \"Delta\", \"Delta\", \"Delta\", \"Delta\", \"Delta\", \"Delta\", \"Delta\", \"Delta\", \"Delta\", \"Delta\", \"Delta\", \"Delta\", \"Delta\", \"Delta\", \"Delta\", \"Delta\", \"Delta\", \"Delta\", \"Delta\", \"Delta\", \"Delta\", \"Delta\", \"Delta\", \"Delta\", \"Delta\", \"Delta\", \"Delta\", \"Delta\", \"Delta\", \"Delta\", \"Delta\", \"Delta\", \"Delta\", \"Delta\", \"Delta\", \"Delta\", \"Delta\", \"Delta\", \"Delta\", \"Delta\", \"Delta\", \"Delta\", \"Delta\", \"Delta\", \"Delta\", \"Delta\", \"Delta\", \"Delta\", \"Delta\", \"Delta\", \"Delta\", \"Delta\", \"Delta\", \"Delta\", \"Delta\", \"Delta\", \"Delta\", \"Delta\", \"Delta\", \"Delta\", \"Delta\", \"Delta\", \"Delta\", \"Delta\", \"Delta\", \"Delta\", \"Delta\", \"Delta\", \"Delta\", \"Delta\", \"Delta\", \"Delta\", \"Delta\", \"Delta\", \"Delta\", \"Delta\", \"Delta\", \"Delta\", \"Delta\", \"Delta\", \"Delta\", \"Delta\", \"Delta\", \"Delta\", \"Delta\", \"Delta\", \"Delta\", \"Delta\", \"Delta\", \"Delta\", \"Delta\", \"Delta\", \"Delta\", \"Delta\", \"Delta\", \"Delta\", \"Delta\", \"Delta\", \"Delta\", \"Delta\", \"Delta\", \"Delta\", \"Delta\", \"Delta\", \"Delta\", \"Delta\", \"Delta\", \"Delta\", \"Delta\", \"Delta\", \"Delta\", \"Delta\", \"Delta\", \"Delta\", \"Delta\", \"Delta\", \"Delta\", \"Delta\", \"Delta\", \"Delta\", \"Delta\", \"Delta\", \"Delta\", \"Delta\", \"Delta\", \"Delta\", \"Delta\", \"Delta\", \"Delta\", \"Delta\", \"Delta\", \"Delta\", \"Delta\", \"Delta\", \"Delta\", \"Delta\", \"Delta\", \"Delta\", \"Delta\", \"Delta\", \"Delta\", \"Delta\", \"Delta\", \"Delta\", \"Delta\", \"Delta\", \"Delta\", \"Delta\", \"Delta\", \"Delta\", \"Delta\", \"Delta\", \"Delta\", \"Delta\", \"Delta\", \"Delta\", \"Delta\", \"Delta\", \"Delta\", \"Delta\", \"Delta\", \"Delta\", \"Delta\", \"Delta\", \"Delta\", \"Delta\", \"Delta\", \"Delta\", \"Delta\", \"Delta\", \"Delta\", \"Delta\", \"Delta\", \"Delta\", \"Delta\", \"Delta\", \"Delta\", \"Delta\", \"Delta\", \"Delta\", \"Delta\", \"Delta\", \"Delta\", \"Delta\", \"Delta\", \"Delta\", \"Delta\", \"Delta\", \"Delta\", \"Delta\", \"Delta\", \"US Airways\", \"US Airways\", \"US Airways\", \"US Airways\", \"US Airways\", \"US Airways\", \"US Airways\", \"US Airways\", \"US Airways\", \"US Airways\", \"US Airways\", \"US Airways\", \"US Airways\", \"US Airways\", \"US Airways\", \"US Airways\", \"US Airways\", \"US Airways\", \"US Airways\", \"US Airways\", \"US Airways\", \"US Airways\", \"US Airways\", \"US Airways\", \"US Airways\", \"US Airways\", \"US Airways\", \"US Airways\", \"US Airways\", \"US Airways\", \"US Airways\", \"US Airways\", \"US Airways\", \"US Airways\", \"US Airways\", \"US Airways\", \"US Airways\", \"US Airways\", \"US Airways\", \"US Airways\", \"US Airways\", \"US Airways\", \"US Airways\", \"US Airways\", \"US Airways\", \"US Airways\", \"US Airways\", \"US Airways\", \"US Airways\", \"US Airways\", \"US Airways\", \"US Airways\", \"US Airways\", \"US Airways\", \"US Airways\", \"US Airways\", \"US Airways\", \"US Airways\", \"US Airways\", \"US Airways\", \"US Airways\", \"US Airways\", \"US Airways\", \"US Airways\", \"US Airways\", \"US Airways\", \"US Airways\", \"US Airways\", \"US Airways\", \"US Airways\", \"US Airways\", \"US Airways\", \"US Airways\", \"US Airways\", \"US Airways\", \"US Airways\", \"US Airways\", \"US Airways\", \"US Airways\", \"US Airways\", \"US Airways\", \"US Airways\", \"US Airways\", \"US Airways\", \"US Airways\", \"US Airways\", \"US Airways\", \"US Airways\", \"US Airways\", \"US Airways\", \"US Airways\", \"US Airways\", \"US Airways\", \"US Airways\", \"US Airways\", \"US Airways\", \"US Airways\", \"US Airways\", \"US Airways\", \"US Airways\", \"US Airways\", \"US Airways\", \"US Airways\", \"US Airways\", \"US Airways\", \"US Airways\", \"US Airways\", \"US Airways\", \"US Airways\", \"US Airways\", \"US Airways\", \"US Airways\", \"US Airways\", \"US Airways\", \"US Airways\", \"US Airways\", \"US Airways\", \"US Airways\", \"US Airways\", \"US Airways\", \"US Airways\", \"US Airways\", \"US Airways\", \"US Airways\", \"US Airways\", \"US Airways\", \"US Airways\", \"US Airways\", \"US Airways\", \"US Airways\", \"US Airways\", \"US Airways\", \"US Airways\", \"US Airways\", \"US Airways\", \"US Airways\", \"US Airways\", \"US Airways\", \"US Airways\", \"US Airways\", \"US Airways\", \"US Airways\", \"US Airways\", \"US Airways\", \"US Airways\", \"US Airways\", \"US Airways\", \"US Airways\", \"US Airways\", \"US Airways\", \"US Airways\", \"US Airways\", \"US Airways\", \"US Airways\", \"US Airways\", \"US Airways\", \"US Airways\", \"US Airways\", \"US Airways\", \"US Airways\", \"US Airways\", \"US Airways\", \"US Airways\", \"US Airways\", \"US Airways\", \"US Airways\", \"US Airways\", \"US Airways\", \"US Airways\", \"US Airways\", \"US Airways\", \"US Airways\", \"US Airways\", \"US Airways\", \"US Airways\", \"US Airways\", \"US Airways\", \"US Airways\", \"US Airways\", \"US Airways\", \"US Airways\", \"US Airways\", \"US Airways\", \"US Airways\", \"US Airways\", \"US Airways\", \"US Airways\", \"US Airways\", \"US Airways\", \"US Airways\", \"US Airways\", \"US Airways\", \"US Airways\", \"US Airways\", \"US Airways\", \"US Airways\", \"US Airways\", \"US Airways\", \"US Airways\", \"US Airways\", \"US Airways\", \"US Airways\", \"US Airways\", \"US Airways\", \"US Airways\", \"US Airways\", \"US Airways\", \"US Airways\", \"US Airways\", \"US Airways\", \"US Airways\", \"US Airways\", \"US Airways\", \"US Airways\", \"US Airways\", \"US Airways\", \"US Airways\", \"US Airways\", \"US Airways\", \"US Airways\", \"US Airways\", \"US Airways\", \"US Airways\", \"US Airways\", \"US Airways\", \"US Airways\", \"US Airways\", \"US Airways\", \"US Airways\", \"US Airways\", \"US Airways\", \"US Airways\", \"US Airways\", \"US Airways\", \"US Airways\", \"US Airways\", \"US Airways\", \"US Airways\", \"US Airways\", \"US Airways\", \"US Airways\", \"US Airways\", \"US Airways\", \"US Airways\", \"US Airways\", \"US Airways\", \"US Airways\", \"US Airways\", \"US Airways\", \"US Airways\", \"US Airways\", \"US Airways\", \"US Airways\", \"US Airways\", \"US Airways\", \"US Airways\", \"US Airways\", \"US Airways\", \"US Airways\", \"US Airways\", \"US Airways\", \"US Airways\", \"US Airways\", \"US Airways\", \"US Airways\", \"US Airways\", \"US Airways\", \"US Airways\", \"US Airways\", \"US Airways\", \"US Airways\", \"US Airways\", \"US Airways\", \"US Airways\", \"US Airways\", \"US Airways\", \"US Airways\", \"US Airways\", \"US Airways\", \"US Airways\", \"US Airways\", \"US Airways\", \"US Airways\", \"US Airways\", \"US Airways\", \"US Airways\", \"US Airways\", \"US Airways\", \"US Airways\", \"US Airways\", \"US Airways\", \"US Airways\", \"US Airways\", \"US Airways\", \"US Airways\", \"US Airways\", \"US Airways\", \"US Airways\", \"US Airways\", \"US Airways\", \"US Airways\", \"US Airways\", \"US Airways\", \"US Airways\", \"US Airways\", \"US Airways\", \"US Airways\", \"US Airways\", \"US Airways\", \"US Airways\", \"US Airways\", \"US Airways\", \"US Airways\", \"US Airways\", \"US Airways\", \"US Airways\", \"US Airways\", \"US Airways\", \"US Airways\", \"US Airways\", \"US Airways\", \"US Airways\", \"US Airways\", \"US Airways\", \"US Airways\", \"US Airways\", \"US Airways\", \"US Airways\", \"US Airways\", \"US Airways\", \"US Airways\", \"US Airways\", \"US Airways\", \"US Airways\", \"US Airways\", \"US Airways\", \"US Airways\", \"US Airways\", \"US Airways\", \"US Airways\", \"US Airways\", \"US Airways\", \"US Airways\", \"US Airways\", \"US Airways\", \"US Airways\", \"US Airways\", \"US Airways\", \"US Airways\", \"US Airways\", \"US Airways\", \"US Airways\", \"US Airways\", \"US Airways\", \"US Airways\", \"US Airways\", \"US Airways\", \"US Airways\", \"US Airways\", \"US Airways\", \"US Airways\", \"US Airways\", \"US Airways\", \"US Airways\", \"US Airways\", \"US Airways\", \"US Airways\", \"US Airways\", \"US Airways\", \"US Airways\", \"US Airways\", \"US Airways\", \"US Airways\", \"US Airways\", \"US Airways\", \"US Airways\", \"US Airways\", \"US Airways\", \"US Airways\", \"US Airways\", \"US Airways\", \"American\", \"American\", \"American\", \"American\", \"American\", \"American\", \"American\", \"American\", \"American\", \"American\", \"American\", \"American\", \"American\", \"American\", \"American\", \"American\", \"American\", \"American\", \"American\", \"American\", \"American\", \"American\", \"American\", \"American\", \"American\", \"American\", \"American\", \"American\", \"American\", \"American\", \"American\", \"American\", \"American\", \"American\", \"American\", \"American\", \"American\", \"American\", \"American\", \"American\", \"American\", \"American\", \"American\", \"American\", \"American\", \"American\", \"American\", \"American\", \"American\", \"American\", \"American\", \"American\", \"American\", \"American\", \"American\", \"American\", \"American\", \"American\", \"American\", \"American\", \"American\", \"American\", \"American\", \"American\", \"American\", \"American\", \"American\", \"American\", \"American\", \"American\", \"American\", \"American\", \"American\", \"American\", \"American\", \"American\", \"American\", \"American\", \"American\", \"American\", \"American\", \"American\", \"American\", \"American\", \"American\", \"American\", \"American\", \"American\", \"American\", \"American\", \"American\", \"American\", \"American\", \"American\", \"American\", \"American\", \"American\", \"American\", \"American\", \"American\", \"American\", \"American\", \"American\", \"American\", \"American\", \"American\", \"American\", \"American\", \"American\", \"American\", \"American\", \"American\", \"American\", \"American\", \"American\", \"American\", \"American\", \"American\", \"American\", \"American\", \"American\", \"American\", \"American\", \"American\", \"American\", \"American\", \"American\", \"American\", \"American\", \"American\", \"American\", \"American\", \"American\", \"American\", \"American\", \"American\", \"American\", \"American\", \"American\", \"American\", \"American\", \"American\", \"American\", \"American\", \"American\", \"American\", \"American\", \"American\", \"American\", \"American\", \"American\", \"American\", \"American\", \"American\", \"American\", \"American\", \"American\", \"American\", \"American\", \"American\", \"American\", \"American\", \"American\", \"American\", \"American\", \"American\", \"American\", \"American\", \"American\", \"American\", \"American\", \"American\", \"American\", \"American\", \"American\", \"American\", \"American\", \"American\", \"American\", \"American\", \"American\", \"American\", \"American\", \"American\", \"American\", \"American\", \"American\", \"American\", \"American\", \"American\", \"American\", \"American\", \"American\", \"American\", \"American\", \"American\", \"American\", \"American\", \"American\", \"American\", \"American\", \"American\", \"American\", \"American\", \"American\", \"American\", \"American\", \"American\", \"American\", \"American\", \"American\", \"American\", \"American\", \"American\", \"American\", \"American\", \"American\", \"American\", \"American\", \"American\", \"American\", \"American\", \"American\", \"American\", \"American\", \"American\", \"American\", \"American\", \"American\", \"American\", \"American\", \"American\", \"American\", \"American\", \"American\", \"American\", \"American\", \"American\", \"American\", \"American\", \"American\", \"American\", \"American\", \"American\", \"American\", \"American\", \"American\", \"American\", \"American\", \"American\", \"American\", \"American\", \"American\", \"American\", \"American\", \"American\", \"American\", \"American\", \"American\", \"American\", \"American\", \"American\", \"American\", \"American\", \"American\", \"American\", \"American\", \"American\", \"American\", \"American\", \"American\", \"American\", \"American\", \"American\", \"American\", \"American\", \"American\", \"American\", \"American\", \"American\", \"American\", \"American\", \"American\", \"American\", \"American\", \"American\", \"American\", \"American\", \"American\", \"American\", \"American\", \"American\", \"American\", \"American\", \"American\", \"American\", \"American\", \"American\", \"American\", \"American\", \"American\", \"American\", \"American\", \"American\", \"American\", \"American\", \"American\", \"American\", \"American\", \"American\", \"American\", \"American\", \"American\", \"American\", \"American\", \"American\", \"American\", \"American\", \"American\", \"American\", \"American\", \"American\", \"American\", \"American\", \"American\", \"American\", \"American\", \"American\", \"American\", \"American\", \"American\", \"American\", \"American\", \"American\", \"American\", \"American\", \"American\", \"American\", \"American\", \"American\", \"American\", \"American\", \"American\", \"American\", \"American\", \"American\", \"American\", \"American\", \"American\", \"American\", \"American\", \"American\", \"American\", \"American\", \"American\", \"American\", \"American\", \"American\", \"American\", \"American\", \"American\", \"American\", \"American\", \"American\", \"American\", \"American\", \"American\", \"American\", \"American\", \"American\", \"American\", \"American\", \"American\", \"American\", \"American\", \"American\", \"American\", \"American\", \"American\", \"American\", \"American\", \"American\", \"American\", \"American\", \"American\", \"American\", \"American\", \"American\", \"American\", \"American\", \"American\", \"American\", \"American\", \"American\", \"American\", \"American\", \"American\", \"American\", \"American\", \"American\", \"American\", \"American\", \"American\", \"American\", \"American\", \"American\", \"American\", \"American\", \"American\", \"American\", \"American\", \"American\", \"American\", \"American\", \"American\", \"American\", \"American\", \"American\", \"American\", \"American\", \"American\", \"American\", \"American\", \"American\", \"American\", \"American\", \"American\", \"American\", \"American\", \"American\", \"American\", \"American\", \"American\", \"American\", \"American\", \"American\", \"American\", \"American\", \"American\", \"American\", \"American\", \"American\", \"American\", \"American\", \"American\", \"American\", \"American\", \"American\", \"American\", \"American\", \"American\", \"American\", \"American\", \"American\", \"American\", \"American\", \"American\", \"American\", \"American\", \"American\", \"American\", \"American\", \"American\"]}],                        {\"template\": {\"data\": {\"bar\": [{\"error_x\": {\"color\": \"#2a3f5f\"}, \"error_y\": {\"color\": \"#2a3f5f\"}, \"marker\": {\"line\": {\"color\": \"#E5ECF6\", \"width\": 0.5}}, \"type\": \"bar\"}], \"barpolar\": [{\"marker\": {\"line\": {\"color\": \"#E5ECF6\", \"width\": 0.5}}, \"type\": \"barpolar\"}], \"carpet\": [{\"aaxis\": {\"endlinecolor\": \"#2a3f5f\", \"gridcolor\": \"white\", \"linecolor\": \"white\", \"minorgridcolor\": \"white\", \"startlinecolor\": \"#2a3f5f\"}, \"baxis\": {\"endlinecolor\": \"#2a3f5f\", \"gridcolor\": \"white\", \"linecolor\": \"white\", \"minorgridcolor\": \"white\", \"startlinecolor\": \"#2a3f5f\"}, \"type\": \"carpet\"}], \"choropleth\": [{\"colorbar\": {\"outlinewidth\": 0, \"ticks\": \"\"}, \"type\": \"choropleth\"}], \"contour\": [{\"colorbar\": {\"outlinewidth\": 0, \"ticks\": \"\"}, \"colorscale\": [[0.0, \"#0d0887\"], [0.1111111111111111, \"#46039f\"], [0.2222222222222222, \"#7201a8\"], [0.3333333333333333, \"#9c179e\"], [0.4444444444444444, \"#bd3786\"], [0.5555555555555556, \"#d8576b\"], [0.6666666666666666, \"#ed7953\"], [0.7777777777777778, \"#fb9f3a\"], [0.8888888888888888, \"#fdca26\"], [1.0, \"#f0f921\"]], \"type\": \"contour\"}], \"contourcarpet\": [{\"colorbar\": {\"outlinewidth\": 0, \"ticks\": \"\"}, \"type\": \"contourcarpet\"}], \"heatmap\": [{\"colorbar\": {\"outlinewidth\": 0, \"ticks\": \"\"}, \"colorscale\": [[0.0, \"#0d0887\"], [0.1111111111111111, \"#46039f\"], [0.2222222222222222, \"#7201a8\"], [0.3333333333333333, \"#9c179e\"], [0.4444444444444444, \"#bd3786\"], [0.5555555555555556, \"#d8576b\"], [0.6666666666666666, \"#ed7953\"], [0.7777777777777778, \"#fb9f3a\"], [0.8888888888888888, \"#fdca26\"], [1.0, \"#f0f921\"]], \"type\": \"heatmap\"}], \"heatmapgl\": [{\"colorbar\": {\"outlinewidth\": 0, \"ticks\": \"\"}, \"colorscale\": [[0.0, \"#0d0887\"], [0.1111111111111111, \"#46039f\"], [0.2222222222222222, \"#7201a8\"], [0.3333333333333333, \"#9c179e\"], [0.4444444444444444, \"#bd3786\"], [0.5555555555555556, \"#d8576b\"], [0.6666666666666666, \"#ed7953\"], [0.7777777777777778, \"#fb9f3a\"], [0.8888888888888888, \"#fdca26\"], [1.0, \"#f0f921\"]], \"type\": \"heatmapgl\"}], \"histogram\": [{\"marker\": {\"colorbar\": {\"outlinewidth\": 0, \"ticks\": \"\"}}, \"type\": \"histogram\"}], \"histogram2d\": [{\"colorbar\": {\"outlinewidth\": 0, \"ticks\": \"\"}, \"colorscale\": [[0.0, \"#0d0887\"], [0.1111111111111111, \"#46039f\"], [0.2222222222222222, \"#7201a8\"], [0.3333333333333333, \"#9c179e\"], [0.4444444444444444, \"#bd3786\"], [0.5555555555555556, \"#d8576b\"], [0.6666666666666666, \"#ed7953\"], [0.7777777777777778, \"#fb9f3a\"], [0.8888888888888888, \"#fdca26\"], [1.0, \"#f0f921\"]], \"type\": \"histogram2d\"}], \"histogram2dcontour\": [{\"colorbar\": {\"outlinewidth\": 0, \"ticks\": \"\"}, \"colorscale\": [[0.0, \"#0d0887\"], [0.1111111111111111, \"#46039f\"], [0.2222222222222222, \"#7201a8\"], [0.3333333333333333, \"#9c179e\"], [0.4444444444444444, \"#bd3786\"], [0.5555555555555556, \"#d8576b\"], [0.6666666666666666, \"#ed7953\"], [0.7777777777777778, \"#fb9f3a\"], [0.8888888888888888, \"#fdca26\"], [1.0, \"#f0f921\"]], \"type\": \"histogram2dcontour\"}], \"mesh3d\": [{\"colorbar\": {\"outlinewidth\": 0, \"ticks\": \"\"}, \"type\": \"mesh3d\"}], \"parcoords\": [{\"line\": {\"colorbar\": {\"outlinewidth\": 0, \"ticks\": \"\"}}, \"type\": \"parcoords\"}], \"pie\": [{\"automargin\": true, \"type\": \"pie\"}], \"scatter\": [{\"marker\": {\"colorbar\": {\"outlinewidth\": 0, \"ticks\": \"\"}}, \"type\": \"scatter\"}], \"scatter3d\": [{\"line\": {\"colorbar\": {\"outlinewidth\": 0, \"ticks\": \"\"}}, \"marker\": {\"colorbar\": {\"outlinewidth\": 0, \"ticks\": \"\"}}, \"type\": \"scatter3d\"}], \"scattercarpet\": [{\"marker\": {\"colorbar\": {\"outlinewidth\": 0, \"ticks\": \"\"}}, \"type\": \"scattercarpet\"}], \"scattergeo\": [{\"marker\": {\"colorbar\": {\"outlinewidth\": 0, \"ticks\": \"\"}}, \"type\": \"scattergeo\"}], \"scattergl\": [{\"marker\": {\"colorbar\": {\"outlinewidth\": 0, \"ticks\": \"\"}}, \"type\": \"scattergl\"}], \"scattermapbox\": [{\"marker\": {\"colorbar\": {\"outlinewidth\": 0, \"ticks\": \"\"}}, \"type\": \"scattermapbox\"}], \"scatterpolar\": [{\"marker\": {\"colorbar\": {\"outlinewidth\": 0, \"ticks\": \"\"}}, \"type\": \"scatterpolar\"}], \"scatterpolargl\": [{\"marker\": {\"colorbar\": {\"outlinewidth\": 0, \"ticks\": \"\"}}, \"type\": \"scatterpolargl\"}], \"scatterternary\": [{\"marker\": {\"colorbar\": {\"outlinewidth\": 0, \"ticks\": \"\"}}, \"type\": \"scatterternary\"}], \"surface\": [{\"colorbar\": {\"outlinewidth\": 0, \"ticks\": \"\"}, \"colorscale\": [[0.0, \"#0d0887\"], [0.1111111111111111, \"#46039f\"], [0.2222222222222222, \"#7201a8\"], [0.3333333333333333, \"#9c179e\"], [0.4444444444444444, \"#bd3786\"], [0.5555555555555556, \"#d8576b\"], [0.6666666666666666, \"#ed7953\"], [0.7777777777777778, \"#fb9f3a\"], [0.8888888888888888, \"#fdca26\"], [1.0, \"#f0f921\"]], \"type\": \"surface\"}], \"table\": [{\"cells\": {\"fill\": {\"color\": \"#EBF0F8\"}, \"line\": {\"color\": \"white\"}}, \"header\": {\"fill\": {\"color\": \"#C8D4E3\"}, \"line\": {\"color\": \"white\"}}, \"type\": \"table\"}]}, \"layout\": {\"annotationdefaults\": {\"arrowcolor\": \"#2a3f5f\", \"arrowhead\": 0, \"arrowwidth\": 1}, \"coloraxis\": {\"colorbar\": {\"outlinewidth\": 0, \"ticks\": \"\"}}, \"colorscale\": {\"diverging\": [[0, \"#8e0152\"], [0.1, \"#c51b7d\"], [0.2, \"#de77ae\"], [0.3, \"#f1b6da\"], [0.4, \"#fde0ef\"], [0.5, \"#f7f7f7\"], [0.6, \"#e6f5d0\"], [0.7, \"#b8e186\"], [0.8, \"#7fbc41\"], [0.9, \"#4d9221\"], [1, \"#276419\"]], \"sequential\": [[0.0, \"#0d0887\"], [0.1111111111111111, \"#46039f\"], [0.2222222222222222, \"#7201a8\"], [0.3333333333333333, \"#9c179e\"], [0.4444444444444444, \"#bd3786\"], [0.5555555555555556, \"#d8576b\"], [0.6666666666666666, \"#ed7953\"], [0.7777777777777778, \"#fb9f3a\"], [0.8888888888888888, \"#fdca26\"], [1.0, \"#f0f921\"]], \"sequentialminus\": [[0.0, \"#0d0887\"], [0.1111111111111111, \"#46039f\"], [0.2222222222222222, \"#7201a8\"], [0.3333333333333333, \"#9c179e\"], [0.4444444444444444, \"#bd3786\"], [0.5555555555555556, \"#d8576b\"], [0.6666666666666666, \"#ed7953\"], [0.7777777777777778, \"#fb9f3a\"], [0.8888888888888888, \"#fdca26\"], [1.0, \"#f0f921\"]]}, \"colorway\": [\"#636efa\", \"#EF553B\", \"#00cc96\", \"#ab63fa\", \"#FFA15A\", \"#19d3f3\", \"#FF6692\", \"#B6E880\", \"#FF97FF\", \"#FECB52\"], \"font\": {\"color\": \"#2a3f5f\"}, \"geo\": {\"bgcolor\": \"white\", \"lakecolor\": \"white\", \"landcolor\": \"#E5ECF6\", \"showlakes\": true, \"showland\": true, \"subunitcolor\": \"white\"}, \"hoverlabel\": {\"align\": \"left\"}, \"hovermode\": \"closest\", \"mapbox\": {\"style\": \"light\"}, \"paper_bgcolor\": \"white\", \"plot_bgcolor\": \"#E5ECF6\", \"polar\": {\"angularaxis\": {\"gridcolor\": \"white\", \"linecolor\": \"white\", \"ticks\": \"\"}, \"bgcolor\": \"#E5ECF6\", \"radialaxis\": {\"gridcolor\": \"white\", \"linecolor\": \"white\", \"ticks\": \"\"}}, \"scene\": {\"xaxis\": {\"backgroundcolor\": \"#E5ECF6\", \"gridcolor\": \"white\", \"gridwidth\": 2, \"linecolor\": \"white\", \"showbackground\": true, \"ticks\": \"\", \"zerolinecolor\": \"white\"}, \"yaxis\": {\"backgroundcolor\": \"#E5ECF6\", \"gridcolor\": \"white\", \"gridwidth\": 2, \"linecolor\": \"white\", \"showbackground\": true, \"ticks\": \"\", \"zerolinecolor\": \"white\"}, \"zaxis\": {\"backgroundcolor\": \"#E5ECF6\", \"gridcolor\": \"white\", \"gridwidth\": 2, \"linecolor\": \"white\", \"showbackground\": true, \"ticks\": \"\", \"zerolinecolor\": \"white\"}}, \"shapedefaults\": {\"line\": {\"color\": \"#2a3f5f\"}}, \"ternary\": {\"aaxis\": {\"gridcolor\": \"white\", \"linecolor\": \"white\", \"ticks\": \"\"}, \"baxis\": {\"gridcolor\": \"white\", \"linecolor\": \"white\", \"ticks\": \"\"}, \"bgcolor\": \"#E5ECF6\", \"caxis\": {\"gridcolor\": \"white\", \"linecolor\": \"white\", \"ticks\": \"\"}}, \"title\": {\"x\": 0.05}, \"xaxis\": {\"automargin\": true, \"gridcolor\": \"white\", \"linecolor\": \"white\", \"ticks\": \"\", \"title\": {\"standoff\": 15}, \"zerolinecolor\": \"white\", \"zerolinewidth\": 2}, \"yaxis\": {\"automargin\": true, \"gridcolor\": \"white\", \"linecolor\": \"white\", \"ticks\": \"\", \"title\": {\"standoff\": 15}, \"zerolinecolor\": \"white\", \"zerolinewidth\": 2}}}, \"title\": {\"text\": \"Number of Neutral Sentiments Per Airline\", \"x\": 0.5}, \"xaxis\": {\"title\": {\"text\": \"Airline\"}}, \"yaxis\": {\"title\": {\"text\": \"Number of Neutral Sentiments\"}}},                        {\"responsive\": true}                    ).then(function(){\n",
       "                            \n",
       "var gd = document.getElementById('59a12a6d-cdb7-47c2-88af-40f799341f00');\n",
       "var x = new MutationObserver(function (mutations, observer) {{\n",
       "        var display = window.getComputedStyle(gd).display;\n",
       "        if (!display || display === 'none') {{\n",
       "            console.log([gd, 'removed!']);\n",
       "            Plotly.purge(gd);\n",
       "            observer.disconnect();\n",
       "        }}\n",
       "}});\n",
       "\n",
       "// Listen for the removal of the full notebook cells\n",
       "var notebookContainer = gd.closest('#notebook-container');\n",
       "if (notebookContainer) {{\n",
       "    x.observe(notebookContainer, {childList: true});\n",
       "}}\n",
       "\n",
       "// Listen for the clearing of the current output cell\n",
       "var outputEl = gd.closest('.output');\n",
       "if (outputEl) {{\n",
       "    x.observe(outputEl, {childList: true});\n",
       "}}\n",
       "\n",
       "                        })                };                });            </script>        </div>"
      ]
     },
     "metadata": {},
     "output_type": "display_data"
    }
   ],
   "source": [
    "fig = go.Figure(data=data,\n",
    "               layout=layout)\n",
    "offline.iplot(fig)"
   ]
  },
  {
   "cell_type": "markdown",
   "metadata": {},
   "source": [
    "### Histogram showing the count of each sentiment for the “Delta” airline"
   ]
  },
  {
   "cell_type": "code",
   "execution_count": 15,
   "metadata": {},
   "outputs": [
    {
     "data": {
      "text/html": [
       "<div>\n",
       "<style scoped>\n",
       "    .dataframe tbody tr th:only-of-type {\n",
       "        vertical-align: middle;\n",
       "    }\n",
       "\n",
       "    .dataframe tbody tr th {\n",
       "        vertical-align: top;\n",
       "    }\n",
       "\n",
       "    .dataframe thead th {\n",
       "        text-align: right;\n",
       "    }\n",
       "</style>\n",
       "<table border=\"1\" class=\"dataframe\">\n",
       "  <thead>\n",
       "    <tr style=\"text-align: right;\">\n",
       "      <th></th>\n",
       "      <th>_unit_id</th>\n",
       "      <th>_golden</th>\n",
       "      <th>_unit_state</th>\n",
       "      <th>_trusted_judgments</th>\n",
       "      <th>_last_judgment_at</th>\n",
       "      <th>airline_sentiment</th>\n",
       "      <th>airline_sentiment:confidence</th>\n",
       "      <th>negativereason</th>\n",
       "      <th>negativereason:confidence</th>\n",
       "      <th>airline</th>\n",
       "      <th>airline_sentiment_gold</th>\n",
       "      <th>name</th>\n",
       "      <th>negativereason_gold</th>\n",
       "      <th>retweet_count</th>\n",
       "      <th>text</th>\n",
       "      <th>tweet_coord</th>\n",
       "      <th>tweet_created</th>\n",
       "      <th>tweet_id</th>\n",
       "      <th>tweet_location</th>\n",
       "      <th>user_timezone</th>\n",
       "    </tr>\n",
       "  </thead>\n",
       "  <tbody>\n",
       "    <tr>\n",
       "      <th>6746</th>\n",
       "      <td>681457141</td>\n",
       "      <td>False</td>\n",
       "      <td>finalized</td>\n",
       "      <td>3</td>\n",
       "      <td>2/25/15 1:45</td>\n",
       "      <td>positive</td>\n",
       "      <td>0.6469</td>\n",
       "      <td>NaN</td>\n",
       "      <td>NaN</td>\n",
       "      <td>Delta</td>\n",
       "      <td>NaN</td>\n",
       "      <td>jaxbra</td>\n",
       "      <td>NaN</td>\n",
       "      <td>0</td>\n",
       "      <td>@JetBlue Yesterday on my way from EWR to FLL j...</td>\n",
       "      <td>NaN</td>\n",
       "      <td>2/24/15 11:48</td>\n",
       "      <td>5.703090e+17</td>\n",
       "      <td>east brunswick, nj</td>\n",
       "      <td>Atlantic Time (Canada)</td>\n",
       "    </tr>\n",
       "    <tr>\n",
       "      <th>6747</th>\n",
       "      <td>681457143</td>\n",
       "      <td>False</td>\n",
       "      <td>finalized</td>\n",
       "      <td>3</td>\n",
       "      <td>2/25/15 8:25</td>\n",
       "      <td>neutral</td>\n",
       "      <td>0.6869</td>\n",
       "      <td>NaN</td>\n",
       "      <td>NaN</td>\n",
       "      <td>Delta</td>\n",
       "      <td>NaN</td>\n",
       "      <td>Oneladyyouadore</td>\n",
       "      <td>NaN</td>\n",
       "      <td>0</td>\n",
       "      <td>@JetBlue I hope so because I fly very often an...</td>\n",
       "      <td>NaN</td>\n",
       "      <td>2/24/15 11:48</td>\n",
       "      <td>5.703090e+17</td>\n",
       "      <td>Georgia</td>\n",
       "      <td>Quito</td>\n",
       "    </tr>\n",
       "    <tr>\n",
       "      <th>6748</th>\n",
       "      <td>681457144</td>\n",
       "      <td>False</td>\n",
       "      <td>finalized</td>\n",
       "      <td>3</td>\n",
       "      <td>2/25/15 8:53</td>\n",
       "      <td>neutral</td>\n",
       "      <td>1.0000</td>\n",
       "      <td>NaN</td>\n",
       "      <td>NaN</td>\n",
       "      <td>Delta</td>\n",
       "      <td>NaN</td>\n",
       "      <td>Oneladyyouadore</td>\n",
       "      <td>NaN</td>\n",
       "      <td>0</td>\n",
       "      <td>@JetBlue flight 1041 to Savannah, GA</td>\n",
       "      <td>NaN</td>\n",
       "      <td>2/24/15 11:45</td>\n",
       "      <td>5.703090e+17</td>\n",
       "      <td>Georgia</td>\n",
       "      <td>Quito</td>\n",
       "    </tr>\n",
       "    <tr>\n",
       "      <th>6749</th>\n",
       "      <td>681457146</td>\n",
       "      <td>False</td>\n",
       "      <td>finalized</td>\n",
       "      <td>3</td>\n",
       "      <td>2/25/15 8:20</td>\n",
       "      <td>negative</td>\n",
       "      <td>1.0000</td>\n",
       "      <td>Flight Attendant Complaints</td>\n",
       "      <td>0.6522</td>\n",
       "      <td>Delta</td>\n",
       "      <td>NaN</td>\n",
       "      <td>Oneladyyouadore</td>\n",
       "      <td>NaN</td>\n",
       "      <td>0</td>\n",
       "      <td>@JetBlue They weren't on any flight, they just...</td>\n",
       "      <td>NaN</td>\n",
       "      <td>2/24/15 11:42</td>\n",
       "      <td>5.703080e+17</td>\n",
       "      <td>Georgia</td>\n",
       "      <td>Quito</td>\n",
       "    </tr>\n",
       "    <tr>\n",
       "      <th>6750</th>\n",
       "      <td>681457149</td>\n",
       "      <td>False</td>\n",
       "      <td>finalized</td>\n",
       "      <td>3</td>\n",
       "      <td>2/25/15 1:04</td>\n",
       "      <td>negative</td>\n",
       "      <td>1.0000</td>\n",
       "      <td>Bad Flight</td>\n",
       "      <td>1.0000</td>\n",
       "      <td>Delta</td>\n",
       "      <td>NaN</td>\n",
       "      <td>Oneladyyouadore</td>\n",
       "      <td>NaN</td>\n",
       "      <td>0</td>\n",
       "      <td>@JetBlue everyone is here but our pilots are n...</td>\n",
       "      <td>NaN</td>\n",
       "      <td>2/24/15 11:32</td>\n",
       "      <td>5.703050e+17</td>\n",
       "      <td>Georgia</td>\n",
       "      <td>Quito</td>\n",
       "    </tr>\n",
       "  </tbody>\n",
       "</table>\n",
       "</div>"
      ],
      "text/plain": [
       "       _unit_id  _golden _unit_state  _trusted_judgments _last_judgment_at  \\\n",
       "6746  681457141    False   finalized                   3      2/25/15 1:45   \n",
       "6747  681457143    False   finalized                   3      2/25/15 8:25   \n",
       "6748  681457144    False   finalized                   3      2/25/15 8:53   \n",
       "6749  681457146    False   finalized                   3      2/25/15 8:20   \n",
       "6750  681457149    False   finalized                   3      2/25/15 1:04   \n",
       "\n",
       "     airline_sentiment  airline_sentiment:confidence  \\\n",
       "6746          positive                        0.6469   \n",
       "6747           neutral                        0.6869   \n",
       "6748           neutral                        1.0000   \n",
       "6749          negative                        1.0000   \n",
       "6750          negative                        1.0000   \n",
       "\n",
       "                   negativereason  negativereason:confidence airline  \\\n",
       "6746                          NaN                        NaN   Delta   \n",
       "6747                          NaN                        NaN   Delta   \n",
       "6748                          NaN                        NaN   Delta   \n",
       "6749  Flight Attendant Complaints                     0.6522   Delta   \n",
       "6750                   Bad Flight                     1.0000   Delta   \n",
       "\n",
       "     airline_sentiment_gold             name negativereason_gold  \\\n",
       "6746                    NaN           jaxbra                 NaN   \n",
       "6747                    NaN  Oneladyyouadore                 NaN   \n",
       "6748                    NaN  Oneladyyouadore                 NaN   \n",
       "6749                    NaN  Oneladyyouadore                 NaN   \n",
       "6750                    NaN  Oneladyyouadore                 NaN   \n",
       "\n",
       "      retweet_count                                               text  \\\n",
       "6746              0  @JetBlue Yesterday on my way from EWR to FLL j...   \n",
       "6747              0  @JetBlue I hope so because I fly very often an...   \n",
       "6748              0               @JetBlue flight 1041 to Savannah, GA   \n",
       "6749              0  @JetBlue They weren't on any flight, they just...   \n",
       "6750              0  @JetBlue everyone is here but our pilots are n...   \n",
       "\n",
       "     tweet_coord  tweet_created      tweet_id      tweet_location  \\\n",
       "6746         NaN  2/24/15 11:48  5.703090e+17  east brunswick, nj   \n",
       "6747         NaN  2/24/15 11:48  5.703090e+17             Georgia   \n",
       "6748         NaN  2/24/15 11:45  5.703090e+17             Georgia   \n",
       "6749         NaN  2/24/15 11:42  5.703080e+17             Georgia   \n",
       "6750         NaN  2/24/15 11:32  5.703050e+17             Georgia   \n",
       "\n",
       "               user_timezone  \n",
       "6746  Atlantic Time (Canada)  \n",
       "6747                   Quito  \n",
       "6748                   Quito  \n",
       "6749                   Quito  \n",
       "6750                   Quito  "
      ]
     },
     "execution_count": 15,
     "metadata": {},
     "output_type": "execute_result"
    }
   ],
   "source": [
    "delta_rows = air_df[(air_df['airline'] == 'Delta')]\n",
    "delta_rows.head()"
   ]
  },
  {
   "cell_type": "code",
   "execution_count": 16,
   "metadata": {},
   "outputs": [],
   "source": [
    "hist = go.Histogram(x = delta_rows['airline_sentiment'])\n",
    "data = [hist]"
   ]
  },
  {
   "cell_type": "code",
   "execution_count": 17,
   "metadata": {},
   "outputs": [],
   "source": [
    "layout = go.Layout(title_text=\"Number of Sentiments for Delta Airlines\",\n",
    "                   title_x=0.5,\n",
    "                  xaxis=dict(title='Sentiment Types'),\n",
    "                  yaxis=dict(title='Number of Sentiments'))"
   ]
  },
  {
   "cell_type": "code",
   "execution_count": 18,
   "metadata": {},
   "outputs": [
    {
     "data": {
      "application/vnd.plotly.v1+json": {
       "config": {
        "linkText": "Export to plot.ly",
        "plotlyServerURL": "https://plot.ly",
        "showLink": false
       },
       "data": [
        {
         "type": "histogram",
         "x": [
          "positive",
          "neutral",
          "neutral",
          "negative",
          "negative",
          "neutral",
          "neutral",
          "negative",
          "negative",
          "negative",
          "negative",
          "neutral",
          "negative",
          "positive",
          "neutral",
          "neutral",
          "negative",
          "negative",
          "neutral",
          "neutral",
          "neutral",
          "negative",
          "negative",
          "neutral",
          "negative",
          "positive",
          "positive",
          "neutral",
          "positive",
          "positive",
          "neutral",
          "negative",
          "negative",
          "negative",
          "neutral",
          "negative",
          "positive",
          "positive",
          "negative",
          "positive",
          "negative",
          "negative",
          "negative",
          "positive",
          "neutral",
          "neutral",
          "neutral",
          "neutral",
          "neutral",
          "negative",
          "neutral",
          "neutral",
          "neutral",
          "neutral",
          "positive",
          "neutral",
          "positive",
          "neutral",
          "neutral",
          "positive",
          "positive",
          "positive",
          "neutral",
          "neutral",
          "neutral",
          "positive",
          "positive",
          "negative",
          "neutral",
          "positive",
          "negative",
          "positive",
          "neutral",
          "neutral",
          "positive",
          "positive",
          "positive",
          "positive",
          "positive",
          "positive",
          "positive",
          "negative",
          "negative",
          "positive",
          "positive",
          "positive",
          "negative",
          "negative",
          "neutral",
          "neutral",
          "neutral",
          "neutral",
          "positive",
          "positive",
          "positive",
          "negative",
          "negative",
          "negative",
          "negative",
          "negative",
          "neutral",
          "negative",
          "positive",
          "negative",
          "neutral",
          "positive",
          "negative",
          "positive",
          "neutral",
          "negative",
          "neutral",
          "positive",
          "neutral",
          "negative",
          "positive",
          "neutral",
          "positive",
          "negative",
          "neutral",
          "negative",
          "neutral",
          "negative",
          "negative",
          "negative",
          "neutral",
          "neutral",
          "positive",
          "neutral",
          "positive",
          "negative",
          "positive",
          "neutral",
          "negative",
          "negative",
          "negative",
          "neutral",
          "negative",
          "negative",
          "negative",
          "negative",
          "negative",
          "negative",
          "negative",
          "negative",
          "negative",
          "negative",
          "negative",
          "neutral",
          "neutral",
          "positive",
          "positive",
          "neutral",
          "negative",
          "negative",
          "negative",
          "neutral",
          "neutral",
          "neutral",
          "neutral",
          "neutral",
          "negative",
          "negative",
          "neutral",
          "negative",
          "negative",
          "negative",
          "negative",
          "neutral",
          "neutral",
          "neutral",
          "neutral",
          "positive",
          "neutral",
          "neutral",
          "negative",
          "negative",
          "neutral",
          "neutral",
          "neutral",
          "positive",
          "neutral",
          "negative",
          "neutral",
          "neutral",
          "positive",
          "neutral",
          "neutral",
          "neutral",
          "neutral",
          "positive",
          "neutral",
          "negative",
          "positive",
          "neutral",
          "negative",
          "negative",
          "neutral",
          "neutral",
          "neutral",
          "positive",
          "neutral",
          "neutral",
          "negative",
          "neutral",
          "neutral",
          "neutral",
          "negative",
          "negative",
          "negative",
          "positive",
          "neutral",
          "negative",
          "neutral",
          "negative",
          "neutral",
          "neutral",
          "neutral",
          "neutral",
          "neutral",
          "neutral",
          "positive",
          "positive",
          "positive",
          "neutral",
          "positive",
          "neutral",
          "neutral",
          "negative",
          "neutral",
          "positive",
          "neutral",
          "neutral",
          "neutral",
          "positive",
          "negative",
          "negative",
          "neutral",
          "negative",
          "neutral",
          "neutral",
          "neutral",
          "neutral",
          "neutral",
          "neutral",
          "neutral",
          "neutral",
          "neutral",
          "neutral",
          "negative",
          "neutral",
          "neutral",
          "neutral",
          "neutral",
          "neutral",
          "negative",
          "negative",
          "neutral",
          "neutral",
          "neutral",
          "positive",
          "neutral",
          "neutral",
          "neutral",
          "negative",
          "negative",
          "negative",
          "positive",
          "neutral",
          "neutral",
          "neutral",
          "neutral",
          "neutral",
          "neutral",
          "positive",
          "neutral",
          "neutral",
          "neutral",
          "neutral",
          "neutral",
          "positive",
          "positive",
          "negative",
          "neutral",
          "negative",
          "neutral",
          "neutral",
          "neutral",
          "negative",
          "negative",
          "neutral",
          "neutral",
          "negative",
          "positive",
          "neutral",
          "positive",
          "negative",
          "neutral",
          "neutral",
          "neutral",
          "negative",
          "positive",
          "negative",
          "negative",
          "neutral",
          "negative",
          "neutral",
          "neutral",
          "neutral",
          "neutral",
          "neutral",
          "positive",
          "neutral",
          "negative",
          "neutral",
          "neutral",
          "neutral",
          "neutral",
          "neutral",
          "positive",
          "positive",
          "neutral",
          "negative",
          "neutral",
          "negative",
          "neutral",
          "neutral",
          "neutral",
          "negative",
          "neutral",
          "neutral",
          "negative",
          "positive",
          "neutral",
          "negative",
          "neutral",
          "negative",
          "neutral",
          "neutral",
          "positive",
          "neutral",
          "neutral",
          "negative",
          "neutral",
          "neutral",
          "positive",
          "neutral",
          "neutral",
          "neutral",
          "neutral",
          "neutral",
          "neutral",
          "neutral",
          "positive",
          "neutral",
          "negative",
          "neutral",
          "neutral",
          "neutral",
          "negative",
          "neutral",
          "neutral",
          "neutral",
          "negative",
          "neutral",
          "negative",
          "neutral",
          "positive",
          "neutral",
          "neutral",
          "negative",
          "negative",
          "neutral",
          "neutral",
          "negative",
          "negative",
          "positive",
          "negative",
          "negative",
          "positive",
          "neutral",
          "negative",
          "neutral",
          "positive",
          "neutral",
          "neutral",
          "negative",
          "negative",
          "positive",
          "negative",
          "positive",
          "neutral",
          "negative",
          "neutral",
          "positive",
          "neutral",
          "positive",
          "negative",
          "neutral",
          "positive",
          "neutral",
          "positive",
          "negative",
          "neutral",
          "negative",
          "neutral",
          "neutral",
          "neutral",
          "neutral",
          "negative",
          "neutral",
          "negative",
          "negative",
          "neutral",
          "neutral",
          "positive",
          "neutral",
          "positive",
          "neutral",
          "negative",
          "positive",
          "positive",
          "neutral",
          "positive",
          "neutral",
          "neutral",
          "positive",
          "negative",
          "positive",
          "negative",
          "neutral",
          "positive",
          "positive",
          "positive",
          "negative",
          "negative",
          "positive",
          "negative",
          "neutral",
          "neutral",
          "neutral",
          "negative",
          "negative",
          "positive",
          "negative",
          "neutral",
          "neutral",
          "positive",
          "neutral",
          "neutral",
          "negative",
          "negative",
          "neutral",
          "positive",
          "neutral",
          "neutral",
          "positive",
          "neutral",
          "neutral",
          "negative",
          "neutral",
          "positive",
          "negative",
          "neutral",
          "neutral",
          "neutral",
          "negative",
          "neutral",
          "positive",
          "positive",
          "positive",
          "negative",
          "positive",
          "neutral",
          "positive",
          "negative",
          "negative",
          "negative",
          "neutral",
          "positive",
          "negative",
          "positive",
          "neutral",
          "negative",
          "negative",
          "negative",
          "negative",
          "neutral",
          "negative",
          "negative",
          "negative",
          "positive",
          "negative",
          "negative",
          "negative",
          "negative",
          "neutral",
          "negative",
          "positive",
          "negative",
          "negative",
          "negative",
          "neutral",
          "positive",
          "negative",
          "negative",
          "neutral",
          "positive",
          "negative",
          "negative",
          "positive",
          "negative",
          "negative",
          "negative",
          "neutral",
          "positive",
          "negative",
          "positive",
          "negative",
          "negative",
          "neutral",
          "negative",
          "negative",
          "positive",
          "negative",
          "neutral",
          "negative",
          "negative",
          "negative",
          "positive",
          "positive",
          "negative",
          "negative",
          "negative",
          "neutral",
          "negative",
          "negative",
          "negative",
          "positive",
          "positive",
          "neutral",
          "negative",
          "neutral",
          "negative",
          "positive",
          "negative",
          "negative",
          "negative",
          "positive",
          "positive",
          "neutral",
          "negative",
          "negative",
          "negative",
          "negative",
          "negative",
          "negative",
          "negative",
          "negative",
          "positive",
          "positive",
          "negative",
          "negative",
          "negative",
          "negative",
          "positive",
          "positive",
          "negative",
          "neutral",
          "negative",
          "positive",
          "negative",
          "positive",
          "negative",
          "negative",
          "positive",
          "negative",
          "negative",
          "neutral",
          "neutral",
          "negative",
          "negative",
          "negative",
          "negative",
          "neutral",
          "neutral",
          "negative",
          "negative",
          "negative",
          "negative",
          "negative",
          "negative",
          "negative",
          "negative",
          "negative",
          "negative",
          "negative",
          "negative",
          "positive",
          "negative",
          "neutral",
          "negative",
          "negative",
          "negative",
          "negative",
          "negative",
          "neutral",
          "positive",
          "neutral",
          "positive",
          "negative",
          "neutral",
          "negative",
          "negative",
          "negative",
          "negative",
          "neutral",
          "negative",
          "negative",
          "negative",
          "negative",
          "positive",
          "negative",
          "negative",
          "positive",
          "neutral",
          "negative",
          "neutral",
          "negative",
          "neutral",
          "negative",
          "positive",
          "neutral",
          "negative",
          "negative",
          "negative",
          "neutral",
          "neutral",
          "negative",
          "negative",
          "positive",
          "neutral",
          "negative",
          "negative",
          "negative",
          "neutral",
          "negative",
          "negative",
          "neutral",
          "negative",
          "neutral",
          "neutral",
          "negative",
          "negative",
          "negative",
          "negative",
          "negative",
          "neutral",
          "negative",
          "negative",
          "negative",
          "negative",
          "negative",
          "negative",
          "negative",
          "negative",
          "negative",
          "positive",
          "negative",
          "negative",
          "negative",
          "negative",
          "negative",
          "negative",
          "negative",
          "neutral",
          "neutral",
          "negative",
          "neutral",
          "negative",
          "negative",
          "neutral",
          "negative",
          "negative",
          "neutral",
          "negative",
          "negative",
          "positive",
          "neutral",
          "positive",
          "negative",
          "negative",
          "negative",
          "positive",
          "negative",
          "neutral",
          "negative",
          "negative",
          "positive",
          "negative",
          "negative",
          "negative",
          "positive",
          "negative",
          "negative",
          "neutral",
          "negative",
          "neutral",
          "positive",
          "negative",
          "negative",
          "neutral",
          "negative",
          "negative",
          "neutral",
          "positive",
          "neutral",
          "negative",
          "negative",
          "neutral",
          "negative",
          "negative",
          "positive",
          "positive",
          "positive",
          "negative",
          "neutral",
          "negative",
          "negative",
          "neutral",
          "neutral",
          "negative",
          "negative",
          "negative",
          "positive",
          "neutral",
          "positive",
          "positive",
          "positive",
          "negative",
          "positive",
          "negative",
          "negative",
          "negative",
          "negative",
          "negative",
          "negative",
          "negative",
          "negative",
          "neutral",
          "negative",
          "neutral",
          "negative",
          "negative",
          "negative",
          "positive",
          "negative",
          "negative",
          "negative",
          "negative",
          "negative",
          "positive",
          "negative",
          "negative",
          "negative",
          "negative",
          "neutral",
          "negative",
          "neutral",
          "negative",
          "negative",
          "neutral",
          "negative",
          "neutral",
          "negative",
          "negative",
          "negative",
          "negative",
          "negative",
          "positive",
          "positive",
          "negative",
          "negative",
          "neutral",
          "positive",
          "negative",
          "negative",
          "negative",
          "negative",
          "negative",
          "positive",
          "negative",
          "negative",
          "negative",
          "neutral",
          "negative",
          "positive",
          "negative",
          "neutral",
          "positive",
          "negative",
          "negative",
          "negative",
          "negative",
          "negative",
          "negative",
          "negative",
          "negative",
          "positive",
          "negative",
          "positive",
          "negative",
          "positive",
          "positive",
          "negative",
          "neutral",
          "positive",
          "negative",
          "positive",
          "negative",
          "neutral",
          "negative",
          "negative",
          "neutral",
          "negative",
          "negative",
          "negative",
          "positive",
          "positive",
          "negative",
          "negative",
          "negative",
          "negative",
          "negative",
          "positive",
          "negative",
          "positive",
          "neutral",
          "negative",
          "negative",
          "neutral",
          "negative",
          "negative",
          "negative",
          "positive",
          "negative",
          "negative",
          "neutral",
          "positive",
          "negative",
          "negative",
          "neutral",
          "positive",
          "positive",
          "neutral",
          "positive",
          "negative",
          "neutral",
          "neutral",
          "negative",
          "negative",
          "negative",
          "positive",
          "negative",
          "positive",
          "neutral",
          "negative",
          "negative",
          "positive",
          "negative",
          "positive",
          "negative",
          "negative",
          "positive",
          "negative",
          "neutral",
          "positive",
          "negative",
          "neutral",
          "negative",
          "neutral",
          "negative",
          "neutral",
          "negative",
          "neutral",
          "negative",
          "negative",
          "negative",
          "negative",
          "negative",
          "neutral",
          "negative",
          "negative",
          "neutral",
          "positive",
          "negative",
          "negative",
          "negative",
          "neutral",
          "negative",
          "positive",
          "negative",
          "positive",
          "positive",
          "positive",
          "negative",
          "positive",
          "neutral",
          "negative",
          "negative",
          "negative",
          "negative",
          "positive",
          "negative",
          "positive",
          "negative",
          "neutral",
          "positive",
          "negative",
          "neutral",
          "neutral",
          "neutral",
          "negative",
          "negative",
          "negative",
          "negative",
          "positive",
          "negative",
          "positive",
          "negative",
          "negative",
          "neutral",
          "positive",
          "positive",
          "negative",
          "negative",
          "positive",
          "negative",
          "neutral",
          "positive",
          "neutral",
          "negative",
          "neutral",
          "negative",
          "negative",
          "neutral",
          "negative",
          "negative",
          "neutral",
          "negative",
          "neutral",
          "negative",
          "negative",
          "negative",
          "negative",
          "negative",
          "negative",
          "negative",
          "neutral",
          "positive",
          "positive",
          "positive",
          "positive",
          "negative",
          "negative",
          "negative",
          "neutral",
          "positive",
          "negative",
          "positive",
          "positive",
          "positive",
          "neutral",
          "neutral",
          "positive",
          "positive",
          "neutral",
          "positive",
          "neutral",
          "negative",
          "positive",
          "positive",
          "negative",
          "neutral",
          "negative",
          "neutral",
          "positive",
          "positive",
          "negative",
          "neutral",
          "positive",
          "positive",
          "positive",
          "positive",
          "neutral",
          "neutral",
          "neutral",
          "neutral",
          "negative",
          "neutral",
          "negative",
          "negative",
          "positive",
          "positive",
          "positive",
          "negative",
          "negative",
          "neutral",
          "neutral",
          "negative",
          "neutral",
          "negative",
          "negative",
          "negative",
          "neutral",
          "positive",
          "neutral",
          "negative",
          "negative",
          "positive",
          "negative",
          "neutral",
          "neutral",
          "negative",
          "negative",
          "neutral",
          "neutral",
          "negative",
          "negative",
          "negative",
          "negative",
          "neutral",
          "negative",
          "negative",
          "negative",
          "positive",
          "positive",
          "positive",
          "negative",
          "negative",
          "negative",
          "negative",
          "positive",
          "neutral",
          "neutral",
          "negative",
          "positive",
          "neutral",
          "positive",
          "neutral",
          "positive",
          "neutral",
          "neutral",
          "negative",
          "negative",
          "negative",
          "negative",
          "positive",
          "neutral",
          "negative",
          "negative",
          "negative",
          "neutral",
          "negative",
          "negative",
          "negative",
          "neutral",
          "negative",
          "negative",
          "neutral",
          "negative",
          "negative",
          "positive",
          "neutral",
          "neutral",
          "positive",
          "negative",
          "neutral",
          "neutral",
          "neutral",
          "negative",
          "negative",
          "positive",
          "positive",
          "positive",
          "positive",
          "positive",
          "negative",
          "neutral",
          "positive",
          "neutral",
          "positive",
          "negative",
          "negative",
          "negative",
          "negative",
          "negative",
          "neutral",
          "negative",
          "negative",
          "negative",
          "negative",
          "neutral",
          "positive",
          "neutral",
          "positive",
          "neutral",
          "neutral",
          "neutral",
          "positive",
          "positive",
          "negative",
          "negative",
          "negative",
          "negative",
          "neutral",
          "positive",
          "negative",
          "positive",
          "neutral",
          "neutral",
          "neutral",
          "neutral",
          "neutral",
          "neutral",
          "neutral",
          "neutral",
          "neutral",
          "negative",
          "neutral",
          "positive",
          "negative",
          "positive",
          "neutral",
          "negative",
          "positive",
          "positive",
          "neutral",
          "positive",
          "neutral",
          "positive",
          "positive",
          "positive",
          "positive",
          "neutral",
          "positive",
          "neutral",
          "neutral",
          "neutral",
          "neutral",
          "neutral",
          "neutral",
          "negative",
          "negative",
          "negative",
          "positive",
          "neutral",
          "neutral",
          "negative",
          "negative",
          "negative",
          "negative",
          "negative",
          "negative",
          "neutral",
          "negative",
          "negative",
          "negative",
          "positive",
          "positive",
          "positive",
          "negative",
          "positive",
          "neutral",
          "neutral",
          "positive",
          "neutral",
          "positive",
          "positive",
          "negative",
          "neutral",
          "negative",
          "neutral",
          "negative",
          "neutral",
          "neutral",
          "negative",
          "positive",
          "neutral",
          "neutral",
          "neutral",
          "negative",
          "positive",
          "negative",
          "neutral",
          "negative",
          "negative",
          "negative",
          "neutral",
          "negative",
          "positive",
          "neutral",
          "neutral",
          "neutral",
          "neutral",
          "negative",
          "positive",
          "positive",
          "neutral",
          "neutral",
          "negative",
          "negative",
          "positive",
          "positive",
          "negative",
          "negative",
          "positive",
          "negative",
          "negative",
          "positive",
          "positive",
          "negative",
          "negative",
          "neutral",
          "neutral",
          "negative",
          "negative",
          "negative",
          "negative",
          "negative",
          "negative",
          "negative",
          "neutral",
          "positive",
          "neutral",
          "neutral",
          "neutral",
          "neutral",
          "negative",
          "neutral",
          "positive",
          "negative",
          "negative",
          "negative",
          "negative",
          "positive",
          "negative",
          "neutral",
          "negative",
          "negative",
          "negative",
          "negative",
          "neutral",
          "neutral",
          "positive",
          "neutral",
          "neutral",
          "positive",
          "positive",
          "positive",
          "neutral",
          "negative",
          "positive",
          "negative",
          "negative",
          "positive",
          "neutral",
          "neutral",
          "neutral",
          "positive",
          "positive",
          "positive",
          "neutral",
          "positive",
          "neutral",
          "negative",
          "neutral",
          "negative",
          "negative",
          "neutral",
          "negative",
          "negative",
          "negative",
          "positive",
          "neutral",
          "positive",
          "negative",
          "neutral",
          "positive",
          "neutral",
          "neutral",
          "positive",
          "neutral",
          "positive",
          "neutral",
          "neutral",
          "positive",
          "positive",
          "neutral",
          "positive",
          "neutral",
          "neutral",
          "neutral",
          "positive",
          "positive",
          "neutral",
          "neutral",
          "positive",
          "positive",
          "negative",
          "neutral",
          "positive",
          "positive",
          "negative",
          "positive",
          "positive",
          "neutral",
          "negative",
          "negative",
          "neutral",
          "neutral",
          "positive",
          "negative",
          "neutral",
          "neutral",
          "neutral",
          "negative",
          "positive",
          "negative",
          "neutral",
          "neutral",
          "positive",
          "positive",
          "negative",
          "neutral",
          "negative",
          "negative",
          "positive",
          "negative",
          "negative",
          "positive",
          "negative",
          "neutral",
          "negative",
          "positive",
          "positive",
          "negative",
          "positive",
          "neutral",
          "positive",
          "positive",
          "negative",
          "positive",
          "neutral",
          "negative",
          "positive",
          "neutral",
          "neutral",
          "positive",
          "neutral",
          "positive",
          "positive",
          "positive",
          "negative",
          "neutral",
          "negative",
          "positive",
          "negative",
          "neutral",
          "negative",
          "negative",
          "negative",
          "neutral",
          "negative",
          "negative",
          "negative",
          "positive",
          "neutral",
          "neutral",
          "negative",
          "negative",
          "neutral",
          "negative",
          "negative",
          "neutral",
          "negative",
          "positive",
          "negative",
          "positive",
          "positive",
          "neutral",
          "neutral",
          "negative",
          "negative",
          "neutral",
          "neutral",
          "neutral",
          "positive",
          "neutral",
          "neutral",
          "neutral",
          "neutral",
          "neutral",
          "neutral",
          "neutral",
          "negative",
          "negative",
          "negative",
          "neutral",
          "negative",
          "negative",
          "neutral",
          "neutral",
          "positive",
          "neutral",
          "neutral",
          "negative",
          "negative",
          "neutral",
          "neutral",
          "negative",
          "positive",
          "negative",
          "positive",
          "positive",
          "neutral",
          "negative",
          "negative",
          "neutral",
          "negative",
          "negative",
          "negative",
          "negative",
          "negative",
          "negative",
          "negative",
          "positive",
          "negative",
          "negative",
          "positive",
          "neutral",
          "positive",
          "neutral",
          "negative",
          "negative",
          "negative",
          "negative",
          "positive",
          "neutral",
          "neutral",
          "neutral",
          "positive",
          "neutral",
          "positive",
          "negative",
          "negative",
          "neutral",
          "positive",
          "positive",
          "negative",
          "negative",
          "positive",
          "negative",
          "neutral",
          "negative",
          "negative",
          "positive",
          "negative",
          "neutral",
          "neutral",
          "positive",
          "positive",
          "neutral",
          "positive",
          "positive",
          "neutral",
          "negative",
          "negative",
          "negative",
          "positive",
          "negative",
          "negative",
          "negative",
          "negative",
          "negative",
          "positive",
          "negative",
          "positive",
          "positive",
          "negative",
          "neutral",
          "neutral",
          "positive",
          "neutral",
          "neutral",
          "negative",
          "negative",
          "neutral",
          "positive",
          "positive",
          "neutral",
          "neutral",
          "neutral",
          "negative",
          "negative",
          "positive",
          "negative",
          "positive",
          "positive",
          "positive",
          "negative",
          "neutral",
          "negative",
          "negative",
          "negative",
          "negative",
          "negative",
          "negative",
          "positive",
          "positive",
          "neutral",
          "negative",
          "positive",
          "negative",
          "negative",
          "neutral",
          "positive",
          "neutral",
          "positive",
          "neutral",
          "positive",
          "positive",
          "neutral",
          "neutral",
          "negative",
          "neutral",
          "negative",
          "neutral",
          "negative",
          "neutral",
          "positive",
          "neutral",
          "negative",
          "positive",
          "negative",
          "neutral",
          "neutral",
          "negative",
          "negative",
          "positive",
          "neutral",
          "neutral",
          "negative",
          "positive",
          "neutral",
          "neutral",
          "neutral",
          "positive",
          "negative",
          "positive",
          "negative",
          "negative",
          "neutral",
          "positive",
          "neutral",
          "neutral",
          "negative",
          "positive",
          "neutral",
          "negative",
          "negative",
          "negative",
          "positive",
          "positive",
          "neutral",
          "negative",
          "negative",
          "negative",
          "positive",
          "negative",
          "neutral",
          "negative",
          "neutral",
          "negative",
          "negative",
          "neutral",
          "negative",
          "negative",
          "positive",
          "negative",
          "negative",
          "positive",
          "neutral",
          "neutral",
          "negative",
          "positive",
          "neutral",
          "negative",
          "positive",
          "negative",
          "negative",
          "negative",
          "negative",
          "positive",
          "positive",
          "neutral",
          "positive",
          "negative",
          "positive",
          "negative",
          "positive",
          "positive",
          "neutral",
          "positive",
          "negative",
          "negative",
          "neutral",
          "negative",
          "negative",
          "negative",
          "negative",
          "negative",
          "neutral",
          "negative",
          "negative",
          "negative",
          "negative",
          "positive",
          "positive",
          "negative",
          "negative",
          "negative",
          "negative",
          "negative",
          "negative",
          "negative",
          "negative",
          "negative",
          "positive",
          "negative",
          "negative",
          "negative",
          "negative",
          "negative",
          "negative",
          "negative",
          "negative",
          "positive",
          "positive",
          "positive",
          "negative",
          "positive",
          "negative",
          "negative",
          "positive",
          "positive",
          "positive",
          "negative",
          "positive",
          "negative",
          "negative",
          "positive",
          "negative",
          "neutral",
          "negative",
          "positive",
          "neutral",
          "positive",
          "negative",
          "neutral",
          "negative",
          "negative",
          "positive",
          "negative",
          "neutral",
          "positive",
          "neutral",
          "negative",
          "neutral",
          "negative",
          "positive",
          "neutral",
          "negative",
          "neutral",
          "positive",
          "positive",
          "negative",
          "positive",
          "neutral",
          "neutral",
          "positive",
          "neutral",
          "neutral",
          "positive",
          "negative",
          "positive",
          "negative",
          "negative",
          "negative",
          "positive",
          "negative",
          "positive",
          "negative",
          "positive",
          "negative",
          "neutral",
          "negative",
          "neutral",
          "positive",
          "neutral",
          "neutral",
          "negative",
          "negative",
          "negative",
          "positive",
          "negative",
          "neutral",
          "positive",
          "negative",
          "negative",
          "positive",
          "positive",
          "positive",
          "neutral",
          "negative",
          "negative",
          "negative",
          "positive",
          "neutral",
          "neutral",
          "neutral",
          "negative",
          "neutral",
          "negative",
          "neutral",
          "positive",
          "positive",
          "neutral",
          "positive",
          "positive",
          "negative",
          "negative",
          "neutral",
          "positive",
          "positive",
          "neutral",
          "negative",
          "neutral",
          "negative",
          "negative",
          "neutral",
          "negative",
          "neutral",
          "positive",
          "neutral",
          "negative",
          "negative",
          "negative",
          "negative",
          "neutral",
          "negative",
          "negative",
          "neutral",
          "negative",
          "negative",
          "neutral",
          "negative",
          "neutral",
          "negative",
          "negative",
          "positive",
          "negative",
          "neutral",
          "negative",
          "neutral",
          "negative",
          "negative",
          "negative",
          "positive",
          "negative",
          "neutral",
          "neutral",
          "neutral",
          "neutral",
          "neutral",
          "neutral",
          "positive",
          "neutral",
          "negative",
          "negative",
          "positive",
          "negative",
          "negative",
          "neutral",
          "positive",
          "negative",
          "neutral",
          "positive",
          "negative",
          "neutral",
          "negative",
          "positive",
          "positive",
          "negative",
          "positive",
          "positive",
          "neutral",
          "neutral",
          "positive",
          "positive",
          "neutral",
          "negative",
          "negative",
          "neutral",
          "negative",
          "neutral",
          "neutral",
          "neutral",
          "neutral",
          "neutral",
          "negative",
          "neutral",
          "positive",
          "neutral",
          "positive",
          "neutral",
          "negative",
          "positive",
          "negative",
          "positive",
          "negative",
          "neutral",
          "neutral",
          "neutral",
          "positive",
          "neutral",
          "positive",
          "neutral",
          "negative",
          "neutral",
          "negative",
          "negative",
          "neutral",
          "negative",
          "negative",
          "neutral",
          "neutral",
          "neutral",
          "neutral",
          "neutral",
          "negative",
          "neutral",
          "neutral",
          "positive",
          "neutral",
          "negative",
          "negative",
          "negative",
          "neutral",
          "positive",
          "negative",
          "neutral",
          "positive",
          "positive",
          "positive",
          "positive",
          "neutral",
          "negative",
          "positive",
          "negative",
          "neutral",
          "positive",
          "negative",
          "negative",
          "negative",
          "negative",
          "neutral",
          "positive",
          "positive",
          "negative",
          "negative",
          "positive",
          "neutral",
          "positive",
          "positive",
          "negative",
          "negative",
          "positive",
          "positive",
          "negative",
          "negative",
          "positive",
          "negative",
          "negative",
          "neutral",
          "positive",
          "neutral",
          "positive",
          "positive",
          "positive",
          "neutral",
          "positive",
          "positive",
          "negative",
          "neutral",
          "negative",
          "negative",
          "negative",
          "positive",
          "negative",
          "positive",
          "neutral",
          "negative",
          "negative",
          "positive",
          "positive",
          "negative",
          "negative",
          "positive",
          "negative",
          "positive",
          "positive",
          "negative",
          "positive",
          "positive",
          "neutral",
          "neutral",
          "negative",
          "negative",
          "positive",
          "negative",
          "positive",
          "positive",
          "positive",
          "negative",
          "negative",
          "neutral",
          "neutral",
          "negative",
          "positive",
          "negative",
          "negative",
          "positive",
          "negative",
          "negative",
          "negative",
          "negative",
          "negative",
          "neutral",
          "positive",
          "positive",
          "neutral",
          "neutral",
          "neutral",
          "neutral",
          "neutral",
          "neutral",
          "positive",
          "neutral",
          "negative",
          "neutral",
          "negative",
          "negative",
          "negative",
          "negative",
          "negative",
          "positive",
          "neutral",
          "positive",
          "positive",
          "positive",
          "neutral",
          "positive",
          "neutral",
          "neutral",
          "positive",
          "negative",
          "negative",
          "negative",
          "negative",
          "positive",
          "neutral",
          "neutral",
          "neutral",
          "neutral",
          "negative",
          "positive",
          "negative",
          "positive",
          "negative",
          "positive",
          "neutral",
          "negative",
          "negative",
          "negative",
          "positive",
          "negative",
          "positive",
          "neutral",
          "positive",
          "neutral",
          "positive",
          "negative",
          "neutral",
          "negative",
          "negative",
          "neutral",
          "negative",
          "negative",
          "negative",
          "negative",
          "negative",
          "negative",
          "negative",
          "negative",
          "negative",
          "neutral",
          "negative",
          "negative",
          "negative",
          "negative",
          "positive",
          "positive",
          "neutral",
          "negative",
          "neutral",
          "negative",
          "positive",
          "negative",
          "negative",
          "negative",
          "negative",
          "negative",
          "negative",
          "negative",
          "neutral",
          "negative",
          "negative",
          "positive",
          "negative",
          "neutral",
          "negative",
          "negative",
          "negative",
          "positive",
          "negative",
          "negative",
          "negative",
          "negative",
          "negative",
          "negative",
          "negative",
          "negative",
          "neutral",
          "positive",
          "neutral",
          "neutral",
          "positive",
          "negative",
          "negative",
          "neutral",
          "positive",
          "negative",
          "neutral",
          "positive",
          "positive",
          "neutral",
          "negative",
          "negative",
          "neutral",
          "positive",
          "positive",
          "positive",
          "positive",
          "negative",
          "negative",
          "negative",
          "neutral",
          "negative",
          "positive",
          "negative",
          "neutral",
          "negative",
          "negative",
          "positive",
          "neutral",
          "positive",
          "negative",
          "neutral",
          "neutral",
          "negative",
          "neutral",
          "neutral",
          "positive",
          "negative",
          "neutral",
          "negative",
          "negative",
          "neutral",
          "neutral",
          "positive",
          "neutral",
          "positive",
          "negative",
          "neutral",
          "neutral",
          "neutral",
          "neutral",
          "neutral",
          "positive",
          "negative",
          "neutral",
          "positive",
          "neutral",
          "positive",
          "positive",
          "positive",
          "negative",
          "negative",
          "negative",
          "neutral",
          "neutral",
          "neutral",
          "neutral",
          "neutral",
          "positive",
          "positive",
          "neutral",
          "neutral",
          "neutral",
          "neutral",
          "positive",
          "neutral",
          "neutral",
          "positive",
          "neutral",
          "negative",
          "positive",
          "negative",
          "positive",
          "negative",
          "negative",
          "negative",
          "negative",
          "neutral",
          "negative",
          "positive",
          "neutral",
          "neutral",
          "neutral",
          "positive",
          "neutral",
          "negative",
          "negative",
          "positive",
          "negative",
          "negative",
          "positive",
          "negative",
          "neutral",
          "neutral",
          "positive",
          "positive",
          "neutral",
          "positive",
          "neutral",
          "positive",
          "positive",
          "negative",
          "neutral",
          "neutral",
          "negative",
          "positive",
          "neutral",
          "neutral",
          "negative",
          "neutral",
          "positive",
          "negative",
          "positive",
          "positive",
          "positive",
          "negative",
          "negative",
          "positive",
          "negative",
          "neutral",
          "neutral",
          "negative",
          "neutral",
          "negative",
          "neutral",
          "negative",
          "negative",
          "positive",
          "positive",
          "neutral",
          "positive",
          "negative",
          "negative",
          "neutral",
          "negative",
          "neutral",
          "positive",
          "neutral",
          "positive",
          "neutral",
          "neutral",
          "negative",
          "positive",
          "negative",
          "neutral",
          "neutral",
          "negative",
          "negative",
          "neutral",
          "positive",
          "positive",
          "neutral",
          "negative",
          "neutral",
          "negative",
          "negative"
         ]
        }
       ],
       "layout": {
        "template": {
         "data": {
          "bar": [
           {
            "error_x": {
             "color": "#2a3f5f"
            },
            "error_y": {
             "color": "#2a3f5f"
            },
            "marker": {
             "line": {
              "color": "#E5ECF6",
              "width": 0.5
             }
            },
            "type": "bar"
           }
          ],
          "barpolar": [
           {
            "marker": {
             "line": {
              "color": "#E5ECF6",
              "width": 0.5
             }
            },
            "type": "barpolar"
           }
          ],
          "carpet": [
           {
            "aaxis": {
             "endlinecolor": "#2a3f5f",
             "gridcolor": "white",
             "linecolor": "white",
             "minorgridcolor": "white",
             "startlinecolor": "#2a3f5f"
            },
            "baxis": {
             "endlinecolor": "#2a3f5f",
             "gridcolor": "white",
             "linecolor": "white",
             "minorgridcolor": "white",
             "startlinecolor": "#2a3f5f"
            },
            "type": "carpet"
           }
          ],
          "choropleth": [
           {
            "colorbar": {
             "outlinewidth": 0,
             "ticks": ""
            },
            "type": "choropleth"
           }
          ],
          "contour": [
           {
            "colorbar": {
             "outlinewidth": 0,
             "ticks": ""
            },
            "colorscale": [
             [
              0,
              "#0d0887"
             ],
             [
              0.1111111111111111,
              "#46039f"
             ],
             [
              0.2222222222222222,
              "#7201a8"
             ],
             [
              0.3333333333333333,
              "#9c179e"
             ],
             [
              0.4444444444444444,
              "#bd3786"
             ],
             [
              0.5555555555555556,
              "#d8576b"
             ],
             [
              0.6666666666666666,
              "#ed7953"
             ],
             [
              0.7777777777777778,
              "#fb9f3a"
             ],
             [
              0.8888888888888888,
              "#fdca26"
             ],
             [
              1,
              "#f0f921"
             ]
            ],
            "type": "contour"
           }
          ],
          "contourcarpet": [
           {
            "colorbar": {
             "outlinewidth": 0,
             "ticks": ""
            },
            "type": "contourcarpet"
           }
          ],
          "heatmap": [
           {
            "colorbar": {
             "outlinewidth": 0,
             "ticks": ""
            },
            "colorscale": [
             [
              0,
              "#0d0887"
             ],
             [
              0.1111111111111111,
              "#46039f"
             ],
             [
              0.2222222222222222,
              "#7201a8"
             ],
             [
              0.3333333333333333,
              "#9c179e"
             ],
             [
              0.4444444444444444,
              "#bd3786"
             ],
             [
              0.5555555555555556,
              "#d8576b"
             ],
             [
              0.6666666666666666,
              "#ed7953"
             ],
             [
              0.7777777777777778,
              "#fb9f3a"
             ],
             [
              0.8888888888888888,
              "#fdca26"
             ],
             [
              1,
              "#f0f921"
             ]
            ],
            "type": "heatmap"
           }
          ],
          "heatmapgl": [
           {
            "colorbar": {
             "outlinewidth": 0,
             "ticks": ""
            },
            "colorscale": [
             [
              0,
              "#0d0887"
             ],
             [
              0.1111111111111111,
              "#46039f"
             ],
             [
              0.2222222222222222,
              "#7201a8"
             ],
             [
              0.3333333333333333,
              "#9c179e"
             ],
             [
              0.4444444444444444,
              "#bd3786"
             ],
             [
              0.5555555555555556,
              "#d8576b"
             ],
             [
              0.6666666666666666,
              "#ed7953"
             ],
             [
              0.7777777777777778,
              "#fb9f3a"
             ],
             [
              0.8888888888888888,
              "#fdca26"
             ],
             [
              1,
              "#f0f921"
             ]
            ],
            "type": "heatmapgl"
           }
          ],
          "histogram": [
           {
            "marker": {
             "colorbar": {
              "outlinewidth": 0,
              "ticks": ""
             }
            },
            "type": "histogram"
           }
          ],
          "histogram2d": [
           {
            "colorbar": {
             "outlinewidth": 0,
             "ticks": ""
            },
            "colorscale": [
             [
              0,
              "#0d0887"
             ],
             [
              0.1111111111111111,
              "#46039f"
             ],
             [
              0.2222222222222222,
              "#7201a8"
             ],
             [
              0.3333333333333333,
              "#9c179e"
             ],
             [
              0.4444444444444444,
              "#bd3786"
             ],
             [
              0.5555555555555556,
              "#d8576b"
             ],
             [
              0.6666666666666666,
              "#ed7953"
             ],
             [
              0.7777777777777778,
              "#fb9f3a"
             ],
             [
              0.8888888888888888,
              "#fdca26"
             ],
             [
              1,
              "#f0f921"
             ]
            ],
            "type": "histogram2d"
           }
          ],
          "histogram2dcontour": [
           {
            "colorbar": {
             "outlinewidth": 0,
             "ticks": ""
            },
            "colorscale": [
             [
              0,
              "#0d0887"
             ],
             [
              0.1111111111111111,
              "#46039f"
             ],
             [
              0.2222222222222222,
              "#7201a8"
             ],
             [
              0.3333333333333333,
              "#9c179e"
             ],
             [
              0.4444444444444444,
              "#bd3786"
             ],
             [
              0.5555555555555556,
              "#d8576b"
             ],
             [
              0.6666666666666666,
              "#ed7953"
             ],
             [
              0.7777777777777778,
              "#fb9f3a"
             ],
             [
              0.8888888888888888,
              "#fdca26"
             ],
             [
              1,
              "#f0f921"
             ]
            ],
            "type": "histogram2dcontour"
           }
          ],
          "mesh3d": [
           {
            "colorbar": {
             "outlinewidth": 0,
             "ticks": ""
            },
            "type": "mesh3d"
           }
          ],
          "parcoords": [
           {
            "line": {
             "colorbar": {
              "outlinewidth": 0,
              "ticks": ""
             }
            },
            "type": "parcoords"
           }
          ],
          "pie": [
           {
            "automargin": true,
            "type": "pie"
           }
          ],
          "scatter": [
           {
            "marker": {
             "colorbar": {
              "outlinewidth": 0,
              "ticks": ""
             }
            },
            "type": "scatter"
           }
          ],
          "scatter3d": [
           {
            "line": {
             "colorbar": {
              "outlinewidth": 0,
              "ticks": ""
             }
            },
            "marker": {
             "colorbar": {
              "outlinewidth": 0,
              "ticks": ""
             }
            },
            "type": "scatter3d"
           }
          ],
          "scattercarpet": [
           {
            "marker": {
             "colorbar": {
              "outlinewidth": 0,
              "ticks": ""
             }
            },
            "type": "scattercarpet"
           }
          ],
          "scattergeo": [
           {
            "marker": {
             "colorbar": {
              "outlinewidth": 0,
              "ticks": ""
             }
            },
            "type": "scattergeo"
           }
          ],
          "scattergl": [
           {
            "marker": {
             "colorbar": {
              "outlinewidth": 0,
              "ticks": ""
             }
            },
            "type": "scattergl"
           }
          ],
          "scattermapbox": [
           {
            "marker": {
             "colorbar": {
              "outlinewidth": 0,
              "ticks": ""
             }
            },
            "type": "scattermapbox"
           }
          ],
          "scatterpolar": [
           {
            "marker": {
             "colorbar": {
              "outlinewidth": 0,
              "ticks": ""
             }
            },
            "type": "scatterpolar"
           }
          ],
          "scatterpolargl": [
           {
            "marker": {
             "colorbar": {
              "outlinewidth": 0,
              "ticks": ""
             }
            },
            "type": "scatterpolargl"
           }
          ],
          "scatterternary": [
           {
            "marker": {
             "colorbar": {
              "outlinewidth": 0,
              "ticks": ""
             }
            },
            "type": "scatterternary"
           }
          ],
          "surface": [
           {
            "colorbar": {
             "outlinewidth": 0,
             "ticks": ""
            },
            "colorscale": [
             [
              0,
              "#0d0887"
             ],
             [
              0.1111111111111111,
              "#46039f"
             ],
             [
              0.2222222222222222,
              "#7201a8"
             ],
             [
              0.3333333333333333,
              "#9c179e"
             ],
             [
              0.4444444444444444,
              "#bd3786"
             ],
             [
              0.5555555555555556,
              "#d8576b"
             ],
             [
              0.6666666666666666,
              "#ed7953"
             ],
             [
              0.7777777777777778,
              "#fb9f3a"
             ],
             [
              0.8888888888888888,
              "#fdca26"
             ],
             [
              1,
              "#f0f921"
             ]
            ],
            "type": "surface"
           }
          ],
          "table": [
           {
            "cells": {
             "fill": {
              "color": "#EBF0F8"
             },
             "line": {
              "color": "white"
             }
            },
            "header": {
             "fill": {
              "color": "#C8D4E3"
             },
             "line": {
              "color": "white"
             }
            },
            "type": "table"
           }
          ]
         },
         "layout": {
          "annotationdefaults": {
           "arrowcolor": "#2a3f5f",
           "arrowhead": 0,
           "arrowwidth": 1
          },
          "coloraxis": {
           "colorbar": {
            "outlinewidth": 0,
            "ticks": ""
           }
          },
          "colorscale": {
           "diverging": [
            [
             0,
             "#8e0152"
            ],
            [
             0.1,
             "#c51b7d"
            ],
            [
             0.2,
             "#de77ae"
            ],
            [
             0.3,
             "#f1b6da"
            ],
            [
             0.4,
             "#fde0ef"
            ],
            [
             0.5,
             "#f7f7f7"
            ],
            [
             0.6,
             "#e6f5d0"
            ],
            [
             0.7,
             "#b8e186"
            ],
            [
             0.8,
             "#7fbc41"
            ],
            [
             0.9,
             "#4d9221"
            ],
            [
             1,
             "#276419"
            ]
           ],
           "sequential": [
            [
             0,
             "#0d0887"
            ],
            [
             0.1111111111111111,
             "#46039f"
            ],
            [
             0.2222222222222222,
             "#7201a8"
            ],
            [
             0.3333333333333333,
             "#9c179e"
            ],
            [
             0.4444444444444444,
             "#bd3786"
            ],
            [
             0.5555555555555556,
             "#d8576b"
            ],
            [
             0.6666666666666666,
             "#ed7953"
            ],
            [
             0.7777777777777778,
             "#fb9f3a"
            ],
            [
             0.8888888888888888,
             "#fdca26"
            ],
            [
             1,
             "#f0f921"
            ]
           ],
           "sequentialminus": [
            [
             0,
             "#0d0887"
            ],
            [
             0.1111111111111111,
             "#46039f"
            ],
            [
             0.2222222222222222,
             "#7201a8"
            ],
            [
             0.3333333333333333,
             "#9c179e"
            ],
            [
             0.4444444444444444,
             "#bd3786"
            ],
            [
             0.5555555555555556,
             "#d8576b"
            ],
            [
             0.6666666666666666,
             "#ed7953"
            ],
            [
             0.7777777777777778,
             "#fb9f3a"
            ],
            [
             0.8888888888888888,
             "#fdca26"
            ],
            [
             1,
             "#f0f921"
            ]
           ]
          },
          "colorway": [
           "#636efa",
           "#EF553B",
           "#00cc96",
           "#ab63fa",
           "#FFA15A",
           "#19d3f3",
           "#FF6692",
           "#B6E880",
           "#FF97FF",
           "#FECB52"
          ],
          "font": {
           "color": "#2a3f5f"
          },
          "geo": {
           "bgcolor": "white",
           "lakecolor": "white",
           "landcolor": "#E5ECF6",
           "showlakes": true,
           "showland": true,
           "subunitcolor": "white"
          },
          "hoverlabel": {
           "align": "left"
          },
          "hovermode": "closest",
          "mapbox": {
           "style": "light"
          },
          "paper_bgcolor": "white",
          "plot_bgcolor": "#E5ECF6",
          "polar": {
           "angularaxis": {
            "gridcolor": "white",
            "linecolor": "white",
            "ticks": ""
           },
           "bgcolor": "#E5ECF6",
           "radialaxis": {
            "gridcolor": "white",
            "linecolor": "white",
            "ticks": ""
           }
          },
          "scene": {
           "xaxis": {
            "backgroundcolor": "#E5ECF6",
            "gridcolor": "white",
            "gridwidth": 2,
            "linecolor": "white",
            "showbackground": true,
            "ticks": "",
            "zerolinecolor": "white"
           },
           "yaxis": {
            "backgroundcolor": "#E5ECF6",
            "gridcolor": "white",
            "gridwidth": 2,
            "linecolor": "white",
            "showbackground": true,
            "ticks": "",
            "zerolinecolor": "white"
           },
           "zaxis": {
            "backgroundcolor": "#E5ECF6",
            "gridcolor": "white",
            "gridwidth": 2,
            "linecolor": "white",
            "showbackground": true,
            "ticks": "",
            "zerolinecolor": "white"
           }
          },
          "shapedefaults": {
           "line": {
            "color": "#2a3f5f"
           }
          },
          "ternary": {
           "aaxis": {
            "gridcolor": "white",
            "linecolor": "white",
            "ticks": ""
           },
           "baxis": {
            "gridcolor": "white",
            "linecolor": "white",
            "ticks": ""
           },
           "bgcolor": "#E5ECF6",
           "caxis": {
            "gridcolor": "white",
            "linecolor": "white",
            "ticks": ""
           }
          },
          "title": {
           "x": 0.05
          },
          "xaxis": {
           "automargin": true,
           "gridcolor": "white",
           "linecolor": "white",
           "ticks": "",
           "title": {
            "standoff": 15
           },
           "zerolinecolor": "white",
           "zerolinewidth": 2
          },
          "yaxis": {
           "automargin": true,
           "gridcolor": "white",
           "linecolor": "white",
           "ticks": "",
           "title": {
            "standoff": 15
           },
           "zerolinecolor": "white",
           "zerolinewidth": 2
          }
         }
        },
        "title": {
         "text": "Number of Sentiments for Delta Airlines",
         "x": 0.5
        },
        "xaxis": {
         "title": {
          "text": "Sentiment Types"
         }
        },
        "yaxis": {
         "title": {
          "text": "Number of Sentiments"
         }
        }
       }
      },
      "text/html": [
       "<div>                            <div id=\"cfb8006e-e149-43df-8283-9f805b68d642\" class=\"plotly-graph-div\" style=\"height:525px; width:100%;\"></div>            <script type=\"text/javascript\">                require([\"plotly\"], function(Plotly) {                    window.PLOTLYENV=window.PLOTLYENV || {};                                    if (document.getElementById(\"cfb8006e-e149-43df-8283-9f805b68d642\")) {                    Plotly.newPlot(                        \"cfb8006e-e149-43df-8283-9f805b68d642\",                        [{\"type\": \"histogram\", \"x\": [\"positive\", \"neutral\", \"neutral\", \"negative\", \"negative\", \"neutral\", \"neutral\", \"negative\", \"negative\", \"negative\", \"negative\", \"neutral\", \"negative\", \"positive\", \"neutral\", \"neutral\", \"negative\", \"negative\", \"neutral\", \"neutral\", \"neutral\", \"negative\", \"negative\", \"neutral\", \"negative\", \"positive\", \"positive\", \"neutral\", \"positive\", \"positive\", \"neutral\", \"negative\", \"negative\", \"negative\", \"neutral\", \"negative\", \"positive\", \"positive\", \"negative\", \"positive\", \"negative\", \"negative\", \"negative\", \"positive\", \"neutral\", \"neutral\", \"neutral\", \"neutral\", \"neutral\", \"negative\", \"neutral\", \"neutral\", \"neutral\", \"neutral\", \"positive\", \"neutral\", \"positive\", \"neutral\", \"neutral\", \"positive\", \"positive\", \"positive\", \"neutral\", \"neutral\", \"neutral\", \"positive\", \"positive\", \"negative\", \"neutral\", \"positive\", \"negative\", \"positive\", \"neutral\", \"neutral\", \"positive\", \"positive\", \"positive\", \"positive\", \"positive\", \"positive\", \"positive\", \"negative\", \"negative\", \"positive\", \"positive\", \"positive\", \"negative\", \"negative\", \"neutral\", \"neutral\", \"neutral\", \"neutral\", \"positive\", \"positive\", \"positive\", \"negative\", \"negative\", \"negative\", \"negative\", \"negative\", \"neutral\", \"negative\", \"positive\", \"negative\", \"neutral\", \"positive\", \"negative\", \"positive\", \"neutral\", \"negative\", \"neutral\", \"positive\", \"neutral\", \"negative\", \"positive\", \"neutral\", \"positive\", \"negative\", \"neutral\", \"negative\", \"neutral\", \"negative\", \"negative\", \"negative\", \"neutral\", \"neutral\", \"positive\", \"neutral\", \"positive\", \"negative\", \"positive\", \"neutral\", \"negative\", \"negative\", \"negative\", \"neutral\", \"negative\", \"negative\", \"negative\", \"negative\", \"negative\", \"negative\", \"negative\", \"negative\", \"negative\", \"negative\", \"negative\", \"neutral\", \"neutral\", \"positive\", \"positive\", \"neutral\", \"negative\", \"negative\", \"negative\", \"neutral\", \"neutral\", \"neutral\", \"neutral\", \"neutral\", \"negative\", \"negative\", \"neutral\", \"negative\", \"negative\", \"negative\", \"negative\", \"neutral\", \"neutral\", \"neutral\", \"neutral\", \"positive\", \"neutral\", \"neutral\", \"negative\", \"negative\", \"neutral\", \"neutral\", \"neutral\", \"positive\", \"neutral\", \"negative\", \"neutral\", \"neutral\", \"positive\", \"neutral\", \"neutral\", \"neutral\", \"neutral\", \"positive\", \"neutral\", \"negative\", \"positive\", \"neutral\", \"negative\", \"negative\", \"neutral\", \"neutral\", \"neutral\", \"positive\", \"neutral\", \"neutral\", \"negative\", \"neutral\", \"neutral\", \"neutral\", \"negative\", \"negative\", \"negative\", \"positive\", \"neutral\", \"negative\", \"neutral\", \"negative\", \"neutral\", \"neutral\", \"neutral\", \"neutral\", \"neutral\", \"neutral\", \"positive\", \"positive\", \"positive\", \"neutral\", \"positive\", \"neutral\", \"neutral\", \"negative\", \"neutral\", \"positive\", \"neutral\", \"neutral\", \"neutral\", \"positive\", \"negative\", \"negative\", \"neutral\", \"negative\", \"neutral\", \"neutral\", \"neutral\", \"neutral\", \"neutral\", \"neutral\", \"neutral\", \"neutral\", \"neutral\", \"neutral\", \"negative\", \"neutral\", \"neutral\", \"neutral\", \"neutral\", \"neutral\", \"negative\", \"negative\", \"neutral\", \"neutral\", \"neutral\", \"positive\", \"neutral\", \"neutral\", \"neutral\", \"negative\", \"negative\", \"negative\", \"positive\", \"neutral\", \"neutral\", \"neutral\", \"neutral\", \"neutral\", \"neutral\", \"positive\", \"neutral\", \"neutral\", \"neutral\", \"neutral\", \"neutral\", \"positive\", \"positive\", \"negative\", \"neutral\", \"negative\", \"neutral\", \"neutral\", \"neutral\", \"negative\", \"negative\", \"neutral\", \"neutral\", \"negative\", \"positive\", \"neutral\", \"positive\", \"negative\", \"neutral\", \"neutral\", \"neutral\", \"negative\", \"positive\", \"negative\", \"negative\", \"neutral\", \"negative\", \"neutral\", \"neutral\", \"neutral\", \"neutral\", \"neutral\", \"positive\", \"neutral\", \"negative\", \"neutral\", \"neutral\", \"neutral\", \"neutral\", \"neutral\", \"positive\", \"positive\", \"neutral\", \"negative\", \"neutral\", \"negative\", \"neutral\", \"neutral\", \"neutral\", \"negative\", \"neutral\", \"neutral\", \"negative\", \"positive\", \"neutral\", \"negative\", \"neutral\", \"negative\", \"neutral\", \"neutral\", \"positive\", \"neutral\", \"neutral\", \"negative\", \"neutral\", \"neutral\", \"positive\", \"neutral\", \"neutral\", \"neutral\", \"neutral\", \"neutral\", \"neutral\", \"neutral\", \"positive\", \"neutral\", \"negative\", \"neutral\", \"neutral\", \"neutral\", \"negative\", \"neutral\", \"neutral\", \"neutral\", \"negative\", \"neutral\", \"negative\", \"neutral\", \"positive\", \"neutral\", \"neutral\", \"negative\", \"negative\", \"neutral\", \"neutral\", \"negative\", \"negative\", \"positive\", \"negative\", \"negative\", \"positive\", \"neutral\", \"negative\", \"neutral\", \"positive\", \"neutral\", \"neutral\", \"negative\", \"negative\", \"positive\", \"negative\", \"positive\", \"neutral\", \"negative\", \"neutral\", \"positive\", \"neutral\", \"positive\", \"negative\", \"neutral\", \"positive\", \"neutral\", \"positive\", \"negative\", \"neutral\", \"negative\", \"neutral\", \"neutral\", \"neutral\", \"neutral\", \"negative\", \"neutral\", \"negative\", \"negative\", \"neutral\", \"neutral\", \"positive\", \"neutral\", \"positive\", \"neutral\", \"negative\", \"positive\", \"positive\", \"neutral\", \"positive\", \"neutral\", \"neutral\", \"positive\", \"negative\", \"positive\", \"negative\", \"neutral\", \"positive\", \"positive\", \"positive\", \"negative\", \"negative\", \"positive\", \"negative\", \"neutral\", \"neutral\", \"neutral\", \"negative\", \"negative\", \"positive\", \"negative\", \"neutral\", \"neutral\", \"positive\", \"neutral\", \"neutral\", \"negative\", \"negative\", \"neutral\", \"positive\", \"neutral\", \"neutral\", \"positive\", \"neutral\", \"neutral\", \"negative\", \"neutral\", \"positive\", \"negative\", \"neutral\", \"neutral\", \"neutral\", \"negative\", \"neutral\", \"positive\", \"positive\", \"positive\", \"negative\", \"positive\", \"neutral\", \"positive\", \"negative\", \"negative\", \"negative\", \"neutral\", \"positive\", \"negative\", \"positive\", \"neutral\", \"negative\", \"negative\", \"negative\", \"negative\", \"neutral\", \"negative\", \"negative\", \"negative\", \"positive\", \"negative\", \"negative\", \"negative\", \"negative\", \"neutral\", \"negative\", \"positive\", \"negative\", \"negative\", \"negative\", \"neutral\", \"positive\", \"negative\", \"negative\", \"neutral\", \"positive\", \"negative\", \"negative\", \"positive\", \"negative\", \"negative\", \"negative\", \"neutral\", \"positive\", \"negative\", \"positive\", \"negative\", \"negative\", \"neutral\", \"negative\", \"negative\", \"positive\", \"negative\", \"neutral\", \"negative\", \"negative\", \"negative\", \"positive\", \"positive\", \"negative\", \"negative\", \"negative\", \"neutral\", \"negative\", \"negative\", \"negative\", \"positive\", \"positive\", \"neutral\", \"negative\", \"neutral\", \"negative\", \"positive\", \"negative\", \"negative\", \"negative\", \"positive\", \"positive\", \"neutral\", \"negative\", \"negative\", \"negative\", \"negative\", \"negative\", \"negative\", \"negative\", \"negative\", \"positive\", \"positive\", \"negative\", \"negative\", \"negative\", \"negative\", \"positive\", \"positive\", \"negative\", \"neutral\", \"negative\", \"positive\", \"negative\", \"positive\", \"negative\", \"negative\", \"positive\", \"negative\", \"negative\", \"neutral\", \"neutral\", \"negative\", \"negative\", \"negative\", \"negative\", \"neutral\", \"neutral\", \"negative\", \"negative\", \"negative\", \"negative\", \"negative\", \"negative\", \"negative\", \"negative\", \"negative\", \"negative\", \"negative\", \"negative\", \"positive\", \"negative\", \"neutral\", \"negative\", \"negative\", \"negative\", \"negative\", \"negative\", \"neutral\", \"positive\", \"neutral\", \"positive\", \"negative\", \"neutral\", \"negative\", \"negative\", \"negative\", \"negative\", \"neutral\", \"negative\", \"negative\", \"negative\", \"negative\", \"positive\", \"negative\", \"negative\", \"positive\", \"neutral\", \"negative\", \"neutral\", \"negative\", \"neutral\", \"negative\", \"positive\", \"neutral\", \"negative\", \"negative\", \"negative\", \"neutral\", \"neutral\", \"negative\", \"negative\", \"positive\", \"neutral\", \"negative\", \"negative\", \"negative\", \"neutral\", \"negative\", \"negative\", \"neutral\", \"negative\", \"neutral\", \"neutral\", \"negative\", \"negative\", \"negative\", \"negative\", \"negative\", \"neutral\", \"negative\", \"negative\", \"negative\", \"negative\", \"negative\", \"negative\", \"negative\", \"negative\", \"negative\", \"positive\", \"negative\", \"negative\", \"negative\", \"negative\", \"negative\", \"negative\", \"negative\", \"neutral\", \"neutral\", \"negative\", \"neutral\", \"negative\", \"negative\", \"neutral\", \"negative\", \"negative\", \"neutral\", \"negative\", \"negative\", \"positive\", \"neutral\", \"positive\", \"negative\", \"negative\", \"negative\", \"positive\", \"negative\", \"neutral\", \"negative\", \"negative\", \"positive\", \"negative\", \"negative\", \"negative\", \"positive\", \"negative\", \"negative\", \"neutral\", \"negative\", \"neutral\", \"positive\", \"negative\", \"negative\", \"neutral\", \"negative\", \"negative\", \"neutral\", \"positive\", \"neutral\", \"negative\", \"negative\", \"neutral\", \"negative\", \"negative\", \"positive\", \"positive\", \"positive\", \"negative\", \"neutral\", \"negative\", \"negative\", \"neutral\", \"neutral\", \"negative\", \"negative\", \"negative\", \"positive\", \"neutral\", \"positive\", \"positive\", \"positive\", \"negative\", \"positive\", \"negative\", \"negative\", \"negative\", \"negative\", \"negative\", \"negative\", \"negative\", \"negative\", \"neutral\", \"negative\", \"neutral\", \"negative\", \"negative\", \"negative\", \"positive\", \"negative\", \"negative\", \"negative\", \"negative\", \"negative\", \"positive\", \"negative\", \"negative\", \"negative\", \"negative\", \"neutral\", \"negative\", \"neutral\", \"negative\", \"negative\", \"neutral\", \"negative\", \"neutral\", \"negative\", \"negative\", \"negative\", \"negative\", \"negative\", \"positive\", \"positive\", \"negative\", \"negative\", \"neutral\", \"positive\", \"negative\", \"negative\", \"negative\", \"negative\", \"negative\", \"positive\", \"negative\", \"negative\", \"negative\", \"neutral\", \"negative\", \"positive\", \"negative\", \"neutral\", \"positive\", \"negative\", \"negative\", \"negative\", \"negative\", \"negative\", \"negative\", \"negative\", \"negative\", \"positive\", \"negative\", \"positive\", \"negative\", \"positive\", \"positive\", \"negative\", \"neutral\", \"positive\", \"negative\", \"positive\", \"negative\", \"neutral\", \"negative\", \"negative\", \"neutral\", \"negative\", \"negative\", \"negative\", \"positive\", \"positive\", \"negative\", \"negative\", \"negative\", \"negative\", \"negative\", \"positive\", \"negative\", \"positive\", \"neutral\", \"negative\", \"negative\", \"neutral\", \"negative\", \"negative\", \"negative\", \"positive\", \"negative\", \"negative\", \"neutral\", \"positive\", \"negative\", \"negative\", \"neutral\", \"positive\", \"positive\", \"neutral\", \"positive\", \"negative\", \"neutral\", \"neutral\", \"negative\", \"negative\", \"negative\", \"positive\", \"negative\", \"positive\", \"neutral\", \"negative\", \"negative\", \"positive\", \"negative\", \"positive\", \"negative\", \"negative\", \"positive\", \"negative\", \"neutral\", \"positive\", \"negative\", \"neutral\", \"negative\", \"neutral\", \"negative\", \"neutral\", \"negative\", \"neutral\", \"negative\", \"negative\", \"negative\", \"negative\", \"negative\", \"neutral\", \"negative\", \"negative\", \"neutral\", \"positive\", \"negative\", \"negative\", \"negative\", \"neutral\", \"negative\", \"positive\", \"negative\", \"positive\", \"positive\", \"positive\", \"negative\", \"positive\", \"neutral\", \"negative\", \"negative\", \"negative\", \"negative\", \"positive\", \"negative\", \"positive\", \"negative\", \"neutral\", \"positive\", \"negative\", \"neutral\", \"neutral\", \"neutral\", \"negative\", \"negative\", \"negative\", \"negative\", \"positive\", \"negative\", \"positive\", \"negative\", \"negative\", \"neutral\", \"positive\", \"positive\", \"negative\", \"negative\", \"positive\", \"negative\", \"neutral\", \"positive\", \"neutral\", \"negative\", \"neutral\", \"negative\", \"negative\", \"neutral\", \"negative\", \"negative\", \"neutral\", \"negative\", \"neutral\", \"negative\", \"negative\", \"negative\", \"negative\", \"negative\", \"negative\", \"negative\", \"neutral\", \"positive\", \"positive\", \"positive\", \"positive\", \"negative\", \"negative\", \"negative\", \"neutral\", \"positive\", \"negative\", \"positive\", \"positive\", \"positive\", \"neutral\", \"neutral\", \"positive\", \"positive\", \"neutral\", \"positive\", \"neutral\", \"negative\", \"positive\", \"positive\", \"negative\", \"neutral\", \"negative\", \"neutral\", \"positive\", \"positive\", \"negative\", \"neutral\", \"positive\", \"positive\", \"positive\", \"positive\", \"neutral\", \"neutral\", \"neutral\", \"neutral\", \"negative\", \"neutral\", \"negative\", \"negative\", \"positive\", \"positive\", \"positive\", \"negative\", \"negative\", \"neutral\", \"neutral\", \"negative\", \"neutral\", \"negative\", \"negative\", \"negative\", \"neutral\", \"positive\", \"neutral\", \"negative\", \"negative\", \"positive\", \"negative\", \"neutral\", \"neutral\", \"negative\", \"negative\", \"neutral\", \"neutral\", \"negative\", \"negative\", \"negative\", \"negative\", \"neutral\", \"negative\", \"negative\", \"negative\", \"positive\", \"positive\", \"positive\", \"negative\", \"negative\", \"negative\", \"negative\", \"positive\", \"neutral\", \"neutral\", \"negative\", \"positive\", \"neutral\", \"positive\", \"neutral\", \"positive\", \"neutral\", \"neutral\", \"negative\", \"negative\", \"negative\", \"negative\", \"positive\", \"neutral\", \"negative\", \"negative\", \"negative\", \"neutral\", \"negative\", \"negative\", \"negative\", \"neutral\", \"negative\", \"negative\", \"neutral\", \"negative\", \"negative\", \"positive\", \"neutral\", \"neutral\", \"positive\", \"negative\", \"neutral\", \"neutral\", \"neutral\", \"negative\", \"negative\", \"positive\", \"positive\", \"positive\", \"positive\", \"positive\", \"negative\", \"neutral\", \"positive\", \"neutral\", \"positive\", \"negative\", \"negative\", \"negative\", \"negative\", \"negative\", \"neutral\", \"negative\", \"negative\", \"negative\", \"negative\", \"neutral\", \"positive\", \"neutral\", \"positive\", \"neutral\", \"neutral\", \"neutral\", \"positive\", \"positive\", \"negative\", \"negative\", \"negative\", \"negative\", \"neutral\", \"positive\", \"negative\", \"positive\", \"neutral\", \"neutral\", \"neutral\", \"neutral\", \"neutral\", \"neutral\", \"neutral\", \"neutral\", \"neutral\", \"negative\", \"neutral\", \"positive\", \"negative\", \"positive\", \"neutral\", \"negative\", \"positive\", \"positive\", \"neutral\", \"positive\", \"neutral\", \"positive\", \"positive\", \"positive\", \"positive\", \"neutral\", \"positive\", \"neutral\", \"neutral\", \"neutral\", \"neutral\", \"neutral\", \"neutral\", \"negative\", \"negative\", \"negative\", \"positive\", \"neutral\", \"neutral\", \"negative\", \"negative\", \"negative\", \"negative\", \"negative\", \"negative\", \"neutral\", \"negative\", \"negative\", \"negative\", \"positive\", \"positive\", \"positive\", \"negative\", \"positive\", \"neutral\", \"neutral\", \"positive\", \"neutral\", \"positive\", \"positive\", \"negative\", \"neutral\", \"negative\", \"neutral\", \"negative\", \"neutral\", \"neutral\", \"negative\", \"positive\", \"neutral\", \"neutral\", \"neutral\", \"negative\", \"positive\", \"negative\", \"neutral\", \"negative\", \"negative\", \"negative\", \"neutral\", \"negative\", \"positive\", \"neutral\", \"neutral\", \"neutral\", \"neutral\", \"negative\", \"positive\", \"positive\", \"neutral\", \"neutral\", \"negative\", \"negative\", \"positive\", \"positive\", \"negative\", \"negative\", \"positive\", \"negative\", \"negative\", \"positive\", \"positive\", \"negative\", \"negative\", \"neutral\", \"neutral\", \"negative\", \"negative\", \"negative\", \"negative\", \"negative\", \"negative\", \"negative\", \"neutral\", \"positive\", \"neutral\", \"neutral\", \"neutral\", \"neutral\", \"negative\", \"neutral\", \"positive\", \"negative\", \"negative\", \"negative\", \"negative\", \"positive\", \"negative\", \"neutral\", \"negative\", \"negative\", \"negative\", \"negative\", \"neutral\", \"neutral\", \"positive\", \"neutral\", \"neutral\", \"positive\", \"positive\", \"positive\", \"neutral\", \"negative\", \"positive\", \"negative\", \"negative\", \"positive\", \"neutral\", \"neutral\", \"neutral\", \"positive\", \"positive\", \"positive\", \"neutral\", \"positive\", \"neutral\", \"negative\", \"neutral\", \"negative\", \"negative\", \"neutral\", \"negative\", \"negative\", \"negative\", \"positive\", \"neutral\", \"positive\", \"negative\", \"neutral\", \"positive\", \"neutral\", \"neutral\", \"positive\", \"neutral\", \"positive\", \"neutral\", \"neutral\", \"positive\", \"positive\", \"neutral\", \"positive\", \"neutral\", \"neutral\", \"neutral\", \"positive\", \"positive\", \"neutral\", \"neutral\", \"positive\", \"positive\", \"negative\", \"neutral\", \"positive\", \"positive\", \"negative\", \"positive\", \"positive\", \"neutral\", \"negative\", \"negative\", \"neutral\", \"neutral\", \"positive\", \"negative\", \"neutral\", \"neutral\", \"neutral\", \"negative\", \"positive\", \"negative\", \"neutral\", \"neutral\", \"positive\", \"positive\", \"negative\", \"neutral\", \"negative\", \"negative\", \"positive\", \"negative\", \"negative\", \"positive\", \"negative\", \"neutral\", \"negative\", \"positive\", \"positive\", \"negative\", \"positive\", \"neutral\", \"positive\", \"positive\", \"negative\", \"positive\", \"neutral\", \"negative\", \"positive\", \"neutral\", \"neutral\", \"positive\", \"neutral\", \"positive\", \"positive\", \"positive\", \"negative\", \"neutral\", \"negative\", \"positive\", \"negative\", \"neutral\", \"negative\", \"negative\", \"negative\", \"neutral\", \"negative\", \"negative\", \"negative\", \"positive\", \"neutral\", \"neutral\", \"negative\", \"negative\", \"neutral\", \"negative\", \"negative\", \"neutral\", \"negative\", \"positive\", \"negative\", \"positive\", \"positive\", \"neutral\", \"neutral\", \"negative\", \"negative\", \"neutral\", \"neutral\", \"neutral\", \"positive\", \"neutral\", \"neutral\", \"neutral\", \"neutral\", \"neutral\", \"neutral\", \"neutral\", \"negative\", \"negative\", \"negative\", \"neutral\", \"negative\", \"negative\", \"neutral\", \"neutral\", \"positive\", \"neutral\", \"neutral\", \"negative\", \"negative\", \"neutral\", \"neutral\", \"negative\", \"positive\", \"negative\", \"positive\", \"positive\", \"neutral\", \"negative\", \"negative\", \"neutral\", \"negative\", \"negative\", \"negative\", \"negative\", \"negative\", \"negative\", \"negative\", \"positive\", \"negative\", \"negative\", \"positive\", \"neutral\", \"positive\", \"neutral\", \"negative\", \"negative\", \"negative\", \"negative\", \"positive\", \"neutral\", \"neutral\", \"neutral\", \"positive\", \"neutral\", \"positive\", \"negative\", \"negative\", \"neutral\", \"positive\", \"positive\", \"negative\", \"negative\", \"positive\", \"negative\", \"neutral\", \"negative\", \"negative\", \"positive\", \"negative\", \"neutral\", \"neutral\", \"positive\", \"positive\", \"neutral\", \"positive\", \"positive\", \"neutral\", \"negative\", \"negative\", \"negative\", \"positive\", \"negative\", \"negative\", \"negative\", \"negative\", \"negative\", \"positive\", \"negative\", \"positive\", \"positive\", \"negative\", \"neutral\", \"neutral\", \"positive\", \"neutral\", \"neutral\", \"negative\", \"negative\", \"neutral\", \"positive\", \"positive\", \"neutral\", \"neutral\", \"neutral\", \"negative\", \"negative\", \"positive\", \"negative\", \"positive\", \"positive\", \"positive\", \"negative\", \"neutral\", \"negative\", \"negative\", \"negative\", \"negative\", \"negative\", \"negative\", \"positive\", \"positive\", \"neutral\", \"negative\", \"positive\", \"negative\", \"negative\", \"neutral\", \"positive\", \"neutral\", \"positive\", \"neutral\", \"positive\", \"positive\", \"neutral\", \"neutral\", \"negative\", \"neutral\", \"negative\", \"neutral\", \"negative\", \"neutral\", \"positive\", \"neutral\", \"negative\", \"positive\", \"negative\", \"neutral\", \"neutral\", \"negative\", \"negative\", \"positive\", \"neutral\", \"neutral\", \"negative\", \"positive\", \"neutral\", \"neutral\", \"neutral\", \"positive\", \"negative\", \"positive\", \"negative\", \"negative\", \"neutral\", \"positive\", \"neutral\", \"neutral\", \"negative\", \"positive\", \"neutral\", \"negative\", \"negative\", \"negative\", \"positive\", \"positive\", \"neutral\", \"negative\", \"negative\", \"negative\", \"positive\", \"negative\", \"neutral\", \"negative\", \"neutral\", \"negative\", \"negative\", \"neutral\", \"negative\", \"negative\", \"positive\", \"negative\", \"negative\", \"positive\", \"neutral\", \"neutral\", \"negative\", \"positive\", \"neutral\", \"negative\", \"positive\", \"negative\", \"negative\", \"negative\", \"negative\", \"positive\", \"positive\", \"neutral\", \"positive\", \"negative\", \"positive\", \"negative\", \"positive\", \"positive\", \"neutral\", \"positive\", \"negative\", \"negative\", \"neutral\", \"negative\", \"negative\", \"negative\", \"negative\", \"negative\", \"neutral\", \"negative\", \"negative\", \"negative\", \"negative\", \"positive\", \"positive\", \"negative\", \"negative\", \"negative\", \"negative\", \"negative\", \"negative\", \"negative\", \"negative\", \"negative\", \"positive\", \"negative\", \"negative\", \"negative\", \"negative\", \"negative\", \"negative\", \"negative\", \"negative\", \"positive\", \"positive\", \"positive\", \"negative\", \"positive\", \"negative\", \"negative\", \"positive\", \"positive\", \"positive\", \"negative\", \"positive\", \"negative\", \"negative\", \"positive\", \"negative\", \"neutral\", \"negative\", \"positive\", \"neutral\", \"positive\", \"negative\", \"neutral\", \"negative\", \"negative\", \"positive\", \"negative\", \"neutral\", \"positive\", \"neutral\", \"negative\", \"neutral\", \"negative\", \"positive\", \"neutral\", \"negative\", \"neutral\", \"positive\", \"positive\", \"negative\", \"positive\", \"neutral\", \"neutral\", \"positive\", \"neutral\", \"neutral\", \"positive\", \"negative\", \"positive\", \"negative\", \"negative\", \"negative\", \"positive\", \"negative\", \"positive\", \"negative\", \"positive\", \"negative\", \"neutral\", \"negative\", \"neutral\", \"positive\", \"neutral\", \"neutral\", \"negative\", \"negative\", \"negative\", \"positive\", \"negative\", \"neutral\", \"positive\", \"negative\", \"negative\", \"positive\", \"positive\", \"positive\", \"neutral\", \"negative\", \"negative\", \"negative\", \"positive\", \"neutral\", \"neutral\", \"neutral\", \"negative\", \"neutral\", \"negative\", \"neutral\", \"positive\", \"positive\", \"neutral\", \"positive\", \"positive\", \"negative\", \"negative\", \"neutral\", \"positive\", \"positive\", \"neutral\", \"negative\", \"neutral\", \"negative\", \"negative\", \"neutral\", \"negative\", \"neutral\", \"positive\", \"neutral\", \"negative\", \"negative\", \"negative\", \"negative\", \"neutral\", \"negative\", \"negative\", \"neutral\", \"negative\", \"negative\", \"neutral\", \"negative\", \"neutral\", \"negative\", \"negative\", \"positive\", \"negative\", \"neutral\", \"negative\", \"neutral\", \"negative\", \"negative\", \"negative\", \"positive\", \"negative\", \"neutral\", \"neutral\", \"neutral\", \"neutral\", \"neutral\", \"neutral\", \"positive\", \"neutral\", \"negative\", \"negative\", \"positive\", \"negative\", \"negative\", \"neutral\", \"positive\", \"negative\", \"neutral\", \"positive\", \"negative\", \"neutral\", \"negative\", \"positive\", \"positive\", \"negative\", \"positive\", \"positive\", \"neutral\", \"neutral\", \"positive\", \"positive\", \"neutral\", \"negative\", \"negative\", \"neutral\", \"negative\", \"neutral\", \"neutral\", \"neutral\", \"neutral\", \"neutral\", \"negative\", \"neutral\", \"positive\", \"neutral\", \"positive\", \"neutral\", \"negative\", \"positive\", \"negative\", \"positive\", \"negative\", \"neutral\", \"neutral\", \"neutral\", \"positive\", \"neutral\", \"positive\", \"neutral\", \"negative\", \"neutral\", \"negative\", \"negative\", \"neutral\", \"negative\", \"negative\", \"neutral\", \"neutral\", \"neutral\", \"neutral\", \"neutral\", \"negative\", \"neutral\", \"neutral\", \"positive\", \"neutral\", \"negative\", \"negative\", \"negative\", \"neutral\", \"positive\", \"negative\", \"neutral\", \"positive\", \"positive\", \"positive\", \"positive\", \"neutral\", \"negative\", \"positive\", \"negative\", \"neutral\", \"positive\", \"negative\", \"negative\", \"negative\", \"negative\", \"neutral\", \"positive\", \"positive\", \"negative\", \"negative\", \"positive\", \"neutral\", \"positive\", \"positive\", \"negative\", \"negative\", \"positive\", \"positive\", \"negative\", \"negative\", \"positive\", \"negative\", \"negative\", \"neutral\", \"positive\", \"neutral\", \"positive\", \"positive\", \"positive\", \"neutral\", \"positive\", \"positive\", \"negative\", \"neutral\", \"negative\", \"negative\", \"negative\", \"positive\", \"negative\", \"positive\", \"neutral\", \"negative\", \"negative\", \"positive\", \"positive\", \"negative\", \"negative\", \"positive\", \"negative\", \"positive\", \"positive\", \"negative\", \"positive\", \"positive\", \"neutral\", \"neutral\", \"negative\", \"negative\", \"positive\", \"negative\", \"positive\", \"positive\", \"positive\", \"negative\", \"negative\", \"neutral\", \"neutral\", \"negative\", \"positive\", \"negative\", \"negative\", \"positive\", \"negative\", \"negative\", \"negative\", \"negative\", \"negative\", \"neutral\", \"positive\", \"positive\", \"neutral\", \"neutral\", \"neutral\", \"neutral\", \"neutral\", \"neutral\", \"positive\", \"neutral\", \"negative\", \"neutral\", \"negative\", \"negative\", \"negative\", \"negative\", \"negative\", \"positive\", \"neutral\", \"positive\", \"positive\", \"positive\", \"neutral\", \"positive\", \"neutral\", \"neutral\", \"positive\", \"negative\", \"negative\", \"negative\", \"negative\", \"positive\", \"neutral\", \"neutral\", \"neutral\", \"neutral\", \"negative\", \"positive\", \"negative\", \"positive\", \"negative\", \"positive\", \"neutral\", \"negative\", \"negative\", \"negative\", \"positive\", \"negative\", \"positive\", \"neutral\", \"positive\", \"neutral\", \"positive\", \"negative\", \"neutral\", \"negative\", \"negative\", \"neutral\", \"negative\", \"negative\", \"negative\", \"negative\", \"negative\", \"negative\", \"negative\", \"negative\", \"negative\", \"neutral\", \"negative\", \"negative\", \"negative\", \"negative\", \"positive\", \"positive\", \"neutral\", \"negative\", \"neutral\", \"negative\", \"positive\", \"negative\", \"negative\", \"negative\", \"negative\", \"negative\", \"negative\", \"negative\", \"neutral\", \"negative\", \"negative\", \"positive\", \"negative\", \"neutral\", \"negative\", \"negative\", \"negative\", \"positive\", \"negative\", \"negative\", \"negative\", \"negative\", \"negative\", \"negative\", \"negative\", \"negative\", \"neutral\", \"positive\", \"neutral\", \"neutral\", \"positive\", \"negative\", \"negative\", \"neutral\", \"positive\", \"negative\", \"neutral\", \"positive\", \"positive\", \"neutral\", \"negative\", \"negative\", \"neutral\", \"positive\", \"positive\", \"positive\", \"positive\", \"negative\", \"negative\", \"negative\", \"neutral\", \"negative\", \"positive\", \"negative\", \"neutral\", \"negative\", \"negative\", \"positive\", \"neutral\", \"positive\", \"negative\", \"neutral\", \"neutral\", \"negative\", \"neutral\", \"neutral\", \"positive\", \"negative\", \"neutral\", \"negative\", \"negative\", \"neutral\", \"neutral\", \"positive\", \"neutral\", \"positive\", \"negative\", \"neutral\", \"neutral\", \"neutral\", \"neutral\", \"neutral\", \"positive\", \"negative\", \"neutral\", \"positive\", \"neutral\", \"positive\", \"positive\", \"positive\", \"negative\", \"negative\", \"negative\", \"neutral\", \"neutral\", \"neutral\", \"neutral\", \"neutral\", \"positive\", \"positive\", \"neutral\", \"neutral\", \"neutral\", \"neutral\", \"positive\", \"neutral\", \"neutral\", \"positive\", \"neutral\", \"negative\", \"positive\", \"negative\", \"positive\", \"negative\", \"negative\", \"negative\", \"negative\", \"neutral\", \"negative\", \"positive\", \"neutral\", \"neutral\", \"neutral\", \"positive\", \"neutral\", \"negative\", \"negative\", \"positive\", \"negative\", \"negative\", \"positive\", \"negative\", \"neutral\", \"neutral\", \"positive\", \"positive\", \"neutral\", \"positive\", \"neutral\", \"positive\", \"positive\", \"negative\", \"neutral\", \"neutral\", \"negative\", \"positive\", \"neutral\", \"neutral\", \"negative\", \"neutral\", \"positive\", \"negative\", \"positive\", \"positive\", \"positive\", \"negative\", \"negative\", \"positive\", \"negative\", \"neutral\", \"neutral\", \"negative\", \"neutral\", \"negative\", \"neutral\", \"negative\", \"negative\", \"positive\", \"positive\", \"neutral\", \"positive\", \"negative\", \"negative\", \"neutral\", \"negative\", \"neutral\", \"positive\", \"neutral\", \"positive\", \"neutral\", \"neutral\", \"negative\", \"positive\", \"negative\", \"neutral\", \"neutral\", \"negative\", \"negative\", \"neutral\", \"positive\", \"positive\", \"neutral\", \"negative\", \"neutral\", \"negative\", \"negative\"]}],                        {\"template\": {\"data\": {\"bar\": [{\"error_x\": {\"color\": \"#2a3f5f\"}, \"error_y\": {\"color\": \"#2a3f5f\"}, \"marker\": {\"line\": {\"color\": \"#E5ECF6\", \"width\": 0.5}}, \"type\": \"bar\"}], \"barpolar\": [{\"marker\": {\"line\": {\"color\": \"#E5ECF6\", \"width\": 0.5}}, \"type\": \"barpolar\"}], \"carpet\": [{\"aaxis\": {\"endlinecolor\": \"#2a3f5f\", \"gridcolor\": \"white\", \"linecolor\": \"white\", \"minorgridcolor\": \"white\", \"startlinecolor\": \"#2a3f5f\"}, \"baxis\": {\"endlinecolor\": \"#2a3f5f\", \"gridcolor\": \"white\", \"linecolor\": \"white\", \"minorgridcolor\": \"white\", \"startlinecolor\": \"#2a3f5f\"}, \"type\": \"carpet\"}], \"choropleth\": [{\"colorbar\": {\"outlinewidth\": 0, \"ticks\": \"\"}, \"type\": \"choropleth\"}], \"contour\": [{\"colorbar\": {\"outlinewidth\": 0, \"ticks\": \"\"}, \"colorscale\": [[0.0, \"#0d0887\"], [0.1111111111111111, \"#46039f\"], [0.2222222222222222, \"#7201a8\"], [0.3333333333333333, \"#9c179e\"], [0.4444444444444444, \"#bd3786\"], [0.5555555555555556, \"#d8576b\"], [0.6666666666666666, \"#ed7953\"], [0.7777777777777778, \"#fb9f3a\"], [0.8888888888888888, \"#fdca26\"], [1.0, \"#f0f921\"]], \"type\": \"contour\"}], \"contourcarpet\": [{\"colorbar\": {\"outlinewidth\": 0, \"ticks\": \"\"}, \"type\": \"contourcarpet\"}], \"heatmap\": [{\"colorbar\": {\"outlinewidth\": 0, \"ticks\": \"\"}, \"colorscale\": [[0.0, \"#0d0887\"], [0.1111111111111111, \"#46039f\"], [0.2222222222222222, \"#7201a8\"], [0.3333333333333333, \"#9c179e\"], [0.4444444444444444, \"#bd3786\"], [0.5555555555555556, \"#d8576b\"], [0.6666666666666666, \"#ed7953\"], [0.7777777777777778, \"#fb9f3a\"], [0.8888888888888888, \"#fdca26\"], [1.0, \"#f0f921\"]], \"type\": \"heatmap\"}], \"heatmapgl\": [{\"colorbar\": {\"outlinewidth\": 0, \"ticks\": \"\"}, \"colorscale\": [[0.0, \"#0d0887\"], [0.1111111111111111, \"#46039f\"], [0.2222222222222222, \"#7201a8\"], [0.3333333333333333, \"#9c179e\"], [0.4444444444444444, \"#bd3786\"], [0.5555555555555556, \"#d8576b\"], [0.6666666666666666, \"#ed7953\"], [0.7777777777777778, \"#fb9f3a\"], [0.8888888888888888, \"#fdca26\"], [1.0, \"#f0f921\"]], \"type\": \"heatmapgl\"}], \"histogram\": [{\"marker\": {\"colorbar\": {\"outlinewidth\": 0, \"ticks\": \"\"}}, \"type\": \"histogram\"}], \"histogram2d\": [{\"colorbar\": {\"outlinewidth\": 0, \"ticks\": \"\"}, \"colorscale\": [[0.0, \"#0d0887\"], [0.1111111111111111, \"#46039f\"], [0.2222222222222222, \"#7201a8\"], [0.3333333333333333, \"#9c179e\"], [0.4444444444444444, \"#bd3786\"], [0.5555555555555556, \"#d8576b\"], [0.6666666666666666, \"#ed7953\"], [0.7777777777777778, \"#fb9f3a\"], [0.8888888888888888, \"#fdca26\"], [1.0, \"#f0f921\"]], \"type\": \"histogram2d\"}], \"histogram2dcontour\": [{\"colorbar\": {\"outlinewidth\": 0, \"ticks\": \"\"}, \"colorscale\": [[0.0, \"#0d0887\"], [0.1111111111111111, \"#46039f\"], [0.2222222222222222, \"#7201a8\"], [0.3333333333333333, \"#9c179e\"], [0.4444444444444444, \"#bd3786\"], [0.5555555555555556, \"#d8576b\"], [0.6666666666666666, \"#ed7953\"], [0.7777777777777778, \"#fb9f3a\"], [0.8888888888888888, \"#fdca26\"], [1.0, \"#f0f921\"]], \"type\": \"histogram2dcontour\"}], \"mesh3d\": [{\"colorbar\": {\"outlinewidth\": 0, \"ticks\": \"\"}, \"type\": \"mesh3d\"}], \"parcoords\": [{\"line\": {\"colorbar\": {\"outlinewidth\": 0, \"ticks\": \"\"}}, \"type\": \"parcoords\"}], \"pie\": [{\"automargin\": true, \"type\": \"pie\"}], \"scatter\": [{\"marker\": {\"colorbar\": {\"outlinewidth\": 0, \"ticks\": \"\"}}, \"type\": \"scatter\"}], \"scatter3d\": [{\"line\": {\"colorbar\": {\"outlinewidth\": 0, \"ticks\": \"\"}}, \"marker\": {\"colorbar\": {\"outlinewidth\": 0, \"ticks\": \"\"}}, \"type\": \"scatter3d\"}], \"scattercarpet\": [{\"marker\": {\"colorbar\": {\"outlinewidth\": 0, \"ticks\": \"\"}}, \"type\": \"scattercarpet\"}], \"scattergeo\": [{\"marker\": {\"colorbar\": {\"outlinewidth\": 0, \"ticks\": \"\"}}, \"type\": \"scattergeo\"}], \"scattergl\": [{\"marker\": {\"colorbar\": {\"outlinewidth\": 0, \"ticks\": \"\"}}, \"type\": \"scattergl\"}], \"scattermapbox\": [{\"marker\": {\"colorbar\": {\"outlinewidth\": 0, \"ticks\": \"\"}}, \"type\": \"scattermapbox\"}], \"scatterpolar\": [{\"marker\": {\"colorbar\": {\"outlinewidth\": 0, \"ticks\": \"\"}}, \"type\": \"scatterpolar\"}], \"scatterpolargl\": [{\"marker\": {\"colorbar\": {\"outlinewidth\": 0, \"ticks\": \"\"}}, \"type\": \"scatterpolargl\"}], \"scatterternary\": [{\"marker\": {\"colorbar\": {\"outlinewidth\": 0, \"ticks\": \"\"}}, \"type\": \"scatterternary\"}], \"surface\": [{\"colorbar\": {\"outlinewidth\": 0, \"ticks\": \"\"}, \"colorscale\": [[0.0, \"#0d0887\"], [0.1111111111111111, \"#46039f\"], [0.2222222222222222, \"#7201a8\"], [0.3333333333333333, \"#9c179e\"], [0.4444444444444444, \"#bd3786\"], [0.5555555555555556, \"#d8576b\"], [0.6666666666666666, \"#ed7953\"], [0.7777777777777778, \"#fb9f3a\"], [0.8888888888888888, \"#fdca26\"], [1.0, \"#f0f921\"]], \"type\": \"surface\"}], \"table\": [{\"cells\": {\"fill\": {\"color\": \"#EBF0F8\"}, \"line\": {\"color\": \"white\"}}, \"header\": {\"fill\": {\"color\": \"#C8D4E3\"}, \"line\": {\"color\": \"white\"}}, \"type\": \"table\"}]}, \"layout\": {\"annotationdefaults\": {\"arrowcolor\": \"#2a3f5f\", \"arrowhead\": 0, \"arrowwidth\": 1}, \"coloraxis\": {\"colorbar\": {\"outlinewidth\": 0, \"ticks\": \"\"}}, \"colorscale\": {\"diverging\": [[0, \"#8e0152\"], [0.1, \"#c51b7d\"], [0.2, \"#de77ae\"], [0.3, \"#f1b6da\"], [0.4, \"#fde0ef\"], [0.5, \"#f7f7f7\"], [0.6, \"#e6f5d0\"], [0.7, \"#b8e186\"], [0.8, \"#7fbc41\"], [0.9, \"#4d9221\"], [1, \"#276419\"]], \"sequential\": [[0.0, \"#0d0887\"], [0.1111111111111111, \"#46039f\"], [0.2222222222222222, \"#7201a8\"], [0.3333333333333333, \"#9c179e\"], [0.4444444444444444, \"#bd3786\"], [0.5555555555555556, \"#d8576b\"], [0.6666666666666666, \"#ed7953\"], [0.7777777777777778, \"#fb9f3a\"], [0.8888888888888888, \"#fdca26\"], [1.0, \"#f0f921\"]], \"sequentialminus\": [[0.0, \"#0d0887\"], [0.1111111111111111, \"#46039f\"], [0.2222222222222222, \"#7201a8\"], [0.3333333333333333, \"#9c179e\"], [0.4444444444444444, \"#bd3786\"], [0.5555555555555556, \"#d8576b\"], [0.6666666666666666, \"#ed7953\"], [0.7777777777777778, \"#fb9f3a\"], [0.8888888888888888, \"#fdca26\"], [1.0, \"#f0f921\"]]}, \"colorway\": [\"#636efa\", \"#EF553B\", \"#00cc96\", \"#ab63fa\", \"#FFA15A\", \"#19d3f3\", \"#FF6692\", \"#B6E880\", \"#FF97FF\", \"#FECB52\"], \"font\": {\"color\": \"#2a3f5f\"}, \"geo\": {\"bgcolor\": \"white\", \"lakecolor\": \"white\", \"landcolor\": \"#E5ECF6\", \"showlakes\": true, \"showland\": true, \"subunitcolor\": \"white\"}, \"hoverlabel\": {\"align\": \"left\"}, \"hovermode\": \"closest\", \"mapbox\": {\"style\": \"light\"}, \"paper_bgcolor\": \"white\", \"plot_bgcolor\": \"#E5ECF6\", \"polar\": {\"angularaxis\": {\"gridcolor\": \"white\", \"linecolor\": \"white\", \"ticks\": \"\"}, \"bgcolor\": \"#E5ECF6\", \"radialaxis\": {\"gridcolor\": \"white\", \"linecolor\": \"white\", \"ticks\": \"\"}}, \"scene\": {\"xaxis\": {\"backgroundcolor\": \"#E5ECF6\", \"gridcolor\": \"white\", \"gridwidth\": 2, \"linecolor\": \"white\", \"showbackground\": true, \"ticks\": \"\", \"zerolinecolor\": \"white\"}, \"yaxis\": {\"backgroundcolor\": \"#E5ECF6\", \"gridcolor\": \"white\", \"gridwidth\": 2, \"linecolor\": \"white\", \"showbackground\": true, \"ticks\": \"\", \"zerolinecolor\": \"white\"}, \"zaxis\": {\"backgroundcolor\": \"#E5ECF6\", \"gridcolor\": \"white\", \"gridwidth\": 2, \"linecolor\": \"white\", \"showbackground\": true, \"ticks\": \"\", \"zerolinecolor\": \"white\"}}, \"shapedefaults\": {\"line\": {\"color\": \"#2a3f5f\"}}, \"ternary\": {\"aaxis\": {\"gridcolor\": \"white\", \"linecolor\": \"white\", \"ticks\": \"\"}, \"baxis\": {\"gridcolor\": \"white\", \"linecolor\": \"white\", \"ticks\": \"\"}, \"bgcolor\": \"#E5ECF6\", \"caxis\": {\"gridcolor\": \"white\", \"linecolor\": \"white\", \"ticks\": \"\"}}, \"title\": {\"x\": 0.05}, \"xaxis\": {\"automargin\": true, \"gridcolor\": \"white\", \"linecolor\": \"white\", \"ticks\": \"\", \"title\": {\"standoff\": 15}, \"zerolinecolor\": \"white\", \"zerolinewidth\": 2}, \"yaxis\": {\"automargin\": true, \"gridcolor\": \"white\", \"linecolor\": \"white\", \"ticks\": \"\", \"title\": {\"standoff\": 15}, \"zerolinecolor\": \"white\", \"zerolinewidth\": 2}}}, \"title\": {\"text\": \"Number of Sentiments for Delta Airlines\", \"x\": 0.5}, \"xaxis\": {\"title\": {\"text\": \"Sentiment Types\"}}, \"yaxis\": {\"title\": {\"text\": \"Number of Sentiments\"}}},                        {\"responsive\": true}                    ).then(function(){\n",
       "                            \n",
       "var gd = document.getElementById('cfb8006e-e149-43df-8283-9f805b68d642');\n",
       "var x = new MutationObserver(function (mutations, observer) {{\n",
       "        var display = window.getComputedStyle(gd).display;\n",
       "        if (!display || display === 'none') {{\n",
       "            console.log([gd, 'removed!']);\n",
       "            Plotly.purge(gd);\n",
       "            observer.disconnect();\n",
       "        }}\n",
       "}});\n",
       "\n",
       "// Listen for the removal of the full notebook cells\n",
       "var notebookContainer = gd.closest('#notebook-container');\n",
       "if (notebookContainer) {{\n",
       "    x.observe(notebookContainer, {childList: true});\n",
       "}}\n",
       "\n",
       "// Listen for the clearing of the current output cell\n",
       "var outputEl = gd.closest('.output');\n",
       "if (outputEl) {{\n",
       "    x.observe(outputEl, {childList: true});\n",
       "}}\n",
       "\n",
       "                        })                };                });            </script>        </div>"
      ]
     },
     "metadata": {},
     "output_type": "display_data"
    }
   ],
   "source": [
    "fig = go.Figure(data=data,\n",
    "               layout=layout)\n",
    "offline.iplot(fig)"
   ]
  },
  {
   "cell_type": "markdown",
   "metadata": {},
   "source": [
    "### Pie Charts for each airline, showing the sentiment percentages"
   ]
  },
  {
   "cell_type": "code",
   "execution_count": 19,
   "metadata": {},
   "outputs": [],
   "source": [
    "from plotly.subplots import make_subplots"
   ]
  },
  {
   "cell_type": "code",
   "execution_count": 20,
   "metadata": {},
   "outputs": [],
   "source": [
    "delta_rows = air_df[(air_df['airline'] == 'Delta')]\n",
    "un_rows = air_df[(air_df['airline'] == 'United')]\n",
    "sw_rows = air_df[(air_df['airline'] == 'Southwest')]\n",
    "va_rows = air_df[(air_df['airline'] == 'Virgin America')]\n",
    "us_rows = air_df[(air_df['airline'] == 'US Airways')]\n",
    "am_rows = air_df[(air_df['airline'] == 'American')]"
   ]
  },
  {
   "cell_type": "code",
   "execution_count": 21,
   "metadata": {},
   "outputs": [],
   "source": [
    "labels = ['negative', 'neutral', 'positive']"
   ]
  },
  {
   "cell_type": "code",
   "execution_count": 22,
   "metadata": {},
   "outputs": [],
   "source": [
    "specs=[[{'type':'domain'}, {'type':'domain'}, {'type':'domain'}], [{'type':'domain'}, {'type':'domain'}, {'type':'domain'}]]"
   ]
  },
  {
   "cell_type": "code",
   "execution_count": 23,
   "metadata": {},
   "outputs": [],
   "source": [
    "fig = make_subplots(rows=2, cols=3, specs=specs)"
   ]
  },
  {
   "cell_type": "code",
   "execution_count": 24,
   "metadata": {},
   "outputs": [],
   "source": [
    "fig.add_trace(go.Pie(labels=labels, values=delta_rows['airline_sentiment'].value_counts().values.tolist(), name='Delta'), 1,1);\n",
    "fig.add_trace(go.Pie(labels=labels, values=un_rows['airline_sentiment'].value_counts().values.tolist(), name='United'), 1,2);\n",
    "fig.add_trace(go.Pie(labels=labels, values=sw_rows['airline_sentiment'].value_counts().values.tolist(), name='Southwest'), 1,3);\n",
    "fig.add_trace(go.Pie(labels=labels, values=va_rows['airline_sentiment'].value_counts().values.tolist(), name='Virgin America'), 2,1);\n",
    "fig.add_trace(go.Pie(labels=labels, values=us_rows['airline_sentiment'].value_counts().values.tolist(), name='US Airways'), 2,2);\n",
    "fig.add_trace(go.Pie(labels=labels, values=am_rows['airline_sentiment'].value_counts().values.tolist(), name='American'), 2,3);"
   ]
  },
  {
   "cell_type": "code",
   "execution_count": 25,
   "metadata": {},
   "outputs": [
    {
     "data": {
      "application/vnd.plotly.v1+json": {
       "config": {
        "plotlyServerURL": "https://plot.ly"
       },
       "data": [
        {
         "domain": {
          "x": [
           0,
           0.2888888888888889
          ],
          "y": [
           0.575,
           1
          ]
         },
         "labels": [
          "negative",
          "neutral",
          "positive"
         ],
         "name": "Delta",
         "type": "pie",
         "values": [
          955,
          723,
          544
         ]
        },
        {
         "domain": {
          "x": [
           0.35555555555555557,
           0.6444444444444445
          ],
          "y": [
           0.575,
           1
          ]
         },
         "labels": [
          "negative",
          "neutral",
          "positive"
         ],
         "name": "United",
         "type": "pie",
         "values": [
          2633,
          697,
          492
         ]
        },
        {
         "domain": {
          "x": [
           0.7111111111111111,
           1
          ],
          "y": [
           0.575,
           1
          ]
         },
         "labels": [
          "negative",
          "neutral",
          "positive"
         ],
         "name": "Southwest",
         "type": "pie",
         "values": [
          1186,
          664,
          570
         ]
        },
        {
         "domain": {
          "x": [
           0,
           0.2888888888888889
          ],
          "y": [
           0,
           0.425
          ]
         },
         "labels": [
          "negative",
          "neutral",
          "positive"
         ],
         "name": "Virgin America",
         "type": "pie",
         "values": [
          181,
          171,
          152
         ]
        },
        {
         "domain": {
          "x": [
           0.35555555555555557,
           0.6444444444444445
          ],
          "y": [
           0,
           0.425
          ]
         },
         "labels": [
          "negative",
          "neutral",
          "positive"
         ],
         "name": "US Airways",
         "type": "pie",
         "values": [
          2263,
          381,
          269
         ]
        },
        {
         "domain": {
          "x": [
           0.7111111111111111,
           1
          ],
          "y": [
           0,
           0.425
          ]
         },
         "labels": [
          "negative",
          "neutral",
          "positive"
         ],
         "name": "American",
         "type": "pie",
         "values": [
          1960,
          463,
          336
         ]
        }
       ],
       "layout": {
        "template": {
         "data": {
          "bar": [
           {
            "error_x": {
             "color": "#2a3f5f"
            },
            "error_y": {
             "color": "#2a3f5f"
            },
            "marker": {
             "line": {
              "color": "#E5ECF6",
              "width": 0.5
             }
            },
            "type": "bar"
           }
          ],
          "barpolar": [
           {
            "marker": {
             "line": {
              "color": "#E5ECF6",
              "width": 0.5
             }
            },
            "type": "barpolar"
           }
          ],
          "carpet": [
           {
            "aaxis": {
             "endlinecolor": "#2a3f5f",
             "gridcolor": "white",
             "linecolor": "white",
             "minorgridcolor": "white",
             "startlinecolor": "#2a3f5f"
            },
            "baxis": {
             "endlinecolor": "#2a3f5f",
             "gridcolor": "white",
             "linecolor": "white",
             "minorgridcolor": "white",
             "startlinecolor": "#2a3f5f"
            },
            "type": "carpet"
           }
          ],
          "choropleth": [
           {
            "colorbar": {
             "outlinewidth": 0,
             "ticks": ""
            },
            "type": "choropleth"
           }
          ],
          "contour": [
           {
            "colorbar": {
             "outlinewidth": 0,
             "ticks": ""
            },
            "colorscale": [
             [
              0,
              "#0d0887"
             ],
             [
              0.1111111111111111,
              "#46039f"
             ],
             [
              0.2222222222222222,
              "#7201a8"
             ],
             [
              0.3333333333333333,
              "#9c179e"
             ],
             [
              0.4444444444444444,
              "#bd3786"
             ],
             [
              0.5555555555555556,
              "#d8576b"
             ],
             [
              0.6666666666666666,
              "#ed7953"
             ],
             [
              0.7777777777777778,
              "#fb9f3a"
             ],
             [
              0.8888888888888888,
              "#fdca26"
             ],
             [
              1,
              "#f0f921"
             ]
            ],
            "type": "contour"
           }
          ],
          "contourcarpet": [
           {
            "colorbar": {
             "outlinewidth": 0,
             "ticks": ""
            },
            "type": "contourcarpet"
           }
          ],
          "heatmap": [
           {
            "colorbar": {
             "outlinewidth": 0,
             "ticks": ""
            },
            "colorscale": [
             [
              0,
              "#0d0887"
             ],
             [
              0.1111111111111111,
              "#46039f"
             ],
             [
              0.2222222222222222,
              "#7201a8"
             ],
             [
              0.3333333333333333,
              "#9c179e"
             ],
             [
              0.4444444444444444,
              "#bd3786"
             ],
             [
              0.5555555555555556,
              "#d8576b"
             ],
             [
              0.6666666666666666,
              "#ed7953"
             ],
             [
              0.7777777777777778,
              "#fb9f3a"
             ],
             [
              0.8888888888888888,
              "#fdca26"
             ],
             [
              1,
              "#f0f921"
             ]
            ],
            "type": "heatmap"
           }
          ],
          "heatmapgl": [
           {
            "colorbar": {
             "outlinewidth": 0,
             "ticks": ""
            },
            "colorscale": [
             [
              0,
              "#0d0887"
             ],
             [
              0.1111111111111111,
              "#46039f"
             ],
             [
              0.2222222222222222,
              "#7201a8"
             ],
             [
              0.3333333333333333,
              "#9c179e"
             ],
             [
              0.4444444444444444,
              "#bd3786"
             ],
             [
              0.5555555555555556,
              "#d8576b"
             ],
             [
              0.6666666666666666,
              "#ed7953"
             ],
             [
              0.7777777777777778,
              "#fb9f3a"
             ],
             [
              0.8888888888888888,
              "#fdca26"
             ],
             [
              1,
              "#f0f921"
             ]
            ],
            "type": "heatmapgl"
           }
          ],
          "histogram": [
           {
            "marker": {
             "colorbar": {
              "outlinewidth": 0,
              "ticks": ""
             }
            },
            "type": "histogram"
           }
          ],
          "histogram2d": [
           {
            "colorbar": {
             "outlinewidth": 0,
             "ticks": ""
            },
            "colorscale": [
             [
              0,
              "#0d0887"
             ],
             [
              0.1111111111111111,
              "#46039f"
             ],
             [
              0.2222222222222222,
              "#7201a8"
             ],
             [
              0.3333333333333333,
              "#9c179e"
             ],
             [
              0.4444444444444444,
              "#bd3786"
             ],
             [
              0.5555555555555556,
              "#d8576b"
             ],
             [
              0.6666666666666666,
              "#ed7953"
             ],
             [
              0.7777777777777778,
              "#fb9f3a"
             ],
             [
              0.8888888888888888,
              "#fdca26"
             ],
             [
              1,
              "#f0f921"
             ]
            ],
            "type": "histogram2d"
           }
          ],
          "histogram2dcontour": [
           {
            "colorbar": {
             "outlinewidth": 0,
             "ticks": ""
            },
            "colorscale": [
             [
              0,
              "#0d0887"
             ],
             [
              0.1111111111111111,
              "#46039f"
             ],
             [
              0.2222222222222222,
              "#7201a8"
             ],
             [
              0.3333333333333333,
              "#9c179e"
             ],
             [
              0.4444444444444444,
              "#bd3786"
             ],
             [
              0.5555555555555556,
              "#d8576b"
             ],
             [
              0.6666666666666666,
              "#ed7953"
             ],
             [
              0.7777777777777778,
              "#fb9f3a"
             ],
             [
              0.8888888888888888,
              "#fdca26"
             ],
             [
              1,
              "#f0f921"
             ]
            ],
            "type": "histogram2dcontour"
           }
          ],
          "mesh3d": [
           {
            "colorbar": {
             "outlinewidth": 0,
             "ticks": ""
            },
            "type": "mesh3d"
           }
          ],
          "parcoords": [
           {
            "line": {
             "colorbar": {
              "outlinewidth": 0,
              "ticks": ""
             }
            },
            "type": "parcoords"
           }
          ],
          "pie": [
           {
            "automargin": true,
            "type": "pie"
           }
          ],
          "scatter": [
           {
            "marker": {
             "colorbar": {
              "outlinewidth": 0,
              "ticks": ""
             }
            },
            "type": "scatter"
           }
          ],
          "scatter3d": [
           {
            "line": {
             "colorbar": {
              "outlinewidth": 0,
              "ticks": ""
             }
            },
            "marker": {
             "colorbar": {
              "outlinewidth": 0,
              "ticks": ""
             }
            },
            "type": "scatter3d"
           }
          ],
          "scattercarpet": [
           {
            "marker": {
             "colorbar": {
              "outlinewidth": 0,
              "ticks": ""
             }
            },
            "type": "scattercarpet"
           }
          ],
          "scattergeo": [
           {
            "marker": {
             "colorbar": {
              "outlinewidth": 0,
              "ticks": ""
             }
            },
            "type": "scattergeo"
           }
          ],
          "scattergl": [
           {
            "marker": {
             "colorbar": {
              "outlinewidth": 0,
              "ticks": ""
             }
            },
            "type": "scattergl"
           }
          ],
          "scattermapbox": [
           {
            "marker": {
             "colorbar": {
              "outlinewidth": 0,
              "ticks": ""
             }
            },
            "type": "scattermapbox"
           }
          ],
          "scatterpolar": [
           {
            "marker": {
             "colorbar": {
              "outlinewidth": 0,
              "ticks": ""
             }
            },
            "type": "scatterpolar"
           }
          ],
          "scatterpolargl": [
           {
            "marker": {
             "colorbar": {
              "outlinewidth": 0,
              "ticks": ""
             }
            },
            "type": "scatterpolargl"
           }
          ],
          "scatterternary": [
           {
            "marker": {
             "colorbar": {
              "outlinewidth": 0,
              "ticks": ""
             }
            },
            "type": "scatterternary"
           }
          ],
          "surface": [
           {
            "colorbar": {
             "outlinewidth": 0,
             "ticks": ""
            },
            "colorscale": [
             [
              0,
              "#0d0887"
             ],
             [
              0.1111111111111111,
              "#46039f"
             ],
             [
              0.2222222222222222,
              "#7201a8"
             ],
             [
              0.3333333333333333,
              "#9c179e"
             ],
             [
              0.4444444444444444,
              "#bd3786"
             ],
             [
              0.5555555555555556,
              "#d8576b"
             ],
             [
              0.6666666666666666,
              "#ed7953"
             ],
             [
              0.7777777777777778,
              "#fb9f3a"
             ],
             [
              0.8888888888888888,
              "#fdca26"
             ],
             [
              1,
              "#f0f921"
             ]
            ],
            "type": "surface"
           }
          ],
          "table": [
           {
            "cells": {
             "fill": {
              "color": "#EBF0F8"
             },
             "line": {
              "color": "white"
             }
            },
            "header": {
             "fill": {
              "color": "#C8D4E3"
             },
             "line": {
              "color": "white"
             }
            },
            "type": "table"
           }
          ]
         },
         "layout": {
          "annotationdefaults": {
           "arrowcolor": "#2a3f5f",
           "arrowhead": 0,
           "arrowwidth": 1
          },
          "coloraxis": {
           "colorbar": {
            "outlinewidth": 0,
            "ticks": ""
           }
          },
          "colorscale": {
           "diverging": [
            [
             0,
             "#8e0152"
            ],
            [
             0.1,
             "#c51b7d"
            ],
            [
             0.2,
             "#de77ae"
            ],
            [
             0.3,
             "#f1b6da"
            ],
            [
             0.4,
             "#fde0ef"
            ],
            [
             0.5,
             "#f7f7f7"
            ],
            [
             0.6,
             "#e6f5d0"
            ],
            [
             0.7,
             "#b8e186"
            ],
            [
             0.8,
             "#7fbc41"
            ],
            [
             0.9,
             "#4d9221"
            ],
            [
             1,
             "#276419"
            ]
           ],
           "sequential": [
            [
             0,
             "#0d0887"
            ],
            [
             0.1111111111111111,
             "#46039f"
            ],
            [
             0.2222222222222222,
             "#7201a8"
            ],
            [
             0.3333333333333333,
             "#9c179e"
            ],
            [
             0.4444444444444444,
             "#bd3786"
            ],
            [
             0.5555555555555556,
             "#d8576b"
            ],
            [
             0.6666666666666666,
             "#ed7953"
            ],
            [
             0.7777777777777778,
             "#fb9f3a"
            ],
            [
             0.8888888888888888,
             "#fdca26"
            ],
            [
             1,
             "#f0f921"
            ]
           ],
           "sequentialminus": [
            [
             0,
             "#0d0887"
            ],
            [
             0.1111111111111111,
             "#46039f"
            ],
            [
             0.2222222222222222,
             "#7201a8"
            ],
            [
             0.3333333333333333,
             "#9c179e"
            ],
            [
             0.4444444444444444,
             "#bd3786"
            ],
            [
             0.5555555555555556,
             "#d8576b"
            ],
            [
             0.6666666666666666,
             "#ed7953"
            ],
            [
             0.7777777777777778,
             "#fb9f3a"
            ],
            [
             0.8888888888888888,
             "#fdca26"
            ],
            [
             1,
             "#f0f921"
            ]
           ]
          },
          "colorway": [
           "#636efa",
           "#EF553B",
           "#00cc96",
           "#ab63fa",
           "#FFA15A",
           "#19d3f3",
           "#FF6692",
           "#B6E880",
           "#FF97FF",
           "#FECB52"
          ],
          "font": {
           "color": "#2a3f5f"
          },
          "geo": {
           "bgcolor": "white",
           "lakecolor": "white",
           "landcolor": "#E5ECF6",
           "showlakes": true,
           "showland": true,
           "subunitcolor": "white"
          },
          "hoverlabel": {
           "align": "left"
          },
          "hovermode": "closest",
          "mapbox": {
           "style": "light"
          },
          "paper_bgcolor": "white",
          "plot_bgcolor": "#E5ECF6",
          "polar": {
           "angularaxis": {
            "gridcolor": "white",
            "linecolor": "white",
            "ticks": ""
           },
           "bgcolor": "#E5ECF6",
           "radialaxis": {
            "gridcolor": "white",
            "linecolor": "white",
            "ticks": ""
           }
          },
          "scene": {
           "xaxis": {
            "backgroundcolor": "#E5ECF6",
            "gridcolor": "white",
            "gridwidth": 2,
            "linecolor": "white",
            "showbackground": true,
            "ticks": "",
            "zerolinecolor": "white"
           },
           "yaxis": {
            "backgroundcolor": "#E5ECF6",
            "gridcolor": "white",
            "gridwidth": 2,
            "linecolor": "white",
            "showbackground": true,
            "ticks": "",
            "zerolinecolor": "white"
           },
           "zaxis": {
            "backgroundcolor": "#E5ECF6",
            "gridcolor": "white",
            "gridwidth": 2,
            "linecolor": "white",
            "showbackground": true,
            "ticks": "",
            "zerolinecolor": "white"
           }
          },
          "shapedefaults": {
           "line": {
            "color": "#2a3f5f"
           }
          },
          "ternary": {
           "aaxis": {
            "gridcolor": "white",
            "linecolor": "white",
            "ticks": ""
           },
           "baxis": {
            "gridcolor": "white",
            "linecolor": "white",
            "ticks": ""
           },
           "bgcolor": "#E5ECF6",
           "caxis": {
            "gridcolor": "white",
            "linecolor": "white",
            "ticks": ""
           }
          },
          "title": {
           "x": 0.05
          },
          "xaxis": {
           "automargin": true,
           "gridcolor": "white",
           "linecolor": "white",
           "ticks": "",
           "title": {
            "standoff": 15
           },
           "zerolinecolor": "white",
           "zerolinewidth": 2
          },
          "yaxis": {
           "automargin": true,
           "gridcolor": "white",
           "linecolor": "white",
           "ticks": "",
           "title": {
            "standoff": 15
           },
           "zerolinecolor": "white",
           "zerolinewidth": 2
          }
         }
        }
       }
      },
      "text/html": [
       "<div>                            <div id=\"994df492-01d4-43ec-b02f-ceb57aa040ce\" class=\"plotly-graph-div\" style=\"height:525px; width:100%;\"></div>            <script type=\"text/javascript\">                require([\"plotly\"], function(Plotly) {                    window.PLOTLYENV=window.PLOTLYENV || {};                                    if (document.getElementById(\"994df492-01d4-43ec-b02f-ceb57aa040ce\")) {                    Plotly.newPlot(                        \"994df492-01d4-43ec-b02f-ceb57aa040ce\",                        [{\"domain\": {\"x\": [0.0, 0.2888888888888889], \"y\": [0.575, 1.0]}, \"labels\": [\"negative\", \"neutral\", \"positive\"], \"name\": \"Delta\", \"type\": \"pie\", \"values\": [955, 723, 544]}, {\"domain\": {\"x\": [0.35555555555555557, 0.6444444444444445], \"y\": [0.575, 1.0]}, \"labels\": [\"negative\", \"neutral\", \"positive\"], \"name\": \"United\", \"type\": \"pie\", \"values\": [2633, 697, 492]}, {\"domain\": {\"x\": [0.7111111111111111, 1.0], \"y\": [0.575, 1.0]}, \"labels\": [\"negative\", \"neutral\", \"positive\"], \"name\": \"Southwest\", \"type\": \"pie\", \"values\": [1186, 664, 570]}, {\"domain\": {\"x\": [0.0, 0.2888888888888889], \"y\": [0.0, 0.425]}, \"labels\": [\"negative\", \"neutral\", \"positive\"], \"name\": \"Virgin America\", \"type\": \"pie\", \"values\": [181, 171, 152]}, {\"domain\": {\"x\": [0.35555555555555557, 0.6444444444444445], \"y\": [0.0, 0.425]}, \"labels\": [\"negative\", \"neutral\", \"positive\"], \"name\": \"US Airways\", \"type\": \"pie\", \"values\": [2263, 381, 269]}, {\"domain\": {\"x\": [0.7111111111111111, 1.0], \"y\": [0.0, 0.425]}, \"labels\": [\"negative\", \"neutral\", \"positive\"], \"name\": \"American\", \"type\": \"pie\", \"values\": [1960, 463, 336]}],                        {\"template\": {\"data\": {\"bar\": [{\"error_x\": {\"color\": \"#2a3f5f\"}, \"error_y\": {\"color\": \"#2a3f5f\"}, \"marker\": {\"line\": {\"color\": \"#E5ECF6\", \"width\": 0.5}}, \"type\": \"bar\"}], \"barpolar\": [{\"marker\": {\"line\": {\"color\": \"#E5ECF6\", \"width\": 0.5}}, \"type\": \"barpolar\"}], \"carpet\": [{\"aaxis\": {\"endlinecolor\": \"#2a3f5f\", \"gridcolor\": \"white\", \"linecolor\": \"white\", \"minorgridcolor\": \"white\", \"startlinecolor\": \"#2a3f5f\"}, \"baxis\": {\"endlinecolor\": \"#2a3f5f\", \"gridcolor\": \"white\", \"linecolor\": \"white\", \"minorgridcolor\": \"white\", \"startlinecolor\": \"#2a3f5f\"}, \"type\": \"carpet\"}], \"choropleth\": [{\"colorbar\": {\"outlinewidth\": 0, \"ticks\": \"\"}, \"type\": \"choropleth\"}], \"contour\": [{\"colorbar\": {\"outlinewidth\": 0, \"ticks\": \"\"}, \"colorscale\": [[0.0, \"#0d0887\"], [0.1111111111111111, \"#46039f\"], [0.2222222222222222, \"#7201a8\"], [0.3333333333333333, \"#9c179e\"], [0.4444444444444444, \"#bd3786\"], [0.5555555555555556, \"#d8576b\"], [0.6666666666666666, \"#ed7953\"], [0.7777777777777778, \"#fb9f3a\"], [0.8888888888888888, \"#fdca26\"], [1.0, \"#f0f921\"]], \"type\": \"contour\"}], \"contourcarpet\": [{\"colorbar\": {\"outlinewidth\": 0, \"ticks\": \"\"}, \"type\": \"contourcarpet\"}], \"heatmap\": [{\"colorbar\": {\"outlinewidth\": 0, \"ticks\": \"\"}, \"colorscale\": [[0.0, \"#0d0887\"], [0.1111111111111111, \"#46039f\"], [0.2222222222222222, \"#7201a8\"], [0.3333333333333333, \"#9c179e\"], [0.4444444444444444, \"#bd3786\"], [0.5555555555555556, \"#d8576b\"], [0.6666666666666666, \"#ed7953\"], [0.7777777777777778, \"#fb9f3a\"], [0.8888888888888888, \"#fdca26\"], [1.0, \"#f0f921\"]], \"type\": \"heatmap\"}], \"heatmapgl\": [{\"colorbar\": {\"outlinewidth\": 0, \"ticks\": \"\"}, \"colorscale\": [[0.0, \"#0d0887\"], [0.1111111111111111, \"#46039f\"], [0.2222222222222222, \"#7201a8\"], [0.3333333333333333, \"#9c179e\"], [0.4444444444444444, \"#bd3786\"], [0.5555555555555556, \"#d8576b\"], [0.6666666666666666, \"#ed7953\"], [0.7777777777777778, \"#fb9f3a\"], [0.8888888888888888, \"#fdca26\"], [1.0, \"#f0f921\"]], \"type\": \"heatmapgl\"}], \"histogram\": [{\"marker\": {\"colorbar\": {\"outlinewidth\": 0, \"ticks\": \"\"}}, \"type\": \"histogram\"}], \"histogram2d\": [{\"colorbar\": {\"outlinewidth\": 0, \"ticks\": \"\"}, \"colorscale\": [[0.0, \"#0d0887\"], [0.1111111111111111, \"#46039f\"], [0.2222222222222222, \"#7201a8\"], [0.3333333333333333, \"#9c179e\"], [0.4444444444444444, \"#bd3786\"], [0.5555555555555556, \"#d8576b\"], [0.6666666666666666, \"#ed7953\"], [0.7777777777777778, \"#fb9f3a\"], [0.8888888888888888, \"#fdca26\"], [1.0, \"#f0f921\"]], \"type\": \"histogram2d\"}], \"histogram2dcontour\": [{\"colorbar\": {\"outlinewidth\": 0, \"ticks\": \"\"}, \"colorscale\": [[0.0, \"#0d0887\"], [0.1111111111111111, \"#46039f\"], [0.2222222222222222, \"#7201a8\"], [0.3333333333333333, \"#9c179e\"], [0.4444444444444444, \"#bd3786\"], [0.5555555555555556, \"#d8576b\"], [0.6666666666666666, \"#ed7953\"], [0.7777777777777778, \"#fb9f3a\"], [0.8888888888888888, \"#fdca26\"], [1.0, \"#f0f921\"]], \"type\": \"histogram2dcontour\"}], \"mesh3d\": [{\"colorbar\": {\"outlinewidth\": 0, \"ticks\": \"\"}, \"type\": \"mesh3d\"}], \"parcoords\": [{\"line\": {\"colorbar\": {\"outlinewidth\": 0, \"ticks\": \"\"}}, \"type\": \"parcoords\"}], \"pie\": [{\"automargin\": true, \"type\": \"pie\"}], \"scatter\": [{\"marker\": {\"colorbar\": {\"outlinewidth\": 0, \"ticks\": \"\"}}, \"type\": \"scatter\"}], \"scatter3d\": [{\"line\": {\"colorbar\": {\"outlinewidth\": 0, \"ticks\": \"\"}}, \"marker\": {\"colorbar\": {\"outlinewidth\": 0, \"ticks\": \"\"}}, \"type\": \"scatter3d\"}], \"scattercarpet\": [{\"marker\": {\"colorbar\": {\"outlinewidth\": 0, \"ticks\": \"\"}}, \"type\": \"scattercarpet\"}], \"scattergeo\": [{\"marker\": {\"colorbar\": {\"outlinewidth\": 0, \"ticks\": \"\"}}, \"type\": \"scattergeo\"}], \"scattergl\": [{\"marker\": {\"colorbar\": {\"outlinewidth\": 0, \"ticks\": \"\"}}, \"type\": \"scattergl\"}], \"scattermapbox\": [{\"marker\": {\"colorbar\": {\"outlinewidth\": 0, \"ticks\": \"\"}}, \"type\": \"scattermapbox\"}], \"scatterpolar\": [{\"marker\": {\"colorbar\": {\"outlinewidth\": 0, \"ticks\": \"\"}}, \"type\": \"scatterpolar\"}], \"scatterpolargl\": [{\"marker\": {\"colorbar\": {\"outlinewidth\": 0, \"ticks\": \"\"}}, \"type\": \"scatterpolargl\"}], \"scatterternary\": [{\"marker\": {\"colorbar\": {\"outlinewidth\": 0, \"ticks\": \"\"}}, \"type\": \"scatterternary\"}], \"surface\": [{\"colorbar\": {\"outlinewidth\": 0, \"ticks\": \"\"}, \"colorscale\": [[0.0, \"#0d0887\"], [0.1111111111111111, \"#46039f\"], [0.2222222222222222, \"#7201a8\"], [0.3333333333333333, \"#9c179e\"], [0.4444444444444444, \"#bd3786\"], [0.5555555555555556, \"#d8576b\"], [0.6666666666666666, \"#ed7953\"], [0.7777777777777778, \"#fb9f3a\"], [0.8888888888888888, \"#fdca26\"], [1.0, \"#f0f921\"]], \"type\": \"surface\"}], \"table\": [{\"cells\": {\"fill\": {\"color\": \"#EBF0F8\"}, \"line\": {\"color\": \"white\"}}, \"header\": {\"fill\": {\"color\": \"#C8D4E3\"}, \"line\": {\"color\": \"white\"}}, \"type\": \"table\"}]}, \"layout\": {\"annotationdefaults\": {\"arrowcolor\": \"#2a3f5f\", \"arrowhead\": 0, \"arrowwidth\": 1}, \"coloraxis\": {\"colorbar\": {\"outlinewidth\": 0, \"ticks\": \"\"}}, \"colorscale\": {\"diverging\": [[0, \"#8e0152\"], [0.1, \"#c51b7d\"], [0.2, \"#de77ae\"], [0.3, \"#f1b6da\"], [0.4, \"#fde0ef\"], [0.5, \"#f7f7f7\"], [0.6, \"#e6f5d0\"], [0.7, \"#b8e186\"], [0.8, \"#7fbc41\"], [0.9, \"#4d9221\"], [1, \"#276419\"]], \"sequential\": [[0.0, \"#0d0887\"], [0.1111111111111111, \"#46039f\"], [0.2222222222222222, \"#7201a8\"], [0.3333333333333333, \"#9c179e\"], [0.4444444444444444, \"#bd3786\"], [0.5555555555555556, \"#d8576b\"], [0.6666666666666666, \"#ed7953\"], [0.7777777777777778, \"#fb9f3a\"], [0.8888888888888888, \"#fdca26\"], [1.0, \"#f0f921\"]], \"sequentialminus\": [[0.0, \"#0d0887\"], [0.1111111111111111, \"#46039f\"], [0.2222222222222222, \"#7201a8\"], [0.3333333333333333, \"#9c179e\"], [0.4444444444444444, \"#bd3786\"], [0.5555555555555556, \"#d8576b\"], [0.6666666666666666, \"#ed7953\"], [0.7777777777777778, \"#fb9f3a\"], [0.8888888888888888, \"#fdca26\"], [1.0, \"#f0f921\"]]}, \"colorway\": [\"#636efa\", \"#EF553B\", \"#00cc96\", \"#ab63fa\", \"#FFA15A\", \"#19d3f3\", \"#FF6692\", \"#B6E880\", \"#FF97FF\", \"#FECB52\"], \"font\": {\"color\": \"#2a3f5f\"}, \"geo\": {\"bgcolor\": \"white\", \"lakecolor\": \"white\", \"landcolor\": \"#E5ECF6\", \"showlakes\": true, \"showland\": true, \"subunitcolor\": \"white\"}, \"hoverlabel\": {\"align\": \"left\"}, \"hovermode\": \"closest\", \"mapbox\": {\"style\": \"light\"}, \"paper_bgcolor\": \"white\", \"plot_bgcolor\": \"#E5ECF6\", \"polar\": {\"angularaxis\": {\"gridcolor\": \"white\", \"linecolor\": \"white\", \"ticks\": \"\"}, \"bgcolor\": \"#E5ECF6\", \"radialaxis\": {\"gridcolor\": \"white\", \"linecolor\": \"white\", \"ticks\": \"\"}}, \"scene\": {\"xaxis\": {\"backgroundcolor\": \"#E5ECF6\", \"gridcolor\": \"white\", \"gridwidth\": 2, \"linecolor\": \"white\", \"showbackground\": true, \"ticks\": \"\", \"zerolinecolor\": \"white\"}, \"yaxis\": {\"backgroundcolor\": \"#E5ECF6\", \"gridcolor\": \"white\", \"gridwidth\": 2, \"linecolor\": \"white\", \"showbackground\": true, \"ticks\": \"\", \"zerolinecolor\": \"white\"}, \"zaxis\": {\"backgroundcolor\": \"#E5ECF6\", \"gridcolor\": \"white\", \"gridwidth\": 2, \"linecolor\": \"white\", \"showbackground\": true, \"ticks\": \"\", \"zerolinecolor\": \"white\"}}, \"shapedefaults\": {\"line\": {\"color\": \"#2a3f5f\"}}, \"ternary\": {\"aaxis\": {\"gridcolor\": \"white\", \"linecolor\": \"white\", \"ticks\": \"\"}, \"baxis\": {\"gridcolor\": \"white\", \"linecolor\": \"white\", \"ticks\": \"\"}, \"bgcolor\": \"#E5ECF6\", \"caxis\": {\"gridcolor\": \"white\", \"linecolor\": \"white\", \"ticks\": \"\"}}, \"title\": {\"x\": 0.05}, \"xaxis\": {\"automargin\": true, \"gridcolor\": \"white\", \"linecolor\": \"white\", \"ticks\": \"\", \"title\": {\"standoff\": 15}, \"zerolinecolor\": \"white\", \"zerolinewidth\": 2}, \"yaxis\": {\"automargin\": true, \"gridcolor\": \"white\", \"linecolor\": \"white\", \"ticks\": \"\", \"title\": {\"standoff\": 15}, \"zerolinecolor\": \"white\", \"zerolinewidth\": 2}}}},                        {\"responsive\": true}                    ).then(function(){\n",
       "                            \n",
       "var gd = document.getElementById('994df492-01d4-43ec-b02f-ceb57aa040ce');\n",
       "var x = new MutationObserver(function (mutations, observer) {{\n",
       "        var display = window.getComputedStyle(gd).display;\n",
       "        if (!display || display === 'none') {{\n",
       "            console.log([gd, 'removed!']);\n",
       "            Plotly.purge(gd);\n",
       "            observer.disconnect();\n",
       "        }}\n",
       "}});\n",
       "\n",
       "// Listen for the removal of the full notebook cells\n",
       "var notebookContainer = gd.closest('#notebook-container');\n",
       "if (notebookContainer) {{\n",
       "    x.observe(notebookContainer, {childList: true});\n",
       "}}\n",
       "\n",
       "// Listen for the clearing of the current output cell\n",
       "var outputEl = gd.closest('.output');\n",
       "if (outputEl) {{\n",
       "    x.observe(outputEl, {childList: true});\n",
       "}}\n",
       "\n",
       "                        })                };                });            </script>        </div>"
      ]
     },
     "metadata": {},
     "output_type": "display_data"
    }
   ],
   "source": [
    "fig = go.Figure(fig)\n",
    "fig.show()"
   ]
  },
  {
   "cell_type": "markdown",
   "metadata": {},
   "source": [
    "### Bar chart comparing the average confidence sentiments for all airlines"
   ]
  },
  {
   "cell_type": "code",
   "execution_count": 26,
   "metadata": {},
   "outputs": [],
   "source": [
    "d_avg = delta_rows['airline_sentiment:confidence'].mean()\n",
    "un_avg = un_rows['airline_sentiment:confidence'].mean()\n",
    "sw_avg = sw_rows['airline_sentiment:confidence'].mean()\n",
    "va_avg = va_rows['airline_sentiment:confidence'].mean()\n",
    "us_avg = us_rows['airline_sentiment:confidence'].mean()\n",
    "am_avg = am_rows['airline_sentiment:confidence'].mean()\n",
    "\n",
    "avg_list = [d_avg, un_avg, sw_avg, va_avg, us_avg, am_avg]\n",
    "name_list = ['Delta', 'United', 'Southwest', 'Virgin America', 'US Airways', 'American']"
   ]
  },
  {
   "cell_type": "code",
   "execution_count": 27,
   "metadata": {},
   "outputs": [],
   "source": [
    "bar = go.Bar(x=name_list, y=avg_list)\n",
    "data = [bar]"
   ]
  },
  {
   "cell_type": "code",
   "execution_count": 28,
   "metadata": {},
   "outputs": [],
   "source": [
    "layout = go.Layout(title_text='Avg. Confidence Level based on Airline',\n",
    "                   title_x=0.5,\n",
    "                  xaxis=dict(title='Airline'),\n",
    "                  yaxis=dict(title='Avg. Confidence Level'))"
   ]
  },
  {
   "cell_type": "code",
   "execution_count": 29,
   "metadata": {},
   "outputs": [
    {
     "data": {
      "application/vnd.plotly.v1+json": {
       "config": {
        "linkText": "Export to plot.ly",
        "plotlyServerURL": "https://plot.ly",
        "showLink": false
       },
       "data": [
        {
         "type": "bar",
         "x": [
          "Delta",
          "United",
          "Southwest",
          "Virgin America",
          "US Airways",
          "American"
         ],
         "y": [
          0.8698782628262834,
          0.9008776818419683,
          0.8865159504132236,
          0.8760861111111107,
          0.9215784414692754,
          0.9173519391083729
         ]
        }
       ],
       "layout": {
        "template": {
         "data": {
          "bar": [
           {
            "error_x": {
             "color": "#2a3f5f"
            },
            "error_y": {
             "color": "#2a3f5f"
            },
            "marker": {
             "line": {
              "color": "#E5ECF6",
              "width": 0.5
             }
            },
            "type": "bar"
           }
          ],
          "barpolar": [
           {
            "marker": {
             "line": {
              "color": "#E5ECF6",
              "width": 0.5
             }
            },
            "type": "barpolar"
           }
          ],
          "carpet": [
           {
            "aaxis": {
             "endlinecolor": "#2a3f5f",
             "gridcolor": "white",
             "linecolor": "white",
             "minorgridcolor": "white",
             "startlinecolor": "#2a3f5f"
            },
            "baxis": {
             "endlinecolor": "#2a3f5f",
             "gridcolor": "white",
             "linecolor": "white",
             "minorgridcolor": "white",
             "startlinecolor": "#2a3f5f"
            },
            "type": "carpet"
           }
          ],
          "choropleth": [
           {
            "colorbar": {
             "outlinewidth": 0,
             "ticks": ""
            },
            "type": "choropleth"
           }
          ],
          "contour": [
           {
            "colorbar": {
             "outlinewidth": 0,
             "ticks": ""
            },
            "colorscale": [
             [
              0,
              "#0d0887"
             ],
             [
              0.1111111111111111,
              "#46039f"
             ],
             [
              0.2222222222222222,
              "#7201a8"
             ],
             [
              0.3333333333333333,
              "#9c179e"
             ],
             [
              0.4444444444444444,
              "#bd3786"
             ],
             [
              0.5555555555555556,
              "#d8576b"
             ],
             [
              0.6666666666666666,
              "#ed7953"
             ],
             [
              0.7777777777777778,
              "#fb9f3a"
             ],
             [
              0.8888888888888888,
              "#fdca26"
             ],
             [
              1,
              "#f0f921"
             ]
            ],
            "type": "contour"
           }
          ],
          "contourcarpet": [
           {
            "colorbar": {
             "outlinewidth": 0,
             "ticks": ""
            },
            "type": "contourcarpet"
           }
          ],
          "heatmap": [
           {
            "colorbar": {
             "outlinewidth": 0,
             "ticks": ""
            },
            "colorscale": [
             [
              0,
              "#0d0887"
             ],
             [
              0.1111111111111111,
              "#46039f"
             ],
             [
              0.2222222222222222,
              "#7201a8"
             ],
             [
              0.3333333333333333,
              "#9c179e"
             ],
             [
              0.4444444444444444,
              "#bd3786"
             ],
             [
              0.5555555555555556,
              "#d8576b"
             ],
             [
              0.6666666666666666,
              "#ed7953"
             ],
             [
              0.7777777777777778,
              "#fb9f3a"
             ],
             [
              0.8888888888888888,
              "#fdca26"
             ],
             [
              1,
              "#f0f921"
             ]
            ],
            "type": "heatmap"
           }
          ],
          "heatmapgl": [
           {
            "colorbar": {
             "outlinewidth": 0,
             "ticks": ""
            },
            "colorscale": [
             [
              0,
              "#0d0887"
             ],
             [
              0.1111111111111111,
              "#46039f"
             ],
             [
              0.2222222222222222,
              "#7201a8"
             ],
             [
              0.3333333333333333,
              "#9c179e"
             ],
             [
              0.4444444444444444,
              "#bd3786"
             ],
             [
              0.5555555555555556,
              "#d8576b"
             ],
             [
              0.6666666666666666,
              "#ed7953"
             ],
             [
              0.7777777777777778,
              "#fb9f3a"
             ],
             [
              0.8888888888888888,
              "#fdca26"
             ],
             [
              1,
              "#f0f921"
             ]
            ],
            "type": "heatmapgl"
           }
          ],
          "histogram": [
           {
            "marker": {
             "colorbar": {
              "outlinewidth": 0,
              "ticks": ""
             }
            },
            "type": "histogram"
           }
          ],
          "histogram2d": [
           {
            "colorbar": {
             "outlinewidth": 0,
             "ticks": ""
            },
            "colorscale": [
             [
              0,
              "#0d0887"
             ],
             [
              0.1111111111111111,
              "#46039f"
             ],
             [
              0.2222222222222222,
              "#7201a8"
             ],
             [
              0.3333333333333333,
              "#9c179e"
             ],
             [
              0.4444444444444444,
              "#bd3786"
             ],
             [
              0.5555555555555556,
              "#d8576b"
             ],
             [
              0.6666666666666666,
              "#ed7953"
             ],
             [
              0.7777777777777778,
              "#fb9f3a"
             ],
             [
              0.8888888888888888,
              "#fdca26"
             ],
             [
              1,
              "#f0f921"
             ]
            ],
            "type": "histogram2d"
           }
          ],
          "histogram2dcontour": [
           {
            "colorbar": {
             "outlinewidth": 0,
             "ticks": ""
            },
            "colorscale": [
             [
              0,
              "#0d0887"
             ],
             [
              0.1111111111111111,
              "#46039f"
             ],
             [
              0.2222222222222222,
              "#7201a8"
             ],
             [
              0.3333333333333333,
              "#9c179e"
             ],
             [
              0.4444444444444444,
              "#bd3786"
             ],
             [
              0.5555555555555556,
              "#d8576b"
             ],
             [
              0.6666666666666666,
              "#ed7953"
             ],
             [
              0.7777777777777778,
              "#fb9f3a"
             ],
             [
              0.8888888888888888,
              "#fdca26"
             ],
             [
              1,
              "#f0f921"
             ]
            ],
            "type": "histogram2dcontour"
           }
          ],
          "mesh3d": [
           {
            "colorbar": {
             "outlinewidth": 0,
             "ticks": ""
            },
            "type": "mesh3d"
           }
          ],
          "parcoords": [
           {
            "line": {
             "colorbar": {
              "outlinewidth": 0,
              "ticks": ""
             }
            },
            "type": "parcoords"
           }
          ],
          "pie": [
           {
            "automargin": true,
            "type": "pie"
           }
          ],
          "scatter": [
           {
            "marker": {
             "colorbar": {
              "outlinewidth": 0,
              "ticks": ""
             }
            },
            "type": "scatter"
           }
          ],
          "scatter3d": [
           {
            "line": {
             "colorbar": {
              "outlinewidth": 0,
              "ticks": ""
             }
            },
            "marker": {
             "colorbar": {
              "outlinewidth": 0,
              "ticks": ""
             }
            },
            "type": "scatter3d"
           }
          ],
          "scattercarpet": [
           {
            "marker": {
             "colorbar": {
              "outlinewidth": 0,
              "ticks": ""
             }
            },
            "type": "scattercarpet"
           }
          ],
          "scattergeo": [
           {
            "marker": {
             "colorbar": {
              "outlinewidth": 0,
              "ticks": ""
             }
            },
            "type": "scattergeo"
           }
          ],
          "scattergl": [
           {
            "marker": {
             "colorbar": {
              "outlinewidth": 0,
              "ticks": ""
             }
            },
            "type": "scattergl"
           }
          ],
          "scattermapbox": [
           {
            "marker": {
             "colorbar": {
              "outlinewidth": 0,
              "ticks": ""
             }
            },
            "type": "scattermapbox"
           }
          ],
          "scatterpolar": [
           {
            "marker": {
             "colorbar": {
              "outlinewidth": 0,
              "ticks": ""
             }
            },
            "type": "scatterpolar"
           }
          ],
          "scatterpolargl": [
           {
            "marker": {
             "colorbar": {
              "outlinewidth": 0,
              "ticks": ""
             }
            },
            "type": "scatterpolargl"
           }
          ],
          "scatterternary": [
           {
            "marker": {
             "colorbar": {
              "outlinewidth": 0,
              "ticks": ""
             }
            },
            "type": "scatterternary"
           }
          ],
          "surface": [
           {
            "colorbar": {
             "outlinewidth": 0,
             "ticks": ""
            },
            "colorscale": [
             [
              0,
              "#0d0887"
             ],
             [
              0.1111111111111111,
              "#46039f"
             ],
             [
              0.2222222222222222,
              "#7201a8"
             ],
             [
              0.3333333333333333,
              "#9c179e"
             ],
             [
              0.4444444444444444,
              "#bd3786"
             ],
             [
              0.5555555555555556,
              "#d8576b"
             ],
             [
              0.6666666666666666,
              "#ed7953"
             ],
             [
              0.7777777777777778,
              "#fb9f3a"
             ],
             [
              0.8888888888888888,
              "#fdca26"
             ],
             [
              1,
              "#f0f921"
             ]
            ],
            "type": "surface"
           }
          ],
          "table": [
           {
            "cells": {
             "fill": {
              "color": "#EBF0F8"
             },
             "line": {
              "color": "white"
             }
            },
            "header": {
             "fill": {
              "color": "#C8D4E3"
             },
             "line": {
              "color": "white"
             }
            },
            "type": "table"
           }
          ]
         },
         "layout": {
          "annotationdefaults": {
           "arrowcolor": "#2a3f5f",
           "arrowhead": 0,
           "arrowwidth": 1
          },
          "coloraxis": {
           "colorbar": {
            "outlinewidth": 0,
            "ticks": ""
           }
          },
          "colorscale": {
           "diverging": [
            [
             0,
             "#8e0152"
            ],
            [
             0.1,
             "#c51b7d"
            ],
            [
             0.2,
             "#de77ae"
            ],
            [
             0.3,
             "#f1b6da"
            ],
            [
             0.4,
             "#fde0ef"
            ],
            [
             0.5,
             "#f7f7f7"
            ],
            [
             0.6,
             "#e6f5d0"
            ],
            [
             0.7,
             "#b8e186"
            ],
            [
             0.8,
             "#7fbc41"
            ],
            [
             0.9,
             "#4d9221"
            ],
            [
             1,
             "#276419"
            ]
           ],
           "sequential": [
            [
             0,
             "#0d0887"
            ],
            [
             0.1111111111111111,
             "#46039f"
            ],
            [
             0.2222222222222222,
             "#7201a8"
            ],
            [
             0.3333333333333333,
             "#9c179e"
            ],
            [
             0.4444444444444444,
             "#bd3786"
            ],
            [
             0.5555555555555556,
             "#d8576b"
            ],
            [
             0.6666666666666666,
             "#ed7953"
            ],
            [
             0.7777777777777778,
             "#fb9f3a"
            ],
            [
             0.8888888888888888,
             "#fdca26"
            ],
            [
             1,
             "#f0f921"
            ]
           ],
           "sequentialminus": [
            [
             0,
             "#0d0887"
            ],
            [
             0.1111111111111111,
             "#46039f"
            ],
            [
             0.2222222222222222,
             "#7201a8"
            ],
            [
             0.3333333333333333,
             "#9c179e"
            ],
            [
             0.4444444444444444,
             "#bd3786"
            ],
            [
             0.5555555555555556,
             "#d8576b"
            ],
            [
             0.6666666666666666,
             "#ed7953"
            ],
            [
             0.7777777777777778,
             "#fb9f3a"
            ],
            [
             0.8888888888888888,
             "#fdca26"
            ],
            [
             1,
             "#f0f921"
            ]
           ]
          },
          "colorway": [
           "#636efa",
           "#EF553B",
           "#00cc96",
           "#ab63fa",
           "#FFA15A",
           "#19d3f3",
           "#FF6692",
           "#B6E880",
           "#FF97FF",
           "#FECB52"
          ],
          "font": {
           "color": "#2a3f5f"
          },
          "geo": {
           "bgcolor": "white",
           "lakecolor": "white",
           "landcolor": "#E5ECF6",
           "showlakes": true,
           "showland": true,
           "subunitcolor": "white"
          },
          "hoverlabel": {
           "align": "left"
          },
          "hovermode": "closest",
          "mapbox": {
           "style": "light"
          },
          "paper_bgcolor": "white",
          "plot_bgcolor": "#E5ECF6",
          "polar": {
           "angularaxis": {
            "gridcolor": "white",
            "linecolor": "white",
            "ticks": ""
           },
           "bgcolor": "#E5ECF6",
           "radialaxis": {
            "gridcolor": "white",
            "linecolor": "white",
            "ticks": ""
           }
          },
          "scene": {
           "xaxis": {
            "backgroundcolor": "#E5ECF6",
            "gridcolor": "white",
            "gridwidth": 2,
            "linecolor": "white",
            "showbackground": true,
            "ticks": "",
            "zerolinecolor": "white"
           },
           "yaxis": {
            "backgroundcolor": "#E5ECF6",
            "gridcolor": "white",
            "gridwidth": 2,
            "linecolor": "white",
            "showbackground": true,
            "ticks": "",
            "zerolinecolor": "white"
           },
           "zaxis": {
            "backgroundcolor": "#E5ECF6",
            "gridcolor": "white",
            "gridwidth": 2,
            "linecolor": "white",
            "showbackground": true,
            "ticks": "",
            "zerolinecolor": "white"
           }
          },
          "shapedefaults": {
           "line": {
            "color": "#2a3f5f"
           }
          },
          "ternary": {
           "aaxis": {
            "gridcolor": "white",
            "linecolor": "white",
            "ticks": ""
           },
           "baxis": {
            "gridcolor": "white",
            "linecolor": "white",
            "ticks": ""
           },
           "bgcolor": "#E5ECF6",
           "caxis": {
            "gridcolor": "white",
            "linecolor": "white",
            "ticks": ""
           }
          },
          "title": {
           "x": 0.05
          },
          "xaxis": {
           "automargin": true,
           "gridcolor": "white",
           "linecolor": "white",
           "ticks": "",
           "title": {
            "standoff": 15
           },
           "zerolinecolor": "white",
           "zerolinewidth": 2
          },
          "yaxis": {
           "automargin": true,
           "gridcolor": "white",
           "linecolor": "white",
           "ticks": "",
           "title": {
            "standoff": 15
           },
           "zerolinecolor": "white",
           "zerolinewidth": 2
          }
         }
        },
        "title": {
         "text": "Avg. Confidence Level based on Airline",
         "x": 0.5
        },
        "xaxis": {
         "title": {
          "text": "Airline"
         }
        },
        "yaxis": {
         "title": {
          "text": "Avg. Confidence Level"
         }
        }
       }
      },
      "text/html": [
       "<div>                            <div id=\"032e21de-15e2-4841-b911-90a8b6bdccb0\" class=\"plotly-graph-div\" style=\"height:525px; width:100%;\"></div>            <script type=\"text/javascript\">                require([\"plotly\"], function(Plotly) {                    window.PLOTLYENV=window.PLOTLYENV || {};                                    if (document.getElementById(\"032e21de-15e2-4841-b911-90a8b6bdccb0\")) {                    Plotly.newPlot(                        \"032e21de-15e2-4841-b911-90a8b6bdccb0\",                        [{\"type\": \"bar\", \"x\": [\"Delta\", \"United\", \"Southwest\", \"Virgin America\", \"US Airways\", \"American\"], \"y\": [0.8698782628262834, 0.9008776818419683, 0.8865159504132236, 0.8760861111111107, 0.9215784414692754, 0.9173519391083729]}],                        {\"template\": {\"data\": {\"bar\": [{\"error_x\": {\"color\": \"#2a3f5f\"}, \"error_y\": {\"color\": \"#2a3f5f\"}, \"marker\": {\"line\": {\"color\": \"#E5ECF6\", \"width\": 0.5}}, \"type\": \"bar\"}], \"barpolar\": [{\"marker\": {\"line\": {\"color\": \"#E5ECF6\", \"width\": 0.5}}, \"type\": \"barpolar\"}], \"carpet\": [{\"aaxis\": {\"endlinecolor\": \"#2a3f5f\", \"gridcolor\": \"white\", \"linecolor\": \"white\", \"minorgridcolor\": \"white\", \"startlinecolor\": \"#2a3f5f\"}, \"baxis\": {\"endlinecolor\": \"#2a3f5f\", \"gridcolor\": \"white\", \"linecolor\": \"white\", \"minorgridcolor\": \"white\", \"startlinecolor\": \"#2a3f5f\"}, \"type\": \"carpet\"}], \"choropleth\": [{\"colorbar\": {\"outlinewidth\": 0, \"ticks\": \"\"}, \"type\": \"choropleth\"}], \"contour\": [{\"colorbar\": {\"outlinewidth\": 0, \"ticks\": \"\"}, \"colorscale\": [[0.0, \"#0d0887\"], [0.1111111111111111, \"#46039f\"], [0.2222222222222222, \"#7201a8\"], [0.3333333333333333, \"#9c179e\"], [0.4444444444444444, \"#bd3786\"], [0.5555555555555556, \"#d8576b\"], [0.6666666666666666, \"#ed7953\"], [0.7777777777777778, \"#fb9f3a\"], [0.8888888888888888, \"#fdca26\"], [1.0, \"#f0f921\"]], \"type\": \"contour\"}], \"contourcarpet\": [{\"colorbar\": {\"outlinewidth\": 0, \"ticks\": \"\"}, \"type\": \"contourcarpet\"}], \"heatmap\": [{\"colorbar\": {\"outlinewidth\": 0, \"ticks\": \"\"}, \"colorscale\": [[0.0, \"#0d0887\"], [0.1111111111111111, \"#46039f\"], [0.2222222222222222, \"#7201a8\"], [0.3333333333333333, \"#9c179e\"], [0.4444444444444444, \"#bd3786\"], [0.5555555555555556, \"#d8576b\"], [0.6666666666666666, \"#ed7953\"], [0.7777777777777778, \"#fb9f3a\"], [0.8888888888888888, \"#fdca26\"], [1.0, \"#f0f921\"]], \"type\": \"heatmap\"}], \"heatmapgl\": [{\"colorbar\": {\"outlinewidth\": 0, \"ticks\": \"\"}, \"colorscale\": [[0.0, \"#0d0887\"], [0.1111111111111111, \"#46039f\"], [0.2222222222222222, \"#7201a8\"], [0.3333333333333333, \"#9c179e\"], [0.4444444444444444, \"#bd3786\"], [0.5555555555555556, \"#d8576b\"], [0.6666666666666666, \"#ed7953\"], [0.7777777777777778, \"#fb9f3a\"], [0.8888888888888888, \"#fdca26\"], [1.0, \"#f0f921\"]], \"type\": \"heatmapgl\"}], \"histogram\": [{\"marker\": {\"colorbar\": {\"outlinewidth\": 0, \"ticks\": \"\"}}, \"type\": \"histogram\"}], \"histogram2d\": [{\"colorbar\": {\"outlinewidth\": 0, \"ticks\": \"\"}, \"colorscale\": [[0.0, \"#0d0887\"], [0.1111111111111111, \"#46039f\"], [0.2222222222222222, \"#7201a8\"], [0.3333333333333333, \"#9c179e\"], [0.4444444444444444, \"#bd3786\"], [0.5555555555555556, \"#d8576b\"], [0.6666666666666666, \"#ed7953\"], [0.7777777777777778, \"#fb9f3a\"], [0.8888888888888888, \"#fdca26\"], [1.0, \"#f0f921\"]], \"type\": \"histogram2d\"}], \"histogram2dcontour\": [{\"colorbar\": {\"outlinewidth\": 0, \"ticks\": \"\"}, \"colorscale\": [[0.0, \"#0d0887\"], [0.1111111111111111, \"#46039f\"], [0.2222222222222222, \"#7201a8\"], [0.3333333333333333, \"#9c179e\"], [0.4444444444444444, \"#bd3786\"], [0.5555555555555556, \"#d8576b\"], [0.6666666666666666, \"#ed7953\"], [0.7777777777777778, \"#fb9f3a\"], [0.8888888888888888, \"#fdca26\"], [1.0, \"#f0f921\"]], \"type\": \"histogram2dcontour\"}], \"mesh3d\": [{\"colorbar\": {\"outlinewidth\": 0, \"ticks\": \"\"}, \"type\": \"mesh3d\"}], \"parcoords\": [{\"line\": {\"colorbar\": {\"outlinewidth\": 0, \"ticks\": \"\"}}, \"type\": \"parcoords\"}], \"pie\": [{\"automargin\": true, \"type\": \"pie\"}], \"scatter\": [{\"marker\": {\"colorbar\": {\"outlinewidth\": 0, \"ticks\": \"\"}}, \"type\": \"scatter\"}], \"scatter3d\": [{\"line\": {\"colorbar\": {\"outlinewidth\": 0, \"ticks\": \"\"}}, \"marker\": {\"colorbar\": {\"outlinewidth\": 0, \"ticks\": \"\"}}, \"type\": \"scatter3d\"}], \"scattercarpet\": [{\"marker\": {\"colorbar\": {\"outlinewidth\": 0, \"ticks\": \"\"}}, \"type\": \"scattercarpet\"}], \"scattergeo\": [{\"marker\": {\"colorbar\": {\"outlinewidth\": 0, \"ticks\": \"\"}}, \"type\": \"scattergeo\"}], \"scattergl\": [{\"marker\": {\"colorbar\": {\"outlinewidth\": 0, \"ticks\": \"\"}}, \"type\": \"scattergl\"}], \"scattermapbox\": [{\"marker\": {\"colorbar\": {\"outlinewidth\": 0, \"ticks\": \"\"}}, \"type\": \"scattermapbox\"}], \"scatterpolar\": [{\"marker\": {\"colorbar\": {\"outlinewidth\": 0, \"ticks\": \"\"}}, \"type\": \"scatterpolar\"}], \"scatterpolargl\": [{\"marker\": {\"colorbar\": {\"outlinewidth\": 0, \"ticks\": \"\"}}, \"type\": \"scatterpolargl\"}], \"scatterternary\": [{\"marker\": {\"colorbar\": {\"outlinewidth\": 0, \"ticks\": \"\"}}, \"type\": \"scatterternary\"}], \"surface\": [{\"colorbar\": {\"outlinewidth\": 0, \"ticks\": \"\"}, \"colorscale\": [[0.0, \"#0d0887\"], [0.1111111111111111, \"#46039f\"], [0.2222222222222222, \"#7201a8\"], [0.3333333333333333, \"#9c179e\"], [0.4444444444444444, \"#bd3786\"], [0.5555555555555556, \"#d8576b\"], [0.6666666666666666, \"#ed7953\"], [0.7777777777777778, \"#fb9f3a\"], [0.8888888888888888, \"#fdca26\"], [1.0, \"#f0f921\"]], \"type\": \"surface\"}], \"table\": [{\"cells\": {\"fill\": {\"color\": \"#EBF0F8\"}, \"line\": {\"color\": \"white\"}}, \"header\": {\"fill\": {\"color\": \"#C8D4E3\"}, \"line\": {\"color\": \"white\"}}, \"type\": \"table\"}]}, \"layout\": {\"annotationdefaults\": {\"arrowcolor\": \"#2a3f5f\", \"arrowhead\": 0, \"arrowwidth\": 1}, \"coloraxis\": {\"colorbar\": {\"outlinewidth\": 0, \"ticks\": \"\"}}, \"colorscale\": {\"diverging\": [[0, \"#8e0152\"], [0.1, \"#c51b7d\"], [0.2, \"#de77ae\"], [0.3, \"#f1b6da\"], [0.4, \"#fde0ef\"], [0.5, \"#f7f7f7\"], [0.6, \"#e6f5d0\"], [0.7, \"#b8e186\"], [0.8, \"#7fbc41\"], [0.9, \"#4d9221\"], [1, \"#276419\"]], \"sequential\": [[0.0, \"#0d0887\"], [0.1111111111111111, \"#46039f\"], [0.2222222222222222, \"#7201a8\"], [0.3333333333333333, \"#9c179e\"], [0.4444444444444444, \"#bd3786\"], [0.5555555555555556, \"#d8576b\"], [0.6666666666666666, \"#ed7953\"], [0.7777777777777778, \"#fb9f3a\"], [0.8888888888888888, \"#fdca26\"], [1.0, \"#f0f921\"]], \"sequentialminus\": [[0.0, \"#0d0887\"], [0.1111111111111111, \"#46039f\"], [0.2222222222222222, \"#7201a8\"], [0.3333333333333333, \"#9c179e\"], [0.4444444444444444, \"#bd3786\"], [0.5555555555555556, \"#d8576b\"], [0.6666666666666666, \"#ed7953\"], [0.7777777777777778, \"#fb9f3a\"], [0.8888888888888888, \"#fdca26\"], [1.0, \"#f0f921\"]]}, \"colorway\": [\"#636efa\", \"#EF553B\", \"#00cc96\", \"#ab63fa\", \"#FFA15A\", \"#19d3f3\", \"#FF6692\", \"#B6E880\", \"#FF97FF\", \"#FECB52\"], \"font\": {\"color\": \"#2a3f5f\"}, \"geo\": {\"bgcolor\": \"white\", \"lakecolor\": \"white\", \"landcolor\": \"#E5ECF6\", \"showlakes\": true, \"showland\": true, \"subunitcolor\": \"white\"}, \"hoverlabel\": {\"align\": \"left\"}, \"hovermode\": \"closest\", \"mapbox\": {\"style\": \"light\"}, \"paper_bgcolor\": \"white\", \"plot_bgcolor\": \"#E5ECF6\", \"polar\": {\"angularaxis\": {\"gridcolor\": \"white\", \"linecolor\": \"white\", \"ticks\": \"\"}, \"bgcolor\": \"#E5ECF6\", \"radialaxis\": {\"gridcolor\": \"white\", \"linecolor\": \"white\", \"ticks\": \"\"}}, \"scene\": {\"xaxis\": {\"backgroundcolor\": \"#E5ECF6\", \"gridcolor\": \"white\", \"gridwidth\": 2, \"linecolor\": \"white\", \"showbackground\": true, \"ticks\": \"\", \"zerolinecolor\": \"white\"}, \"yaxis\": {\"backgroundcolor\": \"#E5ECF6\", \"gridcolor\": \"white\", \"gridwidth\": 2, \"linecolor\": \"white\", \"showbackground\": true, \"ticks\": \"\", \"zerolinecolor\": \"white\"}, \"zaxis\": {\"backgroundcolor\": \"#E5ECF6\", \"gridcolor\": \"white\", \"gridwidth\": 2, \"linecolor\": \"white\", \"showbackground\": true, \"ticks\": \"\", \"zerolinecolor\": \"white\"}}, \"shapedefaults\": {\"line\": {\"color\": \"#2a3f5f\"}}, \"ternary\": {\"aaxis\": {\"gridcolor\": \"white\", \"linecolor\": \"white\", \"ticks\": \"\"}, \"baxis\": {\"gridcolor\": \"white\", \"linecolor\": \"white\", \"ticks\": \"\"}, \"bgcolor\": \"#E5ECF6\", \"caxis\": {\"gridcolor\": \"white\", \"linecolor\": \"white\", \"ticks\": \"\"}}, \"title\": {\"x\": 0.05}, \"xaxis\": {\"automargin\": true, \"gridcolor\": \"white\", \"linecolor\": \"white\", \"ticks\": \"\", \"title\": {\"standoff\": 15}, \"zerolinecolor\": \"white\", \"zerolinewidth\": 2}, \"yaxis\": {\"automargin\": true, \"gridcolor\": \"white\", \"linecolor\": \"white\", \"ticks\": \"\", \"title\": {\"standoff\": 15}, \"zerolinecolor\": \"white\", \"zerolinewidth\": 2}}}, \"title\": {\"text\": \"Avg. Confidence Level based on Airline\", \"x\": 0.5}, \"xaxis\": {\"title\": {\"text\": \"Airline\"}}, \"yaxis\": {\"title\": {\"text\": \"Avg. Confidence Level\"}}},                        {\"responsive\": true}                    ).then(function(){\n",
       "                            \n",
       "var gd = document.getElementById('032e21de-15e2-4841-b911-90a8b6bdccb0');\n",
       "var x = new MutationObserver(function (mutations, observer) {{\n",
       "        var display = window.getComputedStyle(gd).display;\n",
       "        if (!display || display === 'none') {{\n",
       "            console.log([gd, 'removed!']);\n",
       "            Plotly.purge(gd);\n",
       "            observer.disconnect();\n",
       "        }}\n",
       "}});\n",
       "\n",
       "// Listen for the removal of the full notebook cells\n",
       "var notebookContainer = gd.closest('#notebook-container');\n",
       "if (notebookContainer) {{\n",
       "    x.observe(notebookContainer, {childList: true});\n",
       "}}\n",
       "\n",
       "// Listen for the clearing of the current output cell\n",
       "var outputEl = gd.closest('.output');\n",
       "if (outputEl) {{\n",
       "    x.observe(outputEl, {childList: true});\n",
       "}}\n",
       "\n",
       "                        })                };                });            </script>        </div>"
      ]
     },
     "metadata": {},
     "output_type": "display_data"
    }
   ],
   "source": [
    "fig = go.Figure(data=data,\n",
    "               layout=layout)\n",
    "offline.iplot(fig)"
   ]
  },
  {
   "cell_type": "markdown",
   "metadata": {},
   "source": [
    "## Questions"
   ]
  },
  {
   "cell_type": "markdown",
   "metadata": {},
   "source": [
    "### Which airlines are doing a good job capturing customer satisfaction?"
   ]
  },
  {
   "cell_type": "markdown",
   "metadata": {},
   "source": [
    "The airlines that are doing a good job capturing customer satisfaction are Southwest, Virgin America, and Delta. This is evident from the pie charts: these three airlines are those with the highest percentage of positive sentiments."
   ]
  },
  {
   "cell_type": "markdown",
   "metadata": {},
   "source": [
    "### How should American airlines strategically differentiate themselves in the coming year? What opportunities do they have?"
   ]
  },
  {
   "cell_type": "markdown",
   "metadata": {},
   "source": [
    "American Airlines has a very high proportion of negative sentiments; however, it also has a high average confidence level. Their flight services may be reliable, but they ought to consider their customer services and work on improving those as the majority of negative reviews seem to be attributed to that category (see value counts below)."
   ]
  },
  {
   "cell_type": "code",
   "execution_count": 30,
   "metadata": {},
   "outputs": [
    {
     "data": {
      "text/plain": [
       "Customer Service Issue         768\n",
       "Late Flight                    249\n",
       "Cancelled Flight               246\n",
       "Can't Tell                     198\n",
       "Lost Luggage                   149\n",
       "Flight Booking Problems        130\n",
       "Bad Flight                      87\n",
       "Flight Attendant Complaints     87\n",
       "longlines                       34\n",
       "Damaged Luggage                 12\n",
       "Name: negativereason, dtype: int64"
      ]
     },
     "execution_count": 30,
     "metadata": {},
     "output_type": "execute_result"
    }
   ],
   "source": [
    "am_rows['negativereason'].value_counts()"
   ]
  },
  {
   "cell_type": "markdown",
   "metadata": {},
   "source": [
    "### How should Southwest airlines strategically differentiate themselves in the coming year? What opportunities do they have?"
   ]
  },
  {
   "cell_type": "markdown",
   "metadata": {},
   "source": [
    "Southwest airlines has a higher proportion of neutral and positive sentiments than most other airlines according to the pie charts. This is a good basis for marketing: Southwest is reliable and provides all-around good service. Some areas that they can improve on are customer service issues and cancelling flights. If they can work on these areas and prevent so many negative sentiments in these categories, Southwest would really stand out."
   ]
  },
  {
   "cell_type": "code",
   "execution_count": 31,
   "metadata": {},
   "outputs": [
    {
     "data": {
      "text/plain": [
       "Customer Service Issue         391\n",
       "Cancelled Flight               162\n",
       "Can't Tell                     159\n",
       "Late Flight                    152\n",
       "Bad Flight                      90\n",
       "Lost Luggage                    90\n",
       "Flight Booking Problems         61\n",
       "Flight Attendant Complaints     38\n",
       "longlines                       29\n",
       "Damaged Luggage                 14\n",
       "Name: negativereason, dtype: int64"
      ]
     },
     "execution_count": 31,
     "metadata": {},
     "output_type": "execute_result"
    }
   ],
   "source": [
    "sw_rows['negativereason'].value_counts()"
   ]
  }
 ],
 "metadata": {
  "kernelspec": {
   "display_name": "Python 3",
   "language": "python",
   "name": "python3"
  },
  "language_info": {
   "codemirror_mode": {
    "name": "ipython",
    "version": 3
   },
   "file_extension": ".py",
   "mimetype": "text/x-python",
   "name": "python",
   "nbconvert_exporter": "python",
   "pygments_lexer": "ipython3",
   "version": "3.8.3"
  }
 },
 "nbformat": 4,
 "nbformat_minor": 4
}
